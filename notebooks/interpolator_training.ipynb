{
  "cells": [
    {
      "cell_type": "markdown",
      "metadata": {
        "colab_type": "text",
        "id": "view-in-github"
      },
      "source": [
        "<a href=\"https://colab.research.google.com/github/pranshumalik14/intuitive-arm-reach/blob/main/notebooks/planar_n_dof_training_datagen.ipynb\" target=\"_parent\"><img src=\"https://colab.research.google.com/assets/colab-badge.svg\" alt=\"Open In Colab\"/></a>"
      ]
    },
    {
      "cell_type": "code",
      "execution_count": 1,
      "metadata": {},
      "outputs": [],
      "source": [
        "import pandas as pd\n",
        "import numpy as np\n",
        "import re\n",
        "from ast import literal_eval"
      ]
    },
    {
      "cell_type": "code",
      "execution_count": 2,
      "metadata": {},
      "outputs": [
        {
          "data": {
            "text/html": [
              "<div>\n",
              "<style scoped>\n",
              "    .dataframe tbody tr th:only-of-type {\n",
              "        vertical-align: middle;\n",
              "    }\n",
              "\n",
              "    .dataframe tbody tr th {\n",
              "        vertical-align: top;\n",
              "    }\n",
              "\n",
              "    .dataframe thead th {\n",
              "        text-align: right;\n",
              "    }\n",
              "</style>\n",
              "<table border=\"1\" class=\"dataframe\">\n",
              "  <thead>\n",
              "    <tr style=\"text-align: right;\">\n",
              "      <th></th>\n",
              "      <th>init_joint_angles</th>\n",
              "      <th>x_target</th>\n",
              "      <th>y_target</th>\n",
              "      <th>Theta</th>\n",
              "      <th>iter_count</th>\n",
              "      <th>cost</th>\n",
              "    </tr>\n",
              "  </thead>\n",
              "  <tbody>\n",
              "    <tr>\n",
              "      <th>0</th>\n",
              "      <td>[ 0.53623095 -2.44887214]</td>\n",
              "      <td>0.600000</td>\n",
              "      <td>0.000000</td>\n",
              "      <td>[[-3.48573555  2.92546685]\\n [-1.0769412   0.7...</td>\n",
              "      <td>34</td>\n",
              "      <td>17.730630</td>\n",
              "    </tr>\n",
              "    <tr>\n",
              "      <th>1</th>\n",
              "      <td>[ 0.53623095 -2.44887214]</td>\n",
              "      <td>0.459627</td>\n",
              "      <td>0.385673</td>\n",
              "      <td>[[-3.34089464  4.27195985]\\n [-1.22788073  1.0...</td>\n",
              "      <td>15</td>\n",
              "      <td>0.053109</td>\n",
              "    </tr>\n",
              "    <tr>\n",
              "      <th>2</th>\n",
              "      <td>[ 0.53623095 -2.44887214]</td>\n",
              "      <td>0.104189</td>\n",
              "      <td>0.590885</td>\n",
              "      <td>[[-4.13915419  4.76762425]\\n [-2.04968351  2.3...</td>\n",
              "      <td>26</td>\n",
              "      <td>11.319121</td>\n",
              "    </tr>\n",
              "    <tr>\n",
              "      <th>3</th>\n",
              "      <td>[ 0.53623095 -2.44887214]</td>\n",
              "      <td>-0.300000</td>\n",
              "      <td>0.519615</td>\n",
              "      <td>[[-5.03009515  5.05886301]\\n [-2.98740589  2.6...</td>\n",
              "      <td>10</td>\n",
              "      <td>32.716189</td>\n",
              "    </tr>\n",
              "    <tr>\n",
              "      <th>4</th>\n",
              "      <td>[ 0.53623095 -2.44887214]</td>\n",
              "      <td>-0.563816</td>\n",
              "      <td>0.205212</td>\n",
              "      <td>[[-5.60947522  6.06348489]\\n [-4.42397733  2.4...</td>\n",
              "      <td>18</td>\n",
              "      <td>28.291913</td>\n",
              "    </tr>\n",
              "  </tbody>\n",
              "</table>\n",
              "</div>"
            ],
            "text/plain": [
              "           init_joint_angles  x_target  y_target  \\\n",
              "0  [ 0.53623095 -2.44887214]  0.600000  0.000000   \n",
              "1  [ 0.53623095 -2.44887214]  0.459627  0.385673   \n",
              "2  [ 0.53623095 -2.44887214]  0.104189  0.590885   \n",
              "3  [ 0.53623095 -2.44887214] -0.300000  0.519615   \n",
              "4  [ 0.53623095 -2.44887214] -0.563816  0.205212   \n",
              "\n",
              "                                               Theta  iter_count       cost  \n",
              "0  [[-3.48573555  2.92546685]\\n [-1.0769412   0.7...          34  17.730630  \n",
              "1  [[-3.34089464  4.27195985]\\n [-1.22788073  1.0...          15   0.053109  \n",
              "2  [[-4.13915419  4.76762425]\\n [-2.04968351  2.3...          26  11.319121  \n",
              "3  [[-5.03009515  5.05886301]\\n [-2.98740589  2.6...          10  32.716189  \n",
              "4  [[-5.60947522  6.06348489]\\n [-4.42397733  2.4...          18  28.291913  "
            ]
          },
          "execution_count": 2,
          "metadata": {},
          "output_type": "execute_result"
        }
      ],
      "source": [
        "df = pd.read_csv('../training_data/sample_training_data_2D.csv')\n",
        "df.head(5)"
      ]
    },
    {
      "cell_type": "code",
      "execution_count": 3,
      "metadata": {},
      "outputs": [],
      "source": [
        "# This training data is for the following robot\n",
        "# robot_arm = rb.RobotArm2D(\n",
        "#     n_dims = 3,\n",
        "#     link_lengths=np.array([0.4, 0.5, 0.1])\n",
        "# )\n",
        "\n",
        "# TODO: probably export robot info in another CSV"
      ]
    },
    {
      "cell_type": "code",
      "execution_count": 4,
      "metadata": {},
      "outputs": [
        {
          "data": {
            "text/plain": [
              "init_joint_angles     object\n",
              "x_target             float64\n",
              "y_target             float64\n",
              "Theta                 object\n",
              "iter_count             int64\n",
              "cost                 float64\n",
              "dtype: object"
            ]
          },
          "execution_count": 4,
          "metadata": {},
          "output_type": "execute_result"
        }
      ],
      "source": [
        "df.dtypes"
      ]
    },
    {
      "cell_type": "code",
      "execution_count": 5,
      "metadata": {},
      "outputs": [],
      "source": [
        "# Issue is that init_joint_angles and Theta are strings. (Check the CSV to understand more)\n",
        "# It is imperative to first convert those strings into numpy arrays"
      ]
    },
    {
      "cell_type": "code",
      "execution_count": 6,
      "metadata": {},
      "outputs": [
        {
          "data": {
            "text/plain": [
              "'[ 0.53623095 -2.44887214]'"
            ]
          },
          "execution_count": 6,
          "metadata": {},
          "output_type": "execute_result"
        }
      ],
      "source": [
        "df['init_joint_angles'].values[0]"
      ]
    },
    {
      "cell_type": "code",
      "execution_count": 7,
      "metadata": {},
      "outputs": [],
      "source": [
        "def extract_array_from_string(s):\n",
        "    x = literal_eval(','.join(re.sub(r'(?<=\\d)(\\s+)(?=-?\\d)', ',', s).splitlines()))\n",
        "    return np.array(x)"
      ]
    },
    {
      "cell_type": "code",
      "execution_count": 8,
      "metadata": {},
      "outputs": [],
      "source": [
        "df['init_joint_angles'] = df['init_joint_angles'].apply(extract_array_from_string)\n",
        "df['Theta'] = df['Theta'].apply(extract_array_from_string)"
      ]
    },
    {
      "cell_type": "code",
      "execution_count": 9,
      "metadata": {},
      "outputs": [
        {
          "name": "stdout",
          "output_type": "stream",
          "text": [
            "<class 'numpy.ndarray'>\n",
            "<class 'numpy.ndarray'>\n"
          ]
        }
      ],
      "source": [
        "print(type(df['init_joint_angles'].values[0]))\n",
        "print(type(df['Theta'].values[0]))"
      ]
    },
    {
      "cell_type": "code",
      "execution_count": 10,
      "metadata": {},
      "outputs": [
        {
          "data": {
            "text/plain": [
              "array([[-3.48573555,  2.92546685],\n",
              "       [-1.0769412 ,  0.71726378],\n",
              "       [-0.09194794, -1.96637198],\n",
              "       [-0.30857397, -1.11163421],\n",
              "       [-0.64960408,  1.21820904]])"
            ]
          },
          "execution_count": 10,
          "metadata": {},
          "output_type": "execute_result"
        }
      ],
      "source": [
        "df['Theta'].values[0]"
      ]
    },
    {
      "cell_type": "code",
      "execution_count": 11,
      "metadata": {},
      "outputs": [
        {
          "data": {
            "text/html": [
              "<div>\n",
              "<style scoped>\n",
              "    .dataframe tbody tr th:only-of-type {\n",
              "        vertical-align: middle;\n",
              "    }\n",
              "\n",
              "    .dataframe tbody tr th {\n",
              "        vertical-align: top;\n",
              "    }\n",
              "\n",
              "    .dataframe thead th {\n",
              "        text-align: right;\n",
              "    }\n",
              "</style>\n",
              "<table border=\"1\" class=\"dataframe\">\n",
              "  <thead>\n",
              "    <tr style=\"text-align: right;\">\n",
              "      <th></th>\n",
              "      <th>init_joint_angles</th>\n",
              "      <th>x_target</th>\n",
              "      <th>y_target</th>\n",
              "      <th>Theta</th>\n",
              "      <th>iter_count</th>\n",
              "      <th>cost</th>\n",
              "    </tr>\n",
              "  </thead>\n",
              "  <tbody>\n",
              "    <tr>\n",
              "      <th>0</th>\n",
              "      <td>[0.53623095, -2.44887214]</td>\n",
              "      <td>0.600000</td>\n",
              "      <td>0.000000</td>\n",
              "      <td>[[-3.48573555, 2.92546685], [-1.0769412, 0.717...</td>\n",
              "      <td>34</td>\n",
              "      <td>17.730630</td>\n",
              "    </tr>\n",
              "    <tr>\n",
              "      <th>1</th>\n",
              "      <td>[0.53623095, -2.44887214]</td>\n",
              "      <td>0.459627</td>\n",
              "      <td>0.385673</td>\n",
              "      <td>[[-3.34089464, 4.27195985], [-1.22788073, 1.06...</td>\n",
              "      <td>15</td>\n",
              "      <td>0.053109</td>\n",
              "    </tr>\n",
              "    <tr>\n",
              "      <th>2</th>\n",
              "      <td>[0.53623095, -2.44887214]</td>\n",
              "      <td>0.104189</td>\n",
              "      <td>0.590885</td>\n",
              "      <td>[[-4.13915419, 4.76762425], [-2.04968351, 2.32...</td>\n",
              "      <td>26</td>\n",
              "      <td>11.319121</td>\n",
              "    </tr>\n",
              "    <tr>\n",
              "      <th>3</th>\n",
              "      <td>[0.53623095, -2.44887214]</td>\n",
              "      <td>-0.300000</td>\n",
              "      <td>0.519615</td>\n",
              "      <td>[[-5.03009515, 5.05886301], [-2.98740589, 2.65...</td>\n",
              "      <td>10</td>\n",
              "      <td>32.716189</td>\n",
              "    </tr>\n",
              "    <tr>\n",
              "      <th>4</th>\n",
              "      <td>[0.53623095, -2.44887214]</td>\n",
              "      <td>-0.563816</td>\n",
              "      <td>0.205212</td>\n",
              "      <td>[[-5.60947522, 6.06348489], [-4.42397733, 2.47...</td>\n",
              "      <td>18</td>\n",
              "      <td>28.291913</td>\n",
              "    </tr>\n",
              "  </tbody>\n",
              "</table>\n",
              "</div>"
            ],
            "text/plain": [
              "           init_joint_angles  x_target  y_target  \\\n",
              "0  [0.53623095, -2.44887214]  0.600000  0.000000   \n",
              "1  [0.53623095, -2.44887214]  0.459627  0.385673   \n",
              "2  [0.53623095, -2.44887214]  0.104189  0.590885   \n",
              "3  [0.53623095, -2.44887214] -0.300000  0.519615   \n",
              "4  [0.53623095, -2.44887214] -0.563816  0.205212   \n",
              "\n",
              "                                               Theta  iter_count       cost  \n",
              "0  [[-3.48573555, 2.92546685], [-1.0769412, 0.717...          34  17.730630  \n",
              "1  [[-3.34089464, 4.27195985], [-1.22788073, 1.06...          15   0.053109  \n",
              "2  [[-4.13915419, 4.76762425], [-2.04968351, 2.32...          26  11.319121  \n",
              "3  [[-5.03009515, 5.05886301], [-2.98740589, 2.65...          10  32.716189  \n",
              "4  [[-5.60947522, 6.06348489], [-4.42397733, 2.47...          18  28.291913  "
            ]
          },
          "execution_count": 11,
          "metadata": {},
          "output_type": "execute_result"
        }
      ],
      "source": [
        "df.head(5)"
      ]
    },
    {
      "cell_type": "markdown",
      "metadata": {},
      "source": [
        "## Data Descriptors\n",
        "- Init joint angles: Joint configuration at time 0 of robot links\n",
        "- x_target, y_target: desired target point on the plane for the end effector \n",
        "- Theta: output of the PIBB matrix (trained Theta)\n",
        "- iter_count: (optional) number of iterations it took PIBB to reach to the final Theta\n",
        "- Cost: (optional) cost function evaluated for this Theta \n",
        "\n",
        "Note: \n",
        "- this data is only for a specific 2D (planar) robot\n",
        "- The last two params could be used for the interpolation algorithm (should prefer lower iter_count or cheaper cost)\n"
      ]
    }
  ],
  "metadata": {
    "accelerator": "GPU",
    "colab": {
      "authorship_tag": "ABX9TyOwluUdKUJEJNVxOythvaBM",
      "collapsed_sections": [],
      "include_colab_link": true,
      "name": "planar_n_dof_training_datagen.ipynb",
      "provenance": []
    },
    "interpreter": {
      "hash": "b5d8693c48bf35d31fbbccaa469d7cfd59f1a894ae9e420730f73a53a6136327"
    },
    "kernelspec": {
      "display_name": "Julia",
      "language": "python",
      "name": "python3"
    },
    "language_info": {
      "codemirror_mode": {
        "name": "ipython",
        "version": 3
      },
      "file_extension": ".py",
      "mimetype": "text/x-python",
      "name": "python",
      "nbconvert_exporter": "python",
      "pygments_lexer": "ipython3",
      "version": "3.7.4"
    }
  },
  "nbformat": 4,
  "nbformat_minor": 0
}
