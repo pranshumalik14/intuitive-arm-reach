{
  "cells": [
    {
      "cell_type": "markdown",
      "metadata": {
        "colab_type": "text",
        "id": "view-in-github"
      },
      "source": [
        "<a href=\"https://colab.research.google.com/github/pranshumalik14/intuitive-arm-reach/blob/main/notebooks/planar_n_dof_training_datagen.ipynb\" target=\"_parent\"><img src=\"https://colab.research.google.com/assets/colab-badge.svg\" alt=\"Open In Colab\"/></a>"
      ]
    },
    {
      "cell_type": "code",
      "execution_count": 13,
      "metadata": {},
      "outputs": [],
      "source": [
        "import pandas as pd\n",
        "import numpy as np\n",
        "import re\n",
        "from ast import literal_eval"
      ]
    },
    {
      "cell_type": "markdown",
      "metadata": {},
      "source": [
        "## Input Data Cleaning"
      ]
    },
    {
      "cell_type": "code",
      "execution_count": 14,
      "metadata": {},
      "outputs": [],
      "source": [
        "# read data\n",
        "df = pd.read_csv('../training_data/sample_training_data_2D.csv')"
      ]
    },
    {
      "cell_type": "code",
      "execution_count": 15,
      "metadata": {},
      "outputs": [
        {
          "name": "stdout",
          "output_type": "stream",
          "text": [
            "Input sizes are: \n",
            " joint angles:  (670, 2) \n",
            "x_target:  (670, 1) \n",
            "y_target:  (670, 1)\n",
            "Output size is:\n",
            " theta:  (670, 5, 2)\n"
          ]
        }
      ],
      "source": [
        "def str_to_floats(angle_str):\n",
        "    angle_floats = angle_str[1:len(angle_str)-1].strip().split(\" \")\n",
        "    angle_floats = [angle for angle in angle_floats if angle != \"\"]\n",
        "    angle_floats = [float(angle) for angle in angle_floats]\n",
        "    return angle_floats\n",
        "\n",
        "\n",
        "# reshape x target\n",
        "x_target = df['x_target']\n",
        "x_target_np = x_target.to_numpy()\n",
        "x_target = np.reshape(x_target_np, (x_target_np.shape[0], 1))\n",
        "\n",
        "# rehsape y target\n",
        "y_target = df['y_target']\n",
        "y_target_np = y_target.to_numpy()\n",
        "y_target = np.reshape(x_target_np, (y_target_np.shape[0], 1))\n",
        "\n",
        "# reshape joint angles\n",
        "\n",
        "joint_angles = df['init_joint_angles']\n",
        "joint_angle_floats = []\n",
        "for angles in joint_angles:\n",
        "    joint_angle_floats.append(str_to_floats(angles))\n",
        "joint_angle_np = np.array(joint_angle_floats)\n",
        "joint_angles = joint_angle_np\n",
        "\n",
        "# reshape theta\n",
        "\n",
        "theta = df['Theta']\n",
        "temp_theta = np.zeros(shape=(670, 5, 2)) #670 for each element, 2 for x & y, 5 for gaussian basis functions\n",
        "for t in range(0, len(temp_theta)):\n",
        "    if theta[t].startswith(\"[\") and theta[t].endswith(\"]\"):\n",
        "        temp = theta[t][1:-1]\n",
        "    else:\n",
        "        print(\"Error\")\n",
        "    tp = temp.split(\"\\r\\n \")\n",
        "    for i in range(0, len(tp)):\n",
        "        temp_array = str_to_floats(tp[i])\n",
        "        temp_theta[t][i] = temp_array\n",
        "   \n",
        "theta = temp_theta\n",
        "\n",
        "print(\"Input sizes are: \\n\", \"joint angles: \", str(joint_angles.shape), \"\\nx_target: \",\n",
        " str(x_target.shape), \"\\ny_target: \", str(y_target.shape))\n",
        "print(\"Output size is:\\n theta: \", str(theta.shape))"
      ]
    },
    {
      "cell_type": "code",
      "execution_count": 28,
      "metadata": {},
      "outputs": [],
      "source": [
        "def NormalizeData(data):\n",
        "    return (data - np.min(data)) / (np.max(data) - np.min(data))\n",
        "\n",
        "concat_input = np.zeros(shape=(x_target.shape[0], 4)) # joint angles, x_target, y_target\n",
        "normalize_joint_angles = NormalizeData(joint_angles)\n",
        "normalize_x_target = NormalizeData(x_target)\n",
        "normalize_y_target = NormalizeData(y_target)\n",
        "\n",
        "for i in range(0, len(concat_input)):\n",
        "    concat_input[i][0] = normalize_joint_angles[i][0]\n",
        "    concat_input[i][1] = normalize_joint_angles[i][1]\n",
        "    concat_input[i][2] = normalize_x_target[i]\n",
        "    concat_input[i][3] = normalize_y_target[i]\n",
        "concat_input = NormalizeData(concat_input)\n",
        "\n",
        "flatten_theta = np.zeros(shape=(theta.shape[0], theta.shape[1]*theta.shape[2]))\n",
        "for i in range(0, len(flatten_theta)):\n",
        "    flatten_theta[i] = theta[i].flatten()"
      ]
    },
    {
      "cell_type": "markdown",
      "metadata": {},
      "source": [
        "## Model Creation"
      ]
    },
    {
      "cell_type": "code",
      "execution_count": 29,
      "metadata": {},
      "outputs": [],
      "source": [
        "from tensorflow import keras\n",
        "from keras.layers import Layer\n",
        "from keras import backend as K\n",
        "\n",
        "class RBFLayer(Layer):\n",
        "    def __init__(self, units, gamma, **kwargs):\n",
        "        super(RBFLayer, self).__init__(**kwargs)\n",
        "        self.units = units\n",
        "        self.gamma = K.cast_to_floatx(gamma)\n",
        "\n",
        "    def build(self, input_shape):\n",
        "#         print(input_shape)\n",
        "#         print(self.units)\n",
        "        self.mu = self.add_weight(name='mu',\n",
        "                                  shape=(int(input_shape[1]), self.units),\n",
        "                                  initializer='uniform',\n",
        "                                  trainable=True)\n",
        "        super(RBFLayer, self).build(input_shape)\n",
        "\n",
        "    def call(self, inputs):\n",
        "        diff = K.expand_dims(inputs) - self.mu\n",
        "        l2 = K.sum(K.pow(diff, 2), axis=1)\n",
        "        res = K.exp(-1 * self.gamma * l2)\n",
        "        return res\n",
        "\n",
        "    def compute_output_shape(self, input_shape):\n",
        "        return (input_shape[0], self.units)"
      ]
    },
    {
      "cell_type": "code",
      "execution_count": 55,
      "metadata": {},
      "outputs": [],
      "source": [
        "from keras.layers import Dense, Flatten\n",
        "from keras.models import Sequential\n",
        "from keras.losses import mean_squared_error  \n",
        "\n",
        "model = Sequential()\n",
        "model.add(RBFLayer(100, 0.5))\n",
        "model.add(Dense(70, activation='relu', name='second'))\n",
        "model.add(Dense(40, activation='relu', name='fourth'))\n",
        "model.add(Dense(10, activation='relu', name='final'))\n",
        "opt = keras.optimizers.Adam(learning_rate=0.01)\n",
        "model.compile(optimizer=opt, loss=mean_squared_error)"
      ]
    },
    {
      "cell_type": "markdown",
      "metadata": {},
      "source": [
        "## Train Model"
      ]
    },
    {
      "cell_type": "code",
      "execution_count": 56,
      "metadata": {},
      "outputs": [
        {
          "data": {
            "image/png": "[encoded data removed]",
            "text/plain": [
              "<Figure size 432x288 with 1 Axes>"
            ]
          },
          "metadata": {
            "needs_background": "light"
          },
          "output_type": "display_data"
        }
      ],
      "source": [
        "import matplotlib.pyplot as plt \n",
        "history = model.fit(concat_input, flatten_theta, batch_size=256, epochs=1000, verbose=0)\n",
        "# list all data in history\n",
        "# # summarize history for accuracy\n",
        "# plt.plot(history.history['accuracy'])\n",
        "# plt.plot(history.history['val_accuracy'])\n",
        "# plt.title('model accuracy')\n",
        "# plt.ylabel('accuracy')\n",
        "# plt.xlabel('epoch')\n",
        "# plt.legend(['train', 'test'], loc='upper left')\n",
        "# plt.show()\n",
        "# summarize history for loss\n",
        "plt.plot(history.history['loss'])\n",
        "# print(history.history['loss'])\n",
        "# plt.plot(history.history['val_loss'])\n",
        "# plt.title('model loss')\n",
        "plt.ylabel('loss')\n",
        "plt.xlabel('epoch')\n",
        "# plt.legend(['train', 'test'], loc='upper left')\n",
        "plt.show()\n"
      ]
    },
    {
      "cell_type": "code",
      "execution_count": 3,
      "metadata": {},
      "outputs": [],
      "source": [
        "# This training data is for the following robot\n",
        "# robot_arm = rb.RobotArm2D(\n",
        "#     n_dims = 3,\n",
        "#     link_lengths=np.array([0.4, 0.5, 0.1])\n",
        "# )\n",
        "\n",
        "# TODO: probably export robot info in another CSV"
      ]
    },
    {
      "cell_type": "code",
      "execution_count": 4,
      "metadata": {},
      "outputs": [
        {
          "data": {
            "text/plain": [
              "init_joint_angles     object\n",
              "x_target             float64\n",
              "y_target             float64\n",
              "Theta                 object\n",
              "iter_count             int64\n",
              "cost                 float64\n",
              "dtype: object"
            ]
          },
          "execution_count": 4,
          "metadata": {},
          "output_type": "execute_result"
        }
      ],
      "source": [
        "df.dtypes"
      ]
    },
    {
      "cell_type": "code",
      "execution_count": 5,
      "metadata": {},
      "outputs": [],
      "source": [
        "# Issue is that init_joint_angles and Theta are strings. (Check the CSV to understand more)\n",
        "# It is imperative to first convert those strings into numpy arrays"
      ]
    },
    {
      "cell_type": "code",
      "execution_count": 6,
      "metadata": {},
      "outputs": [
        {
          "data": {
            "text/plain": [
              "'[ 0.53623095 -2.44887214]'"
            ]
          },
          "execution_count": 6,
          "metadata": {},
          "output_type": "execute_result"
        }
      ],
      "source": [
        "df['init_joint_angles'].values[0]"
      ]
    },
    {
      "cell_type": "code",
      "execution_count": 7,
      "metadata": {},
      "outputs": [],
      "source": [
        "def extract_array_from_string(s):\n",
        "    x = literal_eval(','.join(re.sub(r'(?<=\\d)(\\s+)(?=-?\\d)', ',', s).splitlines()))\n",
        "    return np.array(x)"
      ]
    },
    {
      "cell_type": "code",
      "execution_count": 8,
      "metadata": {},
      "outputs": [],
      "source": [
        "df['init_joint_angles'] = df['init_joint_angles'].apply(extract_array_from_string)\n",
        "df['Theta'] = df['Theta'].apply(extract_array_from_string)"
      ]
    },
    {
      "cell_type": "code",
      "execution_count": 9,
      "metadata": {},
      "outputs": [
        {
          "name": "stdout",
          "output_type": "stream",
          "text": [
            "<class 'numpy.ndarray'>\n",
            "<class 'numpy.ndarray'>\n"
          ]
        }
      ],
      "source": [
        "print(type(df['init_joint_angles'].values[0]))\n",
        "print(type(df['Theta'].values[0]))"
      ]
    },
    {
      "cell_type": "code",
      "execution_count": 10,
      "metadata": {},
      "outputs": [
        {
          "data": {
            "text/plain": [
              "array([[-3.48573555,  2.92546685],\n",
              "       [-1.0769412 ,  0.71726378],\n",
              "       [-0.09194794, -1.96637198],\n",
              "       [-0.30857397, -1.11163421],\n",
              "       [-0.64960408,  1.21820904]])"
            ]
          },
          "execution_count": 10,
          "metadata": {},
          "output_type": "execute_result"
        }
      ],
      "source": [
        "df['Theta'].values[0]"
      ]
    },
    {
      "cell_type": "code",
      "execution_count": 12,
      "metadata": {},
      "outputs": [
        {
          "data": {
            "text/html": [
              "<div>\n",
              "<style scoped>\n",
              "    .dataframe tbody tr th:only-of-type {\n",
              "        vertical-align: middle;\n",
              "    }\n",
              "\n",
              "    .dataframe tbody tr th {\n",
              "        vertical-align: top;\n",
              "    }\n",
              "\n",
              "    .dataframe thead th {\n",
              "        text-align: right;\n",
              "    }\n",
              "</style>\n",
              "<table border=\"1\" class=\"dataframe\">\n",
              "  <thead>\n",
              "    <tr style=\"text-align: right;\">\n",
              "      <th></th>\n",
              "      <th>init_joint_angles</th>\n",
              "      <th>x_target</th>\n",
              "      <th>y_target</th>\n",
              "      <th>Theta</th>\n",
              "      <th>iter_count</th>\n",
              "      <th>cost</th>\n",
              "    </tr>\n",
              "  </thead>\n",
              "  <tbody>\n",
              "    <tr>\n",
              "      <th>0</th>\n",
              "      <td>[ 0.53623095 -2.44887214]</td>\n",
              "      <td>0.600000</td>\n",
              "      <td>0.000000</td>\n",
              "      <td>[[-3.48573555  2.92546685]\\r\\n [-1.0769412   0...</td>\n",
              "      <td>34</td>\n",
              "      <td>17.730630</td>\n",
              "    </tr>\n",
              "    <tr>\n",
              "      <th>1</th>\n",
              "      <td>[ 0.53623095 -2.44887214]</td>\n",
              "      <td>0.459627</td>\n",
              "      <td>0.385673</td>\n",
              "      <td>[[-3.34089464  4.27195985]\\r\\n [-1.22788073  1...</td>\n",
              "      <td>15</td>\n",
              "      <td>0.053109</td>\n",
              "    </tr>\n",
              "    <tr>\n",
              "      <th>2</th>\n",
              "      <td>[ 0.53623095 -2.44887214]</td>\n",
              "      <td>0.104189</td>\n",
              "      <td>0.590885</td>\n",
              "      <td>[[-4.13915419  4.76762425]\\r\\n [-2.04968351  2...</td>\n",
              "      <td>26</td>\n",
              "      <td>11.319121</td>\n",
              "    </tr>\n",
              "    <tr>\n",
              "      <th>3</th>\n",
              "      <td>[ 0.53623095 -2.44887214]</td>\n",
              "      <td>-0.300000</td>\n",
              "      <td>0.519615</td>\n",
              "      <td>[[-5.03009515  5.05886301]\\r\\n [-2.98740589  2...</td>\n",
              "      <td>10</td>\n",
              "      <td>32.716189</td>\n",
              "    </tr>\n",
              "    <tr>\n",
              "      <th>4</th>\n",
              "      <td>[ 0.53623095 -2.44887214]</td>\n",
              "      <td>-0.563816</td>\n",
              "      <td>0.205212</td>\n",
              "      <td>[[-5.60947522  6.06348489]\\r\\n [-4.42397733  2...</td>\n",
              "      <td>18</td>\n",
              "      <td>28.291913</td>\n",
              "    </tr>\n",
              "  </tbody>\n",
              "</table>\n",
              "</div>"
            ],
            "text/plain": [
              "           init_joint_angles  x_target  y_target  \\\n",
              "0  [ 0.53623095 -2.44887214]  0.600000  0.000000   \n",
              "1  [ 0.53623095 -2.44887214]  0.459627  0.385673   \n",
              "2  [ 0.53623095 -2.44887214]  0.104189  0.590885   \n",
              "3  [ 0.53623095 -2.44887214] -0.300000  0.519615   \n",
              "4  [ 0.53623095 -2.44887214] -0.563816  0.205212   \n",
              "\n",
              "                                               Theta  iter_count       cost  \n",
              "0  [[-3.48573555  2.92546685]\\r\\n [-1.0769412   0...          34  17.730630  \n",
              "1  [[-3.34089464  4.27195985]\\r\\n [-1.22788073  1...          15   0.053109  \n",
              "2  [[-4.13915419  4.76762425]\\r\\n [-2.04968351  2...          26  11.319121  \n",
              "3  [[-5.03009515  5.05886301]\\r\\n [-2.98740589  2...          10  32.716189  \n",
              "4  [[-5.60947522  6.06348489]\\r\\n [-4.42397733  2...          18  28.291913  "
            ]
          },
          "execution_count": 12,
          "metadata": {},
          "output_type": "execute_result"
        }
      ],
      "source": [
        "df.head(5)"
      ]
    },
    {
      "cell_type": "markdown",
      "metadata": {},
      "source": [
        "## Data Descriptors\n",
        "- Init joint angles: Joint configuration at time 0 of robot links\n",
        "- x_target, y_target: desired target point on the plane for the end effector \n",
        "- Theta: output of the PIBB matrix (trained Theta)\n",
        "- iter_count: (optional) number of iterations it took PIBB to reach to the final Theta\n",
        "- Cost: (optional) cost function evaluated for this Theta \n",
        "\n",
        "Note: \n",
        "- this data is only for a specific 2D (planar) robot\n",
        "- The last two params could be used for the interpolation algorithm (should prefer lower iter_count or cheaper cost)\n"
      ]
    }
  ],
  "metadata": {
    "accelerator": "GPU",
    "colab": {
      "authorship_tag": "ABX9TyOwluUdKUJEJNVxOythvaBM",
      "collapsed_sections": [],
      "include_colab_link": true,
      "name": "planar_n_dof_training_datagen.ipynb",
      "provenance": []
    },
    "interpreter": {
      "hash": "b5d8693c48bf35d31fbbccaa469d7cfd59f1a894ae9e420730f73a53a6136327"
    },
    "kernelspec": {
      "display_name": "Julia",
      "language": "python",
      "name": "python3"
    },
    "language_info": {
      "codemirror_mode": {
        "name": "ipython",
        "version": 3
      },
      "file_extension": ".py",
      "mimetype": "text/x-python",
      "name": "python",
      "nbconvert_exporter": "python",
      "pygments_lexer": "ipython3",
      "version": "3.7.3"
    }
  },
  "nbformat": 4,
  "nbformat_minor": 0
}
