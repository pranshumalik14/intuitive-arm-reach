{
 "cells": [
  {
   "cell_type": "markdown",
   "metadata": {
    "colab_type": "text",
    "id": "view-in-github"
   },
   "source": [
    "<a href=\"https://colab.research.google.com/github/pranshumalik14/intuitive-arm-reach/blob/main/notebooks/planar_n_dof_training_datagen.ipynb\" target=\"_parent\"><img src=\"https://colab.research.google.com/assets/colab-badge.svg\" alt=\"Open In Colab\"/></a>"
   ]
  },
  {
   "cell_type": "code",
   "execution_count": 1,
   "metadata": {},
   "outputs": [],
   "source": [
    "import pandas as pd\n",
    "import numpy as np\n",
    "import re\n",
    "from ast import literal_eval\n",
    "\n",
    "import sys\n",
    "sys.path.append('../scripts')\n",
    "sys.path.append('../src')"
   ]
  },
  {
   "cell_type": "markdown",
   "metadata": {},
   "source": [
    "# Purpose of notebook\n",
    "- For a given robot and its respective training data, train an interpolator\n",
    "\n",
    "# Sections of the notebook\n",
    "1. Set up the robot object and respecify the task description\n",
    "1. Load the csv data\n",
    "1. Train the interpolator\n",
    "1. Visualize the results"
   ]
  },
  {
   "cell_type": "markdown",
   "metadata": {},
   "source": [
    "# 1. Set up Robot and task description\n",
    "This includes number of basis functions (B), the time step (dt), the simulation time (T)"
   ]
  },
  {
   "cell_type": "code",
   "execution_count": 2,
   "metadata": {},
   "outputs": [],
   "source": [
    "from robot_arm import RobotArm, RobotArm2D, RobotArm3D\n",
    "from task_info import TaskInfo, numpy_linspace\n",
    "\n",
    "robot_arm = RobotArm2D(\n",
    "    n_dims      =   2,\n",
    "    link_lengths=   np.array([0.6, 0.4])\n",
    ")\n",
    "\n",
    "lambda_init = 0.05  \n",
    "lambda_min  = 0.05  \n",
    "lambda_max  = 5     \n",
    "dt          = 1e-2  \n",
    "T           = 1     \n",
    "h           = 10    \n",
    "B           = 5\n",
    "K           = 20    \n",
    "\n",
    "N, _, _ = robot_arm.get_arm_params()\n",
    "\n",
    "\n",
    "task_info = TaskInfo(\n",
    "    robotarm    =   robot_arm,\n",
    "    lambda_min  =   lambda_min,\n",
    "    lambda_max  =   lambda_max,\n",
    "    B           =   B,\n",
    "    K           =   K,\n",
    "    N           =   N,\n",
    "    T           =   T,\n",
    "    h           =   h,\n",
    "    target_pos  =   None,\n",
    "    dt          =   dt\n",
    ")"
   ]
  },
  {
   "cell_type": "code",
   "execution_count": null,
   "metadata": {},
   "outputs": [],
   "source": [
    "from training_data import gen_training_data\n",
    "GEN_TRAIN_DATA = False\n",
    "df = None\n",
    "\n",
    "if GEN_TRAIN_DATA:\n",
    "    \n",
    "else:\n",
    "    # load trained data\n",
    "    # read data\n",
    "    df = pd.read_csv('../training_data/sample_training_data_2D.csv')"
   ]
  },
  {
   "cell_type": "markdown",
   "metadata": {},
   "source": [
    "## Data Descriptors\n",
    "- Init joint angles: Joint configuration at time 0 of robot links\n",
    "- x_target, y_target: desired target point on the plane for the end effector \n",
    "- Theta: output of the PIBB matrix (trained Theta)\n",
    "- iter_count: (optional) number of iterations it took PIBB to reach to the final Theta\n",
    "- Cost: (optional) cost function evaluated for this Theta \n",
    "\n",
    "Note: \n",
    "- this data is only for a specific 2D (planar) robot\n",
    "- The last two params could be used for the interpolation algorithm (should prefer lower iter_count or cheaper cost)"
   ]
  },
  {
   "cell_type": "markdown",
   "metadata": {},
   "source": [
    "# 2. Input Data Loading and Cleaning"
   ]
  },
  {
   "cell_type": "code",
   "execution_count": 4,
   "metadata": {},
   "outputs": [
    {
     "name": "stdout",
     "output_type": "stream",
     "text": [
      "Input sizes are: \n",
      " joint angles:  (670, 2) \n",
      "x_target:  (670, 1) \n",
      "y_target:  (670, 1)\n",
      "Output size is:\n",
      " theta:  (670, 5, 2)\n"
     ]
    }
   ],
   "source": [
    "from sys import platform\n",
    "\n",
    "def str_to_floats(angle_str):\n",
    "    angle_floats = angle_str[1:len(angle_str)-1].strip().split(\" \")\n",
    "    angle_floats = [angle for angle in angle_floats if angle != \"\"]\n",
    "    angle_floats = [float(angle) for angle in angle_floats]\n",
    "    return angle_floats\n",
    "\n",
    "delimiter = \"\\r\\n \" if platform == \"win32\" else \"\\n \"\n",
    "\n",
    "# reshape x target\n",
    "x_target = df['x_target']\n",
    "x_target_np = x_target.to_numpy()\n",
    "x_target = np.reshape(x_target_np, (x_target_np.shape[0], 1))\n",
    "\n",
    "# rehsape y target\n",
    "y_target = df['y_target']\n",
    "y_target_np = y_target.to_numpy()\n",
    "y_target = np.reshape(x_target_np, (y_target_np.shape[0], 1))\n",
    "\n",
    "# reshape joint angles\n",
    "\n",
    "joint_angles = df['init_joint_angles']\n",
    "joint_angle_floats = []\n",
    "for angles in joint_angles:\n",
    "    joint_angle_floats.append(str_to_floats(angles))\n",
    "joint_angle_np = np.array(joint_angle_floats)\n",
    "joint_angles = joint_angle_np\n",
    "\n",
    "# reshape theta\n",
    "\n",
    "theta = df['Theta']\n",
    "temp_theta = np.zeros(shape=(670, 5, 2)) #670 for each element, 2 for x & y, 5 for gaussian basis functions\n",
    "for t in range(0, len(temp_theta)):\n",
    "    if theta[t].startswith(\"[\") and theta[t].endswith(\"]\"):\n",
    "        temp = theta[t][1:-1]\n",
    "    else:\n",
    "        print(\"Error\")\n",
    "    tp = temp.split(delimiter)\n",
    "    for i in range(0, len(tp)):\n",
    "        temp_array = str_to_floats(tp[i])\n",
    "        temp_theta[t][i] = temp_array\n",
    "   \n",
    "theta = temp_theta\n",
    "\n",
    "print(\"Input sizes are: \\n\", \"joint angles: \", str(joint_angles.shape), \"\\nx_target: \",\n",
    " str(x_target.shape), \"\\ny_target: \", str(y_target.shape))\n",
    "print(\"Output size is:\\n theta: \", str(theta.shape))"
   ]
  },
  {
   "cell_type": "code",
   "execution_count": 5,
   "metadata": {},
   "outputs": [
    {
     "name": "stdout",
     "output_type": "stream",
     "text": [
      "(670, 5, 2)\n"
     ]
    }
   ],
   "source": [
    "def NormalizeData(data):\n",
    "    return (data - np.min(data)) / (np.max(data) - np.min(data))\n",
    "\n",
    "concat_input = np.zeros(shape=(x_target.shape[0], 4)) # joint angles, x_target, y_target\n",
    "normalize_joint_angles = NormalizeData(joint_angles)\n",
    "normalize_x_target = NormalizeData(x_target)\n",
    "normalize_y_target = NormalizeData(y_target)\n",
    "\n",
    "for i in range(0, len(concat_input)):\n",
    "    concat_input[i][0] = normalize_joint_angles[i][0]\n",
    "    concat_input[i][1] = normalize_joint_angles[i][1]\n",
    "    concat_input[i][2] = normalize_x_target[i]\n",
    "    concat_input[i][3] = normalize_y_target[i]\n",
    "concat_input = NormalizeData(concat_input)\n",
    "\n",
    "print(theta.shape)\n",
    "flatten_theta = np.zeros(shape=(theta.shape[0], theta.shape[1]*theta.shape[2]))\n",
    "for i in range(0, len(flatten_theta)):\n",
    "    flatten_theta[i] = theta[i].flatten()"
   ]
  },
  {
   "cell_type": "markdown",
   "metadata": {},
   "source": [
    "# 3. Model Creation"
   ]
  },
  {
   "cell_type": "code",
   "execution_count": 6,
   "metadata": {},
   "outputs": [],
   "source": [
    "from rbf_petra.rbflayer import RBFLayer\n",
    "from rbf_petra.random_initializer import InitCentersRandom\n",
    "from rbf_petra.kmeans_initializer import InitCentersKMeans\n",
    "\n",
    "from tensorflow import keras\n",
    "from keras.layers import Dense, Flatten\n",
    "from keras.models import Sequential\n",
    "from keras.losses import mean_squared_error, cosine_similarity, mean_squared_logarithmic_error\n",
    "import matplotlib.pyplot as plt \n",
    "import datetime\n",
    "\n",
    "def tune_model_plot(input_data, output_data, num_layers=1, learning_rate=0.001, batch_size=10, initializer = \"Random\", \n",
    "    loss= \"cosine_similarity\", beta=2.0, validation_split=0.5, optimizer=\"Adam\", epochs=300):\n",
    "    \n",
    "    model = Sequential()\n",
    "    if initializer == \"Random\":\n",
    "        tit_init= \"rand\"\n",
    "        rbflayer = RBFLayer(10,\n",
    "                            initializer=InitCentersRandom(concat_input),\n",
    "                            betas=beta,\n",
    "                            input_shape=(4,))\n",
    "    elif initializer == \"InitCentersKMeans\":\n",
    "        tit_init=\"kmeans\"\n",
    "        rbflayer = RBFLayer(batch_size,\n",
    "                            initializer=InitCentersKMeans(concat_input),\n",
    "                            betas=beta,\n",
    "                            input_shape=(4,))\n",
    "    else:\n",
    "        print(\"Wrong initializer\")\n",
    "        return\n",
    "    model.add(rbflayer)\n",
    "\n",
    "    if num_layers == 1:\n",
    "        tit_lay=\"1\"\n",
    "        pass\n",
    "    elif num_layers == 2:\n",
    "        tit_lay=\"2\"\n",
    "        model.add(Dense(50, activation='relu'))\n",
    "    elif num_layers == 3:\n",
    "        tit_lay=\"3\"\n",
    "        model.add(Dense(70, activation='relu'))\n",
    "        model.add(Dense(40, activation='relu'))\n",
    "    elif num_layers == 4:\n",
    "        tit_lay=\"4\"\n",
    "        model.add(Dense(80, activation='relu'))\n",
    "        model.add(Dense(60, activation='relu'))\n",
    "        model.add(Dense(40, activation='relu'))\n",
    "    else:\n",
    "        print(\"Incorrect num_layers\")\n",
    "        return\n",
    "    model.add(Dense(10))\n",
    "    if optimizer == \"Adam\":\n",
    "        tit_opt = \"adam\"\n",
    "        opt = keras.optimizers.Adam(learning_rate=learning_rate)\n",
    "    elif optimizer == \"SGD\":\n",
    "        tit_opt = \"sgd\"\n",
    "        tf.keras.optimizers.SGD(learning_rate=learning_rate, momentum=0.0, nesterov=False, name=\"SGD\", **kwargs)\n",
    "    elif optimizer == \"RMSprop\":\n",
    "        tit_opt = \"rmsprop\"\n",
    "        tf.keras.optimizers.RMSprop(\n",
    "            learning_rate=learning_rate,\n",
    "            rho=0.9,\n",
    "            momentum=0.0,\n",
    "            epsilon=1e-07,\n",
    "            centered=False,\n",
    "            name=\"RMSprop\",\n",
    "            **kwargs\n",
    "        )\n",
    "    else:\n",
    "        print(\"Invalid optimizer\")\n",
    "        return\n",
    "    if loss == \"cosine_similarity\":\n",
    "        tit_loss = \"cos_sim\"\n",
    "        model.compile(optimizer=opt, loss=cosine_similarity)\n",
    "    elif loss == \"MSE\":\n",
    "        tit_loss = \"mse\"\n",
    "        model.compile(optimizer=opt, loss=mean_squared_error)\n",
    "    elif loss == \"MSElog\":\n",
    "        tit_loss = \"mselog\"\n",
    "        model.compile(optimizer=opt, loss=mean_squared_logarithmic_error)\n",
    "    else:\n",
    "        print(\"Invalid loss\")\n",
    "        return\n",
    "    history = model.fit(input_data, output_data, batch_size=batch_size, epochs=epochs, verbose=0, validation_split=validation_split)\n",
    "\n",
    "    w = 5\n",
    "    h = 5\n",
    "    d = 70\n",
    "    fig = plt.figure(figsize=(w, h), dpi=d)\n",
    "    plt.plot(history.history['loss'])\n",
    "    plt.plot(history.history['val_loss'])\n",
    "    plt.ylabel('loss')\n",
    "    plt.xlabel('epoch')\n",
    "    plt.legend(['train', 'val'], loc='upper left')\n",
    "    txt = \"num_layers=,\" + str(num_layers) + \", learning_rate=\" + str(learning_rate) + \", batch_size=\" + str(batch_size) + \", initializer=\" + initializer + \",\\nloss=\" + loss + \", beta=\" + str(beta) + \", validation_split=\" + str(validation_split) + \", optimizer\" + optimizer + \", epochs=\" + str(epochs)\n",
    "\n",
    "    fig_title = tit_init + \"_\" + str(epochs) + \"_\" + tit_lay + \"_\" + tit_loss + \"_\" + tit_opt\n",
    "    plt.tight_layout()\n",
    "    # text(0, 0, txt, ha='left', wrap=True)\n",
    "    dt = datetime.datetime.today()\n",
    "    title = str(dt.year) + \"/\" + str(dt.month) + \"/\" + str(dt.day) + \" RBFPetra Implementation\"\n",
    "    # plt.title(title)\n",
    "    plt.suptitle(title + \"\\n\" + txt, fontsize=10, y=1.1)\n",
    "    # plt.show()\n",
    "    # TODO: savefig throws an error\n",
    "    # fig.savefig('./parameter_tune_plots/' + fig_title + '.png', bbox_inches='tight')\n",
    "\n",
    "    return model\n"
   ]
  },
  {
   "cell_type": "code",
   "execution_count": 7,
   "metadata": {},
   "outputs": [
    {
     "name": "stderr",
     "output_type": "stream",
     "text": [
      "2022-02-27 09:57:07.572501: I tensorflow/core/platform/cpu_feature_guard.cc:151] This TensorFlow binary is optimized with oneAPI Deep Neural Network Library (oneDNN) to use the following CPU instructions in performance-critical operations:  AVX2 FMA\n",
      "To enable them in other operations, rebuild TensorFlow with the appropriate compiler flags.\n"
     ]
    },
    {
     "data": {
      "image/png": "[encoded data removed]",
      "text/plain": [
       "<Figure size 350x350 with 1 Axes>"
      ]
     },
     "metadata": {},
     "output_type": "display_data"
    }
   ],
   "source": [
    "model = tune_model_plot(input_data=concat_input, output_data=flatten_theta, batch_size=128)"
   ]
  },
  {
   "cell_type": "markdown",
   "metadata": {},
   "source": [
    "## Train Model"
   ]
  },
  {
   "cell_type": "code",
   "execution_count": 8,
   "metadata": {},
   "outputs": [],
   "source": [
    "# import matplotlib.pyplot as plt \n",
    "# history = model.fit(concat_input, flatten_theta, batch_size=64, epochs=2000, verbose=0, validation_split=0.5)\n",
    "# # list all data in history\n",
    "# # # summarize history for accuracy\n",
    "# # plt.plot(history.history['accuracy'])\n",
    "# # plt.plot(history.history['val_accuracy'])\n",
    "# # plt.title('model accuracy')\n",
    "# # plt.ylabel('accuracy')\n",
    "# # plt.xlabel('epoch')\n",
    "# # plt.legend(['train', 'test'], loc='upper left')\n",
    "# # plt.show()\n",
    "# # summarize history for loss\n",
    "# plt.plot(history.history['loss'])\n",
    "# # print(history.history['loss'])\n",
    "# plt.plot(history.history['val_loss'])\n",
    "# # plt.title('model loss')\n",
    "# plt.ylabel('loss')\n",
    "# plt.xlabel('epoch')\n",
    "# plt.legend(['train', 'val'], loc='upper left')\n",
    "# plt.show()\n",
    "# print(history.history['loss'][-1])\n"
   ]
  },
  {
   "cell_type": "code",
   "execution_count": 9,
   "metadata": {},
   "outputs": [
    {
     "data": {
      "text/plain": [
       "(1, 4)"
      ]
     },
     "execution_count": 9,
     "metadata": {},
     "output_type": "execute_result"
    }
   ],
   "source": [
    "to_predict = np.array([0.53, -2.44, 0.6, 0.0])\n",
    "to_predict.shape \n",
    "to_predict = np.reshape(to_predict, (1, 4))\n",
    "to_predict.shape \n"
   ]
  },
  {
   "cell_type": "code",
   "execution_count": 10,
   "metadata": {},
   "outputs": [
    {
     "name": "stderr",
     "output_type": "stream",
     "text": [
      "2022-02-27 09:57:23.353061: W tensorflow/python/util/util.cc:368] Sets are not currently considered sequences, but this may change in the future, so consider avoiding using them.\n"
     ]
    },
    {
     "name": "stdout",
     "output_type": "stream",
     "text": [
      "INFO:tensorflow:Assets written to: model1/assets\n"
     ]
    }
   ],
   "source": [
    "model.save(\"model1\")\n",
    "# TODO: add code for loading a saved model\n",
    "theta_predict = model.predict(to_predict)"
   ]
  },
  {
   "cell_type": "code",
   "execution_count": 11,
   "metadata": {},
   "outputs": [
    {
     "name": "stdout",
     "output_type": "stream",
     "text": [
      "(1, 10)\n"
     ]
    }
   ],
   "source": [
    "print(theta_predict.shape)"
   ]
  },
  {
   "cell_type": "code",
   "execution_count": 12,
   "metadata": {},
   "outputs": [
    {
     "name": "stdout",
     "output_type": "stream",
     "text": [
      "[[-0.16221221 -0.2558739  -0.19223927  0.01075936 -0.14440268  0.03354013  0.03651492  0.01045243 -0.12360859 -0.06342027]]\n",
      "[[-0.16221221 -0.2558739 ]\n",
      " [-0.19223927  0.01075936]\n",
      " [-0.14440268  0.03354013]\n",
      " [ 0.03651492  0.01045243]\n",
      " [-0.12360859 -0.06342027]]\n"
     ]
    }
   ],
   "source": [
    "theta_reshaped = np.reshape(theta_predict, (5,2))\n",
    "print(theta_predict)\n",
    "print(theta_reshaped)"
   ]
  },
  {
   "cell_type": "markdown",
   "metadata": {},
   "source": [
    "# Visualization of theta"
   ]
  },
  {
   "cell_type": "code",
   "execution_count": 13,
   "metadata": {},
   "outputs": [
    {
     "data": {
      "image/png": "[encoded data removed]",
      "text/plain": [
       "<Figure size 432x288 with 1 Axes>"
      ]
     },
     "metadata": {},
     "output_type": "display_data"
    }
   ],
   "source": [
    "from PIBB_helper import qdotdot_gen\n",
    "from pdff_kinematic_sim_funcs import get_traj_and_simulate2d, get_traj\n",
    "import matplotlib.pyplot as plt\n",
    "\n",
    "T = 1\n",
    "dt = 1e-2\n",
    "target_pt = [0.6, 0.0]\n",
    "init_condit = [0.53, -2.44]\n",
    "\n",
    "predicted_qdotdot = np.array(  \n",
    "    [qdotdot_gen(task_info, theta_reshaped, t) for t in numpy_linspace(0, T, dt)]  \n",
    "    )\n",
    "    \n",
    "# print(predicted_qdotdot.shape)\n",
    "time_steps, q, qdot, gen_qdotdot, ani = get_traj_and_simulate2d(\n",
    "    qdotdot     = predicted_qdotdot, \n",
    "    robot_arm   = robot_arm, \n",
    "    x_goal      = x_target, \n",
    "    init_condit = init_condit, \n",
    "    dt          = 1e-2\n",
    "    )\n",
    "plt.show()"
   ]
  },
  {
   "cell_type": "markdown",
   "metadata": {},
   "source": [
    "## Model V2"
   ]
  },
  {
   "cell_type": "code",
   "execution_count": 14,
   "metadata": {},
   "outputs": [],
   "source": [
    "import tensorflow as tf"
   ]
  },
  {
   "cell_type": "code",
   "execution_count": 15,
   "metadata": {},
   "outputs": [],
   "source": [
    "# https://www.tensorflow.org/addons/tutorials/losses_triplet\n"
   ]
  },
  {
   "cell_type": "markdown",
   "metadata": {},
   "source": []
  }
 ],
 "metadata": {
  "accelerator": "GPU",
  "colab": {
   "authorship_tag": "ABX9TyOwluUdKUJEJNVxOythvaBM",
   "collapsed_sections": [],
   "include_colab_link": true,
   "name": "planar_n_dof_training_datagen.ipynb",
   "provenance": []
  },
  "interpreter": {
   "hash": "b5d8693c48bf35d31fbbccaa469d7cfd59f1a894ae9e420730f73a53a6136327"
  },
  "kernelspec": {
   "display_name": "Python 3 (ipykernel)",
   "language": "python",
   "name": "python3"
  },
  "language_info": {
   "codemirror_mode": {
    "name": "ipython",
    "version": 3
   },
   "file_extension": ".py",
   "mimetype": "text/x-python",
   "name": "python",
   "nbconvert_exporter": "python",
   "pygments_lexer": "ipython3",
   "version": "3.7.4"
  }
 },
 "nbformat": 4,
 "nbformat_minor": 1
}
