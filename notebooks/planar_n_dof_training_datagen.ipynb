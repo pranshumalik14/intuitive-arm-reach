{
  "cells": [
    {
      "cell_type": "markdown",
      "metadata": {
        "colab_type": "text",
        "id": "view-in-github"
      },
      "source": [
        "<a href=\"https://colab.research.google.com/github/pranshumalik14/intuitive-arm-reach/blob/main/notebooks/planar_n_dof_training_datagen.ipynb\" target=\"_parent\"><img src=\"https://colab.research.google.com/assets/colab-badge.svg\" alt=\"Open In Colab\"/></a>"
      ]
    },
    {
      "cell_type": "code",
      "execution_count": 2,
      "metadata": {},
      "outputs": [],
      "source": [
        "import pandas as pd\n",
        "import numpy as np"
      ]
    },
    {
      "cell_type": "code",
      "execution_count": 6,
      "metadata": {},
      "outputs": [
        {
          "data": {
            "text/html": [
              "<div>\n",
              "<style scoped>\n",
              "    .dataframe tbody tr th:only-of-type {\n",
              "        vertical-align: middle;\n",
              "    }\n",
              "\n",
              "    .dataframe tbody tr th {\n",
              "        vertical-align: top;\n",
              "    }\n",
              "\n",
              "    .dataframe thead th {\n",
              "        text-align: right;\n",
              "    }\n",
              "</style>\n",
              "<table border=\"1\" class=\"dataframe\">\n",
              "  <thead>\n",
              "    <tr style=\"text-align: right;\">\n",
              "      <th></th>\n",
              "      <th>init_joint_angles</th>\n",
              "      <th>x_target</th>\n",
              "      <th>y_target</th>\n",
              "      <th>Theta</th>\n",
              "      <th>iter_count</th>\n",
              "      <th>cost</th>\n",
              "    </tr>\n",
              "  </thead>\n",
              "  <tbody>\n",
              "    <tr>\n",
              "      <th>0</th>\n",
              "      <td>[-0.63313115 -2.27640784  2.70183629]</td>\n",
              "      <td>0.4</td>\n",
              "      <td>0.0</td>\n",
              "      <td>[[ 3.41818606e+00  3.23355799e+00 -1.96352819e...</td>\n",
              "      <td>30</td>\n",
              "      <td>8.263152</td>\n",
              "    </tr>\n",
              "  </tbody>\n",
              "</table>\n",
              "</div>"
            ],
            "text/plain": [
              "                       init_joint_angles  x_target  y_target  \\\n",
              "0  [-0.63313115 -2.27640784  2.70183629]       0.4       0.0   \n",
              "\n",
              "                                               Theta  iter_count      cost  \n",
              "0  [[ 3.41818606e+00  3.23355799e+00 -1.96352819e...          30  8.263152  "
            ]
          },
          "execution_count": 6,
          "metadata": {},
          "output_type": "execute_result"
        }
      ],
      "source": [
        "df = pd.read_csv('../training_data/sample_data.csv')\n",
        "df.head(5)"
      ]
    },
    {
      "cell_type": "code",
      "execution_count": null,
      "metadata": {},
      "outputs": [],
      "source": [
        "# This training data is for the following robot\n",
        "# robot_arm = rb.RobotArm2D(\n",
        "#     n_dims = 3,\n",
        "#     link_lengths=np.array([0.4, 0.5, 0.1])\n",
        "# )\n",
        "\n",
        "# TODO: probably export robot info in another CSV"
      ]
    },
    {
      "cell_type": "code",
      "execution_count": 14,
      "metadata": {},
      "outputs": [
        {
          "data": {
            "text/plain": [
              "init_joint_angles     object\n",
              "x_target             float64\n",
              "y_target             float64\n",
              "Theta                 object\n",
              "iter_count             int64\n",
              "cost                 float64\n",
              "dtype: object"
            ]
          },
          "execution_count": 14,
          "metadata": {},
          "output_type": "execute_result"
        }
      ],
      "source": [
        "df.dtypes"
      ]
    },
    {
      "cell_type": "code",
      "execution_count": 31,
      "metadata": {},
      "outputs": [
        {
          "data": {
            "text/plain": [
              "'[[ 3.41818606e+00  3.23355799e+00 -1.96352819e+01]\\n [ 2.28673034e+00  7.97740650e-01 -3.51677015e-01]\\n [ 1.67197730e+00 -2.68560624e-01 -1.67318257e+00]\\n [ 7.80320531e-02 -1.74807216e+00 -2.04159959e+00]\\n [ 2.23351582e+00 -3.31470169e-01 -6.14573349e+00]\\n [ 1.13747395e+00 -9.65409655e-01 -6.33778429e+00]\\n [ 1.84356029e-03  1.56561560e+00  1.41141811e+00]\\n [ 1.29582830e+00 -1.85559632e+00  8.12324833e-01]\\n [-1.28337946e+00 -1.34425041e+00 -3.04535459e+00]\\n [-1.08770012e+00  7.93811233e-01  2.60667213e-01]]'"
            ]
          },
          "execution_count": 31,
          "metadata": {},
          "output_type": "execute_result"
        }
      ],
      "source": [
        "df['Theta'].values[0]\n",
        "# TODO: This is a string, but has to be converted to a 2D numpy array"
      ]
    },
    {
      "cell_type": "markdown",
      "metadata": {},
      "source": [
        "## Data Descriptors\n",
        "- Init joint angles: Joint configuration at time 0 of robot links\n",
        "- x_target, y_target: desired target point on the plane for the end effector \n",
        "- Theta: output of the PIBB matrix (trained Theta)\n",
        "- iter_count: (optional) number of iterations it took PIBB to reach to the final Theta\n",
        "- Cost: (optional) cost function evaluated for this Theta \n",
        "\n",
        "Note: \n",
        "- this data is only for a specific 2D (planar) robot\n",
        "- The last two params could be used for the interpolation algorithm (should prefer lower iter_count or cheaper cost)\n"
      ]
    }
  ],
  "metadata": {
    "accelerator": "GPU",
    "colab": {
      "authorship_tag": "ABX9TyOwluUdKUJEJNVxOythvaBM",
      "collapsed_sections": [],
      "include_colab_link": true,
      "name": "planar_n_dof_training_datagen.ipynb",
      "provenance": []
    },
    "interpreter": {
      "hash": "b5d8693c48bf35d31fbbccaa469d7cfd59f1a894ae9e420730f73a53a6136327"
    },
    "kernelspec": {
      "display_name": "Julia",
      "language": "python",
      "name": "python3"
    },
    "language_info": {
      "codemirror_mode": {
        "name": "ipython",
        "version": 3
      },
      "file_extension": ".py",
      "mimetype": "text/x-python",
      "name": "python",
      "nbconvert_exporter": "python",
      "pygments_lexer": "ipython3",
      "version": "3.7.4"
    }
  },
  "nbformat": 4,
  "nbformat_minor": 0
}
