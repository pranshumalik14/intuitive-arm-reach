{
  "cells": [
    {
      "cell_type": "markdown",
      "metadata": {
        "colab_type": "text",
        "id": "view-in-github"
      },
      "source": [
        "<a href=\"https://colab.research.google.com/github/pranshumalik14/intuitive-arm-reach/blob/main/notebooks/planar_n_dof_training_datagen.ipynb\" target=\"_parent\"><img src=\"https://colab.research.google.com/assets/colab-badge.svg\" alt=\"Open In Colab\"/></a>"
      ]
    },
    {
      "cell_type": "code",
      "execution_count": 75,
      "metadata": {},
      "outputs": [],
      "source": [
        "import pandas as pd\n",
        "import numpy as np\n",
        "import re\n",
        "from ast import literal_eval"
      ]
    },
    {
      "cell_type": "code",
      "execution_count": 76,
      "metadata": {},
      "outputs": [
        {
          "data": {
            "text/html": [
              "<div>\n",
              "<style scoped>\n",
              "    .dataframe tbody tr th:only-of-type {\n",
              "        vertical-align: middle;\n",
              "    }\n",
              "\n",
              "    .dataframe tbody tr th {\n",
              "        vertical-align: top;\n",
              "    }\n",
              "\n",
              "    .dataframe thead th {\n",
              "        text-align: right;\n",
              "    }\n",
              "</style>\n",
              "<table border=\"1\" class=\"dataframe\">\n",
              "  <thead>\n",
              "    <tr style=\"text-align: right;\">\n",
              "      <th></th>\n",
              "      <th>init_joint_angles</th>\n",
              "      <th>x_target</th>\n",
              "      <th>y_target</th>\n",
              "      <th>Theta</th>\n",
              "      <th>iter_count</th>\n",
              "      <th>cost</th>\n",
              "    </tr>\n",
              "  </thead>\n",
              "  <tbody>\n",
              "    <tr>\n",
              "      <th>0</th>\n",
              "      <td>[-1.2788356   0.75979713  0.48106151]</td>\n",
              "      <td>4.000000e-01</td>\n",
              "      <td>0.000000e+00</td>\n",
              "      <td>[[-1.25566091 -1.88466093  0.1325742 ]\\n [-1.9...</td>\n",
              "      <td>12</td>\n",
              "      <td>8.616780</td>\n",
              "    </tr>\n",
              "    <tr>\n",
              "      <th>1</th>\n",
              "      <td>[-1.2788356   0.75979713  0.48106151]</td>\n",
              "      <td>2.449294e-17</td>\n",
              "      <td>4.000000e-01</td>\n",
              "      <td>[[-2.42836445  0.41586429  0.68511504]\\n [ 0.3...</td>\n",
              "      <td>12</td>\n",
              "      <td>8.707490</td>\n",
              "    </tr>\n",
              "    <tr>\n",
              "      <th>2</th>\n",
              "      <td>[-1.2788356   0.75979713  0.48106151]</td>\n",
              "      <td>-4.000000e-01</td>\n",
              "      <td>4.898587e-17</td>\n",
              "      <td>[[-0.90414777 -1.70484533 -2.02097261]\\n [-2.2...</td>\n",
              "      <td>35</td>\n",
              "      <td>8.384756</td>\n",
              "    </tr>\n",
              "    <tr>\n",
              "      <th>3</th>\n",
              "      <td>[-1.2788356   0.75979713  0.48106151]</td>\n",
              "      <td>-7.347881e-17</td>\n",
              "      <td>-4.000000e-01</td>\n",
              "      <td>[[-2.28722636 -1.56901604  0.56305501]\\n [-2.1...</td>\n",
              "      <td>22</td>\n",
              "      <td>8.505960</td>\n",
              "    </tr>\n",
              "    <tr>\n",
              "      <th>4</th>\n",
              "      <td>[-1.2788356   0.75979713  0.48106151]</td>\n",
              "      <td>4.000000e-01</td>\n",
              "      <td>-9.797174e-17</td>\n",
              "      <td>[[-0.99497    -1.13759018  0.77086882]\\n [-0.8...</td>\n",
              "      <td>12</td>\n",
              "      <td>8.642644</td>\n",
              "    </tr>\n",
              "  </tbody>\n",
              "</table>\n",
              "</div>"
            ],
            "text/plain": [
              "                       init_joint_angles      x_target      y_target  \\\n",
              "0  [-1.2788356   0.75979713  0.48106151]  4.000000e-01  0.000000e+00   \n",
              "1  [-1.2788356   0.75979713  0.48106151]  2.449294e-17  4.000000e-01   \n",
              "2  [-1.2788356   0.75979713  0.48106151] -4.000000e-01  4.898587e-17   \n",
              "3  [-1.2788356   0.75979713  0.48106151] -7.347881e-17 -4.000000e-01   \n",
              "4  [-1.2788356   0.75979713  0.48106151]  4.000000e-01 -9.797174e-17   \n",
              "\n",
              "                                               Theta  iter_count      cost  \n",
              "0  [[-1.25566091 -1.88466093  0.1325742 ]\\n [-1.9...          12  8.616780  \n",
              "1  [[-2.42836445  0.41586429  0.68511504]\\n [ 0.3...          12  8.707490  \n",
              "2  [[-0.90414777 -1.70484533 -2.02097261]\\n [-2.2...          35  8.384756  \n",
              "3  [[-2.28722636 -1.56901604  0.56305501]\\n [-2.1...          22  8.505960  \n",
              "4  [[-0.99497    -1.13759018  0.77086882]\\n [-0.8...          12  8.642644  "
            ]
          },
          "execution_count": 76,
          "metadata": {},
          "output_type": "execute_result"
        }
      ],
      "source": [
        "df = pd.read_csv('../training_data/sample_data_new.csv')\n",
        "df.head(5)"
      ]
    },
    {
      "cell_type": "code",
      "execution_count": 77,
      "metadata": {},
      "outputs": [],
      "source": [
        "# This training data is for the following robot\n",
        "# robot_arm = rb.RobotArm2D(\n",
        "#     n_dims = 3,\n",
        "#     link_lengths=np.array([0.4, 0.5, 0.1])\n",
        "# )\n",
        "\n",
        "# TODO: probably export robot info in another CSV"
      ]
    },
    {
      "cell_type": "code",
      "execution_count": 78,
      "metadata": {},
      "outputs": [
        {
          "data": {
            "text/plain": [
              "init_joint_angles     object\n",
              "x_target             float64\n",
              "y_target             float64\n",
              "Theta                 object\n",
              "iter_count             int64\n",
              "cost                 float64\n",
              "dtype: object"
            ]
          },
          "execution_count": 78,
          "metadata": {},
          "output_type": "execute_result"
        }
      ],
      "source": [
        "df.dtypes"
      ]
    },
    {
      "cell_type": "code",
      "execution_count": null,
      "metadata": {},
      "outputs": [],
      "source": [
        "# Issue is that init_joint_angles and Theta are strings. (Check the CSV to understand more)\n",
        "# It is imperative to first convert those strings into numpy arrays"
      ]
    },
    {
      "cell_type": "code",
      "execution_count": 79,
      "metadata": {},
      "outputs": [
        {
          "data": {
            "text/plain": [
              "'[-1.2788356   0.75979713  0.48106151]'"
            ]
          },
          "execution_count": 79,
          "metadata": {},
          "output_type": "execute_result"
        }
      ],
      "source": [
        "df['init_joint_angles'].values[0]"
      ]
    },
    {
      "cell_type": "code",
      "execution_count": 80,
      "metadata": {},
      "outputs": [],
      "source": [
        "def extract_array_from_string(s):\n",
        "    x = literal_eval(','.join(re.sub(r'(?<=\\d)(\\s+)(?=-?\\d)', ',', s).splitlines()))\n",
        "    return np.array(x)"
      ]
    },
    {
      "cell_type": "code",
      "execution_count": 81,
      "metadata": {},
      "outputs": [],
      "source": [
        "df['init_joint_angles'] = df['init_joint_angles'].apply(extract_array_from_string)\n",
        "df['Theta'] = df['Theta'].apply(extract_array_from_string)"
      ]
    },
    {
      "cell_type": "code",
      "execution_count": 82,
      "metadata": {},
      "outputs": [
        {
          "name": "stdout",
          "output_type": "stream",
          "text": [
            "<class 'numpy.ndarray'>\n",
            "<class 'numpy.ndarray'>\n"
          ]
        }
      ],
      "source": [
        "print(type(df['init_joint_angles'].values[0]))\n",
        "print(type(df['Theta'].values[0]))"
      ]
    },
    {
      "cell_type": "code",
      "execution_count": 83,
      "metadata": {},
      "outputs": [
        {
          "data": {
            "text/plain": [
              "array([[-1.25566091, -1.88466093,  0.1325742 ],\n",
              "       [-1.95956735,  0.45326746,  0.05597064],\n",
              "       [-0.55607405, -0.3810749 ,  0.29270251],\n",
              "       [ 0.00986745, -0.36100487, -0.71750806],\n",
              "       [-1.35355625, -0.88906432, -0.4074249 ],\n",
              "       [ 0.05787   , -0.20156946, -0.00510643],\n",
              "       [-1.20210683,  0.20209624,  0.04830232],\n",
              "       [-0.74566877,  1.06609654, -0.43252459],\n",
              "       [ 1.01520413,  0.45984508,  0.1805191 ],\n",
              "       [ 0.28111451,  0.66118582,  0.12823555]])"
            ]
          },
          "execution_count": 83,
          "metadata": {},
          "output_type": "execute_result"
        }
      ],
      "source": [
        "df['Theta'].values[0]"
      ]
    },
    {
      "cell_type": "code",
      "execution_count": 84,
      "metadata": {},
      "outputs": [
        {
          "data": {
            "text/html": [
              "<div>\n",
              "<style scoped>\n",
              "    .dataframe tbody tr th:only-of-type {\n",
              "        vertical-align: middle;\n",
              "    }\n",
              "\n",
              "    .dataframe tbody tr th {\n",
              "        vertical-align: top;\n",
              "    }\n",
              "\n",
              "    .dataframe thead th {\n",
              "        text-align: right;\n",
              "    }\n",
              "</style>\n",
              "<table border=\"1\" class=\"dataframe\">\n",
              "  <thead>\n",
              "    <tr style=\"text-align: right;\">\n",
              "      <th></th>\n",
              "      <th>init_joint_angles</th>\n",
              "      <th>x_target</th>\n",
              "      <th>y_target</th>\n",
              "      <th>Theta</th>\n",
              "      <th>iter_count</th>\n",
              "      <th>cost</th>\n",
              "    </tr>\n",
              "  </thead>\n",
              "  <tbody>\n",
              "    <tr>\n",
              "      <th>0</th>\n",
              "      <td>[-1.2788356, 0.75979713, 0.48106151]</td>\n",
              "      <td>4.000000e-01</td>\n",
              "      <td>0.000000e+00</td>\n",
              "      <td>[[-1.25566091, -1.88466093, 0.1325742], [-1.95...</td>\n",
              "      <td>12</td>\n",
              "      <td>8.616780</td>\n",
              "    </tr>\n",
              "    <tr>\n",
              "      <th>1</th>\n",
              "      <td>[-1.2788356, 0.75979713, 0.48106151]</td>\n",
              "      <td>2.449294e-17</td>\n",
              "      <td>4.000000e-01</td>\n",
              "      <td>[[-2.42836445, 0.41586429, 0.68511504], [0.364...</td>\n",
              "      <td>12</td>\n",
              "      <td>8.707490</td>\n",
              "    </tr>\n",
              "    <tr>\n",
              "      <th>2</th>\n",
              "      <td>[-1.2788356, 0.75979713, 0.48106151]</td>\n",
              "      <td>-4.000000e-01</td>\n",
              "      <td>4.898587e-17</td>\n",
              "      <td>[[-0.90414777, -1.70484533, -2.02097261], [-2....</td>\n",
              "      <td>35</td>\n",
              "      <td>8.384756</td>\n",
              "    </tr>\n",
              "    <tr>\n",
              "      <th>3</th>\n",
              "      <td>[-1.2788356, 0.75979713, 0.48106151]</td>\n",
              "      <td>-7.347881e-17</td>\n",
              "      <td>-4.000000e-01</td>\n",
              "      <td>[[-2.28722636, -1.56901604, 0.56305501], [-2.1...</td>\n",
              "      <td>22</td>\n",
              "      <td>8.505960</td>\n",
              "    </tr>\n",
              "    <tr>\n",
              "      <th>4</th>\n",
              "      <td>[-1.2788356, 0.75979713, 0.48106151]</td>\n",
              "      <td>4.000000e-01</td>\n",
              "      <td>-9.797174e-17</td>\n",
              "      <td>[[-0.99497, -1.13759018, 0.77086882], [-0.8180...</td>\n",
              "      <td>12</td>\n",
              "      <td>8.642644</td>\n",
              "    </tr>\n",
              "  </tbody>\n",
              "</table>\n",
              "</div>"
            ],
            "text/plain": [
              "                      init_joint_angles      x_target      y_target  \\\n",
              "0  [-1.2788356, 0.75979713, 0.48106151]  4.000000e-01  0.000000e+00   \n",
              "1  [-1.2788356, 0.75979713, 0.48106151]  2.449294e-17  4.000000e-01   \n",
              "2  [-1.2788356, 0.75979713, 0.48106151] -4.000000e-01  4.898587e-17   \n",
              "3  [-1.2788356, 0.75979713, 0.48106151] -7.347881e-17 -4.000000e-01   \n",
              "4  [-1.2788356, 0.75979713, 0.48106151]  4.000000e-01 -9.797174e-17   \n",
              "\n",
              "                                               Theta  iter_count      cost  \n",
              "0  [[-1.25566091, -1.88466093, 0.1325742], [-1.95...          12  8.616780  \n",
              "1  [[-2.42836445, 0.41586429, 0.68511504], [0.364...          12  8.707490  \n",
              "2  [[-0.90414777, -1.70484533, -2.02097261], [-2....          35  8.384756  \n",
              "3  [[-2.28722636, -1.56901604, 0.56305501], [-2.1...          22  8.505960  \n",
              "4  [[-0.99497, -1.13759018, 0.77086882], [-0.8180...          12  8.642644  "
            ]
          },
          "execution_count": 84,
          "metadata": {},
          "output_type": "execute_result"
        }
      ],
      "source": [
        "df.head(5)"
      ]
    },
    {
      "cell_type": "markdown",
      "metadata": {},
      "source": [
        "## Data Descriptors\n",
        "- Init joint angles: Joint configuration at time 0 of robot links\n",
        "- x_target, y_target: desired target point on the plane for the end effector \n",
        "- Theta: output of the PIBB matrix (trained Theta)\n",
        "- iter_count: (optional) number of iterations it took PIBB to reach to the final Theta\n",
        "- Cost: (optional) cost function evaluated for this Theta \n",
        "\n",
        "Note: \n",
        "- this data is only for a specific 2D (planar) robot\n",
        "- The last two params could be used for the interpolation algorithm (should prefer lower iter_count or cheaper cost)\n"
      ]
    }
  ],
  "metadata": {
    "accelerator": "GPU",
    "colab": {
      "authorship_tag": "ABX9TyOwluUdKUJEJNVxOythvaBM",
      "collapsed_sections": [],
      "include_colab_link": true,
      "name": "planar_n_dof_training_datagen.ipynb",
      "provenance": []
    },
    "interpreter": {
      "hash": "b5d8693c48bf35d31fbbccaa469d7cfd59f1a894ae9e420730f73a53a6136327"
    },
    "kernelspec": {
      "display_name": "Julia",
      "language": "python",
      "name": "python3"
    },
    "language_info": {
      "codemirror_mode": {
        "name": "ipython",
        "version": 3
      },
      "file_extension": ".py",
      "mimetype": "text/x-python",
      "name": "python",
      "nbconvert_exporter": "python",
      "pygments_lexer": "ipython3",
      "version": "3.7.4"
    }
  },
  "nbformat": 4,
  "nbformat_minor": 0
}
