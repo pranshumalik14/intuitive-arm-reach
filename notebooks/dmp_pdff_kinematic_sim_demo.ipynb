{
  "cells": [
    {
      "cell_type": "markdown",
      "metadata": {
        "colab_type": "text",
        "id": "view-in-github"
      },
      "source": [
        "<a href=\"https://colab.research.google.com/github/pranshumalik14/intuitive-arm-reach/blob/main/notebooks/dmp_pdff_kinematic_sim_demo.ipynb\" target=\"_parent\"><img src=\"https://colab.research.google.com/assets/colab-badge.svg\" alt=\"Open In Colab\"/></a>"
      ]
    },
    {
      "cell_type": "markdown",
      "metadata": {
        "id": "PdIHvwDr9LNB"
      },
      "source": [
        "# Set up\n",
        "\n",
        "## Purpose\n",
        "- first have to make arm\n",
        "- with qdotdot, simulate arm (show traj/gif)\n",
        "- optionally, extract qdotdot using DMPs (through MATLAB)"
      ]
    },
    {
      "cell_type": "code",
      "execution_count": 21,
      "metadata": {
        "id": "s6Kh5OAM9LNJ"
      },
      "outputs": [],
      "source": [
        "import numpy as np\n",
        "from matplotlib import pyplot as plt\n",
        "from numpy import linalg as LA\n",
        "%matplotlib inline"
      ]
    },
    {
      "cell_type": "markdown",
      "metadata": {
        "id": "I1nczcwg9LNK"
      },
      "source": [
        "# Kinematic Simulation for N-Link Planar Arm Reach Task Using PDFF and DMPs\n",
        "We can take input of $\\ddot{q}$ or also DMP class object with basis centers and $\\Theta$ param matrix\n",
        "Some simple maths show and do in code."
      ]
    },
    {
      "cell_type": "code",
      "execution_count": 22,
      "metadata": {
        "id": "wlYjM_Hq9LNK"
      },
      "outputs": [],
      "source": [
        "class RobotArm2D:\n",
        "    def __init__(self, n_dims = 2, arm_length = 0.8, rel_link_lengths = np.array([2, 0.6, 0.4, 0.15, 0.15, 0.1])):\n",
        "        self.n_dims = n_dims\n",
        "        self.arm_length = arm_length\n",
        "        self.link_lengths = arm_length/sum(rel_link_lengths) * rel_link_lengths[0:n_dims+1]\n",
        "        # np.array([1.5, 1.25, 0.4, 0.15, 0.15, 0.1])\n",
        "\n",
        "    def get_arm_params(self):\n",
        "        return self.n_dims, self.arm_length, self.link_lengths"
      ]
    },
    {
      "cell_type": "code",
      "execution_count": 23,
      "metadata": {
        "id": "hUtVuQmJ9LNL"
      },
      "outputs": [],
      "source": [
        "def get_traj(qdotdot, robot_arm, dt = 0.05, init_condit = [None, None]):\n",
        "    \"\"\"\n",
        "    Takes in a joint accelerations qdotdot, and return \n",
        "    \n",
        "    Keyword arguments:\n",
        "    argument -- qdotdot: an t x n_dim matrix (t timesteps, n_dim dimensions) (numpy array)\n",
        "    Return: return_description\n",
        "    \"\"\"\n",
        "    \n",
        "    n_time_steps = qdotdot.shape[0]\n",
        "    n_dims_qdotdot = qdotdot.shape[1] if qdotdot.ndim > 1 else 1\n",
        "\n",
        "    n_dims, arm_length, link_lengths = robot_arm.get_arm_params()\n",
        "    assert(n_dims == n_dims_qdotdot)\n",
        "\n",
        "    time_steps = dt * np.arange(n_time_steps)\n",
        "    \n",
        "    # initialize q, qdot to 0\n",
        "    q = np.zeros((n_time_steps, n_dims))\n",
        "    qdot = np.zeros((n_time_steps, n_dims))\n",
        "    \n",
        "    if init_condit is not None:\n",
        "        q0, qdot0 = init_condit[0], init_condit[1]\n",
        "        assert(qdot.shape[1] == len(qdot0))\n",
        "        qdot[0, :] = qdot0\n",
        "        q[0, :] = q0\n",
        "    else:\n",
        "        # if None, then assume 0 init conditions\n",
        "        pass\n",
        "    \n",
        "    if qdotdot.ndim > 1:\n",
        "        for i in range(1, n_time_steps):\n",
        "            qdot[i, :] = qdot[i-1, :] + dt*qdotdot[i, :]\n",
        "            q[i, :] = q[i-1, :] + dt*qdot[i, :]\n",
        "    else:\n",
        "        for i in range(1, n_time_steps):\n",
        "            qdot[i] = qdot[i-1] + dt*qdotdot[i]\n",
        "            q[i] = q[i-1] + dt*qdot[i]\n",
        "        \n",
        "    # Could use np.trapez but it gave me some weird error\n",
        "    # qdot[:,0] = np.trapez(qdotdot, x = time_steps)     \n",
        "    # https://docs.scipy.org/doc/scipy/reference/tutorial/integrate.html\n",
        "\n",
        "    return time_steps, q, qdot, qdotdot\n",
        "\n"
      ]
    },
    {
      "cell_type": "markdown",
      "metadata": {
        "id": "7_M_UP_e9LNN"
      },
      "source": [
        "## Creating test data\n",
        "\n",
        "2 joints; each with a sinusoidal movement"
      ]
    },
    {
      "cell_type": "code",
      "execution_count": 24,
      "metadata": {
        "id": "MF8wDust9LNO"
      },
      "outputs": [],
      "source": [
        "# Each joint has sinusoidal movement\n",
        "# base frequency\n",
        "omega = 1\n",
        "multi_factor = 1 # second joint rotates 5 times faster\n",
        "slowness_factor = 0.1\n",
        "\n",
        "n_time_steps = 1001\n",
        "dt = 0.005\n",
        "time_steps = dt * np.arange(n_time_steps)\n",
        "\n",
        "n_dims = 2\n",
        "qdotdot = np.zeros((n_time_steps, n_dims))\n",
        "\n",
        "\n",
        "# This is the first joint (base joint)\n",
        "freq_0 = 2*np.pi*omega*slowness_factor\n",
        "qdotdot[:,0] = (2*np.pi)*(freq_0**2)*np.sin(freq_0*time_steps) \n",
        "\n",
        "# This is the second joint\n",
        "freq_1 = 2*np.pi*multi_factor*omega\n",
        "# qdotdot[:,1] = (2*np.pi)*(freq_1**2)*np.sin(freq_1*time_steps)\n",
        "qdotdot[:,1] = 0*time_steps\n",
        "\n",
        "q0 = [0, 0] # starting joint configuration\n",
        "# qdot0 = [-(2*np.pi)*(freq_0), -(2*np.pi)*(freq_1)]\n",
        "qdot0 = [-(2*np.pi)*(freq_0), (2*np.pi)*(freq_1)]\n",
        "init_condit = [q0, qdot0]\n"
      ]
    },
    {
      "cell_type": "code",
      "execution_count": 25,
      "metadata": {
        "colab": {
          "base_uri": "https://localhost:8080/",
          "height": 834
        },
        "id": "rW6Rd0sM9LNP",
        "outputId": "e9b8c692-eaff-40a4-a3bb-75175d13d4db"
      },
      "outputs": [
        {
          "data": {
            "text/plain": [
              "[<matplotlib.lines.Line2D at 0x7f99dadbdd90>]"
            ]
          },
          "execution_count": 25,
          "metadata": {},
          "output_type": "execute_result"
        },
        {
          "data": {
            "image/png": "[encoded data removed]",
            "text/plain": [
              "<Figure size 432x288 with 1 Axes>"
            ]
          },
          "metadata": {
            "needs_background": "light"
          },
          "output_type": "display_data"
        },
        {
          "data": {
            "image/png": "[encoded data removed]",
            "text/plain": [
              "<Figure size 432x288 with 1 Axes>"
            ]
          },
          "metadata": {
            "needs_background": "light"
          },
          "output_type": "display_data"
        },
        {
          "data": {
            "image/png": "[encoded data removed]",
            "text/plain": [
              "<Figure size 432x288 with 1 Axes>"
            ]
          },
          "metadata": {
            "needs_background": "light"
          },
          "output_type": "display_data"
        }
      ],
      "source": [
        "robot_arm = RobotArm2D(n_dims = n_dims) # by default takes two joints\n",
        "\n",
        "time_steps, q, qdot, qdotdot = get_traj( qdotdot, robot_arm, init_condit = [ q0, qdot0 ], dt = dt)\n",
        "pts_to_trace = 1001\n",
        "%matplotlib inline\n",
        "# plt.figure()\n",
        "plt.title('$\\ddot{q}$ over time')\n",
        "plt.plot(time_steps[:pts_to_trace], qdotdot[:pts_to_trace, 0])\n",
        "# plt.plot(time_steps[:pts_to_trace], qdotdot[:pts_to_trace, 1])\n",
        "\n",
        "plt.figure()\n",
        "plt.title('$\\dot{q}$ over time')\n",
        "plt.plot(time_steps[:pts_to_trace], qdot[:pts_to_trace, 0])\n",
        "# plt.plot(time_steps[:pts_to_trace], qdot[:pts_to_trace, 1])\n",
        "\n",
        "plt.figure()\n",
        "plt.title('$q$ over time')\n",
        "plt.plot(time_steps[:pts_to_trace], q[:pts_to_trace, 0])\n",
        "# plt.plot(time_steps[:pts_to_trace], q[:pts_to_trace, 1])\n"
      ]
    },
    {
      "cell_type": "code",
      "execution_count": 26,
      "metadata": {
        "id": "Y_UQpYKV9LNR"
      },
      "outputs": [],
      "source": [
        "def angles_to_link_positions_2D(q, robot_arm):\n",
        "    # Forward kinematics\n",
        "    n_time_steps = q.shape[0]\n",
        "    n_dims = q.shape[1]\n",
        "    \n",
        "    n_dims_robot, arm_length, link_lengths = robot_arm.get_arm_params()\n",
        "    assert(n_dims == n_dims_robot)\n",
        "    \n",
        "    links_x = np.zeros((n_time_steps, n_dims+1))\n",
        "    links_y = np.zeros((n_time_steps, n_dims+1))\n",
        "    \n",
        "    for t in range(n_time_steps):\n",
        "        sum_angles = 0\n",
        "        \n",
        "        for i_dim in range(n_dims):\n",
        "            sum_angles += q[t, i_dim]\n",
        "            links_x[t, i_dim + 1] = links_x[t, i_dim] + np.cos(sum_angles) * link_lengths[i_dim]\n",
        "            links_y[t, i_dim + 1] = links_y[t, i_dim] + np.sin(sum_angles) * link_lengths[i_dim]\n",
        "            \n",
        "    link_positions = np.zeros((n_time_steps, 2*(n_dims+1)))\n",
        "    # desired structure of link positions is x y x y x y \n",
        "    # (first x y are for the base joint)\n",
        "    for n in range(n_dims + 1):\n",
        "        link_positions[:, 2*n] = links_x[:,n]\n",
        "        link_positions[:, 2*n+1] = links_y[:,n]\n",
        "    \n",
        "    return link_positions"
      ]
    },
    {
      "cell_type": "code",
      "execution_count": 27,
      "metadata": {
        "id": "QBSNE4zq9LNR"
      },
      "outputs": [],
      "source": [
        "# forward kinematics\n",
        "link_positions = angles_to_link_positions_2D(q, robot_arm)"
      ]
    },
    {
      "cell_type": "code",
      "execution_count": 28,
      "metadata": {
        "colab": {
          "base_uri": "https://localhost:8080/",
          "height": 282
        },
        "id": "5NnZTN6_9LNS",
        "outputId": "82c8541f-19eb-48e6-9853-5bcdb8f3ca05"
      },
      "outputs": [
        {
          "data": {
            "text/plain": [
              "[<matplotlib.lines.Line2D at 0x7f99da315750>]"
            ]
          },
          "execution_count": 28,
          "metadata": {},
          "output_type": "execute_result"
        },
        {
          "data": {
            "image/png": "[encoded data removed]",
            "text/plain": [
              "<Figure size 432x288 with 1 Axes>"
            ]
          },
          "metadata": {
            "needs_background": "light"
          },
          "output_type": "display_data"
        }
      ],
      "source": [
        "plt.figure()\n",
        "\n",
        "plt.plot(link_positions[:,2], link_positions[:,3])\n",
        "plt.plot(link_positions[:,4], link_positions[:,5])"
      ]
    },
    {
      "cell_type": "code",
      "execution_count": 29,
      "metadata": {
        "id": "3RsKEiEp9LNT"
      },
      "outputs": [],
      "source": [
        "%matplotlib notebook\n",
        "%matplotlib notebook\n",
        "import matplotlib.animation as animation\n",
        "from collections import deque\n",
        "\n",
        "def get_traj_and_simulate(qdotdot, robot_arm, x_goal, init_condit = [None, None], dt = 0.005):\n",
        "    \"\"\"\n",
        "    \n",
        "    \"\"\"\n",
        "    # initial checks\n",
        "    assert(len(x_goal) == 2)\n",
        "    \n",
        "    # Get q and qdot\n",
        "    time_steps, q, qdot, qdotdot = get_traj( qdotdot, robot_arm, init_condit = init_condit, dt = dt)\n",
        "    n_time_steps = len(time_steps)\n",
        "    \n",
        "    # Forward kinematics\n",
        "    link_positions = angles_to_link_positions_2D(q, robot_arm)\n",
        "    \n",
        "    # Robot params\n",
        "    n_dims, arm_length, link_lengths = robot_arm.get_arm_params()\n",
        "    \n",
        "    # Figure set up\n",
        "    fig = plt.figure()\n",
        "    padding_factor = 1.5\n",
        "    axes_lim = arm_length*padding_factor\n",
        "    \n",
        "    ax = fig.add_subplot(autoscale_on=False, xlim=(-axes_lim, axes_lim), ylim=(-axes_lim, axes_lim))\n",
        "    ax.set_aspect('equal')\n",
        "    ax.grid()\n",
        "    \n",
        "    # tracking the history of movements\n",
        "    tracking_history_points = 1000\n",
        "    history_x, history_y = deque(maxlen=tracking_history_points), deque(maxlen=tracking_history_points)\n",
        "\n",
        "    # Adding the base of the robot arm\n",
        "    points = [[0, 0], [-0.05, -0.1], [0.05, -0.1]]\n",
        "    line = plt.Polygon(points, closed = True, fill = True, color = 'red')\n",
        "    plt.gca().add_patch(line)\n",
        "\n",
        "    # Dynamic lines (theese are the lines/vals that will update during the simulation)     \n",
        "    line, = ax.plot([], [], 'o-', lw=2)\n",
        "    trace, = ax.plot([], [], '.-', lw=1, ms=2)\n",
        "    time_template = 'time = %.1fs'\n",
        "    time_text = ax.text(0.05, 0.9, '', transform=ax.transAxes)\n",
        "    \n",
        "    # Annotations for each link/end effector\n",
        "    annotate_links = []\n",
        "    for n in range(n_dims):\n",
        "        link_to_annotate = \"q{}\".format(str(1+n))\n",
        "        annotate_links.append(ax.annotate(link_to_annotate, xy = (link_lengths[n], 0)))\n",
        "    \n",
        "    annotate_end_effector = ax.annotate('E', xy = (link_lengths[-1] , 0))\n",
        "\n",
        "    # animation for each frame\n",
        "    def animate(i):\n",
        "        # all x axis values are in the even-numbered columns\n",
        "        thisx = [link_positions[i, j] for j in range(0, len(link_positions[0,:]), 2)]\n",
        "        \n",
        "        # all y axis value are in the odd-numbered columns\n",
        "        thisy = [link_positions[i, j] for j in range(1, len(link_positions[0,:]), 2)]\n",
        "\n",
        "        if i == 0:\n",
        "            history_x.clear()\n",
        "            history_y.clear()\n",
        "\n",
        "        # History only tracks the end effector        \n",
        "        history_x.appendleft(thisx[-1])\n",
        "        history_y.appendleft(thisy[-1])\n",
        "        \n",
        "        # Set current state of (x,y) for each joint\n",
        "        line.set_data(thisx, thisy)\n",
        "        trace.set_data(history_x, history_y)\n",
        "        time_text.set_text(time_template % (i*dt))\n",
        "\n",
        "        offset_factor = 0.3\n",
        "        for n in range(n_dims):\n",
        "            annotate_links[n].set_position(\n",
        "                (\n",
        "                link_positions[i, 2*n] + offset_factor*link_lengths[n]*np.cos(q[i,n]),\n",
        "                link_positions[i, 2*n+1] + offset_factor*link_lengths[n]*np.sin(q[i,n])\n",
        "                )\n",
        "            )\n",
        "\n",
        "        annotate_end_effector.set_position((\n",
        "            link_positions[i, len(link_positions[0,:])-2],\n",
        "            link_positions[i, -1]\n",
        "        ))\n",
        "\n",
        "        return line, trace, time_text\n",
        "\n",
        "    ani = animation.FuncAnimation(\n",
        "        fig, animate, n_time_steps, interval = dt* n_time_steps, blit= True)\n",
        "    \n",
        "    # Goal position\n",
        "    plt.plot(x_goal[0], x_goal[1], '-o') # Goal position\n",
        "    ax.annotate('x_g',xy = (x_goal[0], x_goal[1]))\n",
        "\n",
        "    fig.suptitle('Kinematic Simulation', fontsize=14)\n",
        "    \n",
        "    return time_steps, q, qdot, qdotdot, ani\n",
        "    "
      ]
    },
    {
      "cell_type": "code",
      "execution_count": null,
      "metadata": {
        "colab": {
          "base_uri": "https://localhost:8080/",
          "height": 309
        },
        "id": "QCqBnX2Q9LNT",
        "outputId": "3a276fcc-a24a-44cb-d76a-309fc6f170a6"
      },
      "outputs": [],
      "source": [
        "from IPython import display\n",
        "\n",
        "x_target = np.array([0, -0.5])\n",
        "time_steps, q, qdot, qdotdot, ani = get_traj_and_simulate(qdotdot, robot_arm, x_target, init_condit = init_condit)\n",
        "\n",
        "video = ani.to_html5_video()\n",
        "html = display.HTML(video)\n",
        "display.display(html)\n",
        "plt.close()\n",
        "# path = r\"~/demo.gif\"\n",
        "# ani.save(path, fps=60)"
      ]
    },
    {
      "cell_type": "markdown",
      "metadata": {
        "id": "cMSjW4zvGMMA"
      },
      "source": [
        "# Task Specification"
      ]
    },
    {
      "cell_type": "code",
      "execution_count": null,
      "metadata": {
        "id": "p8vmfHiGVmzx"
      },
      "outputs": [],
      "source": [
        "def acceleration_cost(qdotdot, kt, t):\n",
        "  N = qdotdot.shape[1]\n",
        "  numerator = 0\n",
        "  for n in range(qdotdot.shape[1]):\n",
        "    numerator += N+1-n * qdotdot[t, n]**2\n",
        "  return kt*(numerator)"
      ]
    },
    {
      "cell_type": "code",
      "execution_count": null,
      "metadata": {
        "id": "s3HF32QtGRl7"
      },
      "outputs": [],
      "source": [
        "def cost_function(x_target, q, qdotdot, robot_arm, kt = 1e-5, kT = 1e2):\n",
        "  fk = angles_to_link_positions_2D(q, robot_arm)\n",
        "  fk_dim = fk.shape[1] # x y for each dim \n",
        "  x_TN = np.array([fk[-1, fk_dim-2], fk[-1, fk_dim-1]])\n",
        "  # take the last row and last column/second last column\n",
        "\n",
        "  # reach cost\n",
        "  norm_reach_cost = np.linalg.norm(x_TN - x_target) # The squared-distance between the end-effector and the goal positions at the end of the movement\n",
        "  comfort_cost = np.max(q[-1, :]) #: A cost that corresponds to the largest angle over all the joints at the end of the movement\n",
        "  C_T = kT*(norm_reach_cost) + comfort_cost\n",
        "  print(kT*(norm_reach_cost))\n",
        "\n",
        "  # acce cost\n",
        "  N = qdotdot.shape[1]\n",
        "  denom = 0\n",
        "  for n in range(qdotdot.shape[1]):\n",
        "    denom += (N+1 - n)\n",
        "\n",
        "  acce_cost = 0\n",
        "  for t in range(qdotdot.shape[0]):\n",
        "    acce_cost += acceleration_cost(qdotdot, kt, t)\n",
        "  acce_cost = acce_cost/denom\n",
        "  # print(\"Acce cost is \")\n",
        "  # print(acce_cost)\n",
        "\n",
        "  # objective function\n",
        "  J_Qdd = C_T + acce_cost\n",
        "  return J_Qdd"
      ]
    },
    {
      "cell_type": "code",
      "execution_count": null,
      "metadata": {
        "colab": {
          "base_uri": "https://localhost:8080/",
          "height": 34
        },
        "id": "FWy3aHZXLboL",
        "outputId": "5ae26750-5dd7-4aa5-eb57-269710031923"
      },
      "outputs": [
        {
          "data": {
            "application/javascript": "/* Put everything inside the global mpl namespace */\n/* global mpl */\nwindow.mpl = {};\n\nmpl.get_websocket_type = function () {\n    if (typeof WebSocket !== 'undefined') {\n        return WebSocket;\n    } else if (typeof MozWebSocket !== 'undefined') {\n        return MozWebSocket;\n    } else {\n        alert(\n            'Your browser does not have WebSocket support. ' +\n                'Please try Chrome, Safari or Firefox ≥ 6. ' +\n                'Firefox 4 and 5 are also supported but you ' +\n                'have to enable WebSockets in about:config.'\n        );\n    }\n};\n\nmpl.figure = function (figure_id, websocket, ondownload, parent_element) {\n    this.id = figure_id;\n\n    this.ws = websocket;\n\n    this.supports_binary = this.ws.binaryType !== undefined;\n\n    if (!this.supports_binary) {\n        var warnings = document.getElementById('mpl-warnings');\n        if (warnings) {\n            warnings.style.display = 'block';\n            warnings.textContent =\n                'This browser does not support binary websocket messages. ' +\n                'Performance may be slow.';\n        }\n    }\n\n    this.imageObj = new Image();\n\n    this.context = undefined;\n    this.message = undefined;\n    this.canvas = undefined;\n    this.rubberband_canvas = undefined;\n    this.rubberband_context = undefined;\n    this.format_dropdown = undefined;\n\n    this.image_mode = 'full';\n\n    this.root = document.createElement('div');\n    this.root.setAttribute('style', 'display: inline-block');\n    this._root_extra_style(this.root);\n\n    parent_element.appendChild(this.root);\n\n    this._init_header(this);\n    this._init_canvas(this);\n    this._init_toolbar(this);\n\n    var fig = this;\n\n    this.waiting = false;\n\n    this.ws.onopen = function () {\n        fig.send_message('supports_binary', { value: fig.supports_binary });\n        fig.send_message('send_image_mode', {});\n        if (fig.ratio !== 1) {\n            fig.send_message('set_dpi_ratio', { dpi_ratio: fig.ratio });\n        }\n        fig.send_message('refresh', {});\n    };\n\n    this.imageObj.onload = function () {\n        if (fig.image_mode === 'full') {\n            // Full images could contain transparency (where diff images\n            // almost always do), so we need to clear the canvas so that\n            // there is no ghosting.\n            fig.context.clearRect(0, 0, fig.canvas.width, fig.canvas.height);\n        }\n        fig.context.drawImage(fig.imageObj, 0, 0);\n    };\n\n    this.imageObj.onunload = function () {\n        fig.ws.close();\n    };\n\n    this.ws.onmessage = this._make_on_message_function(this);\n\n    this.ondownload = ondownload;\n};\n\nmpl.figure.prototype._init_header = function () {\n    var titlebar = document.createElement('div');\n    titlebar.classList =\n        'ui-dialog-titlebar ui-widget-header ui-corner-all ui-helper-clearfix';\n    var titletext = document.createElement('div');\n    titletext.classList = 'ui-dialog-title';\n    titletext.setAttribute(\n        'style',\n        'width: 100%; text-align: center; padding: 3px;'\n    );\n    titlebar.appendChild(titletext);\n    this.root.appendChild(titlebar);\n    this.header = titletext;\n};\n\nmpl.figure.prototype._canvas_extra_style = function (_canvas_div) {};\n\nmpl.figure.prototype._root_extra_style = function (_canvas_div) {};\n\nmpl.figure.prototype._init_canvas = function () {\n    var fig = this;\n\n    var canvas_div = (this.canvas_div = document.createElement('div'));\n    canvas_div.setAttribute(\n        'style',\n        'border: 1px solid #ddd;' +\n            'box-sizing: content-box;' +\n            'clear: both;' +\n            'min-height: 1px;' +\n            'min-width: 1px;' +\n            'outline: 0;' +\n            'overflow: hidden;' +\n            'position: relative;' +\n            'resize: both;'\n    );\n\n    function on_keyboard_event_closure(name) {\n        return function (event) {\n            return fig.key_event(event, name);\n        };\n    }\n\n    canvas_div.addEventListener(\n        'keydown',\n        on_keyboard_event_closure('key_press')\n    );\n    canvas_div.addEventListener(\n        'keyup',\n        on_keyboard_event_closure('key_release')\n    );\n\n    this._canvas_extra_style(canvas_div);\n    this.root.appendChild(canvas_div);\n\n    var canvas = (this.canvas = document.createElement('canvas'));\n    canvas.classList.add('mpl-canvas');\n    canvas.setAttribute('style', 'box-sizing: content-box;');\n\n    this.context = canvas.getContext('2d');\n\n    var backingStore =\n        this.context.backingStorePixelRatio ||\n        this.context.webkitBackingStorePixelRatio ||\n        this.context.mozBackingStorePixelRatio ||\n        this.context.msBackingStorePixelRatio ||\n        this.context.oBackingStorePixelRatio ||\n        this.context.backingStorePixelRatio ||\n        1;\n\n    this.ratio = (window.devicePixelRatio || 1) / backingStore;\n\n    var rubberband_canvas = (this.rubberband_canvas = document.createElement(\n        'canvas'\n    ));\n    rubberband_canvas.setAttribute(\n        'style',\n        'box-sizing: content-box; position: absolute; left: 0; top: 0; z-index: 1;'\n    );\n\n    // Apply a ponyfill if ResizeObserver is not implemented by browser.\n    if (this.ResizeObserver === undefined) {\n        if (window.ResizeObserver !== undefined) {\n            this.ResizeObserver = window.ResizeObserver;\n        } else {\n            var obs = _JSXTOOLS_RESIZE_OBSERVER({});\n            this.ResizeObserver = obs.ResizeObserver;\n        }\n    }\n\n    this.resizeObserverInstance = new this.ResizeObserver(function (entries) {\n        var nentries = entries.length;\n        for (var i = 0; i < nentries; i++) {\n            var entry = entries[i];\n            var width, height;\n            if (entry.contentBoxSize) {\n                if (entry.contentBoxSize instanceof Array) {\n                    // Chrome 84 implements new version of spec.\n                    width = entry.contentBoxSize[0].inlineSize;\n                    height = entry.contentBoxSize[0].blockSize;\n                } else {\n                    // Firefox implements old version of spec.\n                    width = entry.contentBoxSize.inlineSize;\n                    height = entry.contentBoxSize.blockSize;\n                }\n            } else {\n                // Chrome <84 implements even older version of spec.\n                width = entry.contentRect.width;\n                height = entry.contentRect.height;\n            }\n\n            // Keep the size of the canvas and rubber band canvas in sync with\n            // the canvas container.\n            if (entry.devicePixelContentBoxSize) {\n                // Chrome 84 implements new version of spec.\n                canvas.setAttribute(\n                    'width',\n                    entry.devicePixelContentBoxSize[0].inlineSize\n                );\n                canvas.setAttribute(\n                    'height',\n                    entry.devicePixelContentBoxSize[0].blockSize\n                );\n            } else {\n                canvas.setAttribute('width', width * fig.ratio);\n                canvas.setAttribute('height', height * fig.ratio);\n            }\n            canvas.setAttribute(\n                'style',\n                'width: ' + width + 'px; height: ' + height + 'px;'\n            );\n\n            rubberband_canvas.setAttribute('width', width);\n            rubberband_canvas.setAttribute('height', height);\n\n            // And update the size in Python. We ignore the initial 0/0 size\n            // that occurs as the element is placed into the DOM, which should\n            // otherwise not happen due to the minimum size styling.\n            if (fig.ws.readyState == 1 && width != 0 && height != 0) {\n                fig.request_resize(width, height);\n            }\n        }\n    });\n    this.resizeObserverInstance.observe(canvas_div);\n\n    function on_mouse_event_closure(name) {\n        return function (event) {\n            return fig.mouse_event(event, name);\n        };\n    }\n\n    rubberband_canvas.addEventListener(\n        'mousedown',\n        on_mouse_event_closure('button_press')\n    );\n    rubberband_canvas.addEventListener(\n        'mouseup',\n        on_mouse_event_closure('button_release')\n    );\n    rubberband_canvas.addEventListener(\n        'dblclick',\n        on_mouse_event_closure('dblclick')\n    );\n    // Throttle sequential mouse events to 1 every 20ms.\n    rubberband_canvas.addEventListener(\n        'mousemove',\n        on_mouse_event_closure('motion_notify')\n    );\n\n    rubberband_canvas.addEventListener(\n        'mouseenter',\n        on_mouse_event_closure('figure_enter')\n    );\n    rubberband_canvas.addEventListener(\n        'mouseleave',\n        on_mouse_event_closure('figure_leave')\n    );\n\n    canvas_div.addEventListener('wheel', function (event) {\n        if (event.deltaY < 0) {\n            event.step = 1;\n        } else {\n            event.step = -1;\n        }\n        on_mouse_event_closure('scroll')(event);\n    });\n\n    canvas_div.appendChild(canvas);\n    canvas_div.appendChild(rubberband_canvas);\n\n    this.rubberband_context = rubberband_canvas.getContext('2d');\n    this.rubberband_context.strokeStyle = '#000000';\n\n    this._resize_canvas = function (width, height, forward) {\n        if (forward) {\n            canvas_div.style.width = width + 'px';\n            canvas_div.style.height = height + 'px';\n        }\n    };\n\n    // Disable right mouse context menu.\n    this.rubberband_canvas.addEventListener('contextmenu', function (_e) {\n        event.preventDefault();\n        return false;\n    });\n\n    function set_focus() {\n        canvas.focus();\n        canvas_div.focus();\n    }\n\n    window.setTimeout(set_focus, 100);\n};\n\nmpl.figure.prototype._init_toolbar = function () {\n    var fig = this;\n\n    var toolbar = document.createElement('div');\n    toolbar.classList = 'mpl-toolbar';\n    this.root.appendChild(toolbar);\n\n    function on_click_closure(name) {\n        return function (_event) {\n            return fig.toolbar_button_onclick(name);\n        };\n    }\n\n    function on_mouseover_closure(tooltip) {\n        return function (event) {\n            if (!event.currentTarget.disabled) {\n                return fig.toolbar_button_onmouseover(tooltip);\n            }\n        };\n    }\n\n    fig.buttons = {};\n    var buttonGroup = document.createElement('div');\n    buttonGroup.classList = 'mpl-button-group';\n    for (var toolbar_ind in mpl.toolbar_items) {\n        var name = mpl.toolbar_items[toolbar_ind][0];\n        var tooltip = mpl.toolbar_items[toolbar_ind][1];\n        var image = mpl.toolbar_items[toolbar_ind][2];\n        var method_name = mpl.toolbar_items[toolbar_ind][3];\n\n        if (!name) {\n            /* Instead of a spacer, we start a new button group. */\n            if (buttonGroup.hasChildNodes()) {\n                toolbar.appendChild(buttonGroup);\n            }\n            buttonGroup = document.createElement('div');\n            buttonGroup.classList = 'mpl-button-group';\n            continue;\n        }\n\n        var button = (fig.buttons[name] = document.createElement('button'));\n        button.classList = 'mpl-widget';\n        button.setAttribute('role', 'button');\n        button.setAttribute('aria-disabled', 'false');\n        button.addEventListener('click', on_click_closure(method_name));\n        button.addEventListener('mouseover', on_mouseover_closure(tooltip));\n\n        var icon_img = document.createElement('img');\n        icon_img.src = '_images/' + image + '.png';\n        icon_img.srcset = '_images/' + image + '_large.png 2x';\n        icon_img.alt = tooltip;\n        button.appendChild(icon_img);\n\n        buttonGroup.appendChild(button);\n    }\n\n    if (buttonGroup.hasChildNodes()) {\n        toolbar.appendChild(buttonGroup);\n    }\n\n    var fmt_picker = document.createElement('select');\n    fmt_picker.classList = 'mpl-widget';\n    toolbar.appendChild(fmt_picker);\n    this.format_dropdown = fmt_picker;\n\n    for (var ind in mpl.extensions) {\n        var fmt = mpl.extensions[ind];\n        var option = document.createElement('option');\n        option.selected = fmt === mpl.default_extension;\n        option.innerHTML = fmt;\n        fmt_picker.appendChild(option);\n    }\n\n    var status_bar = document.createElement('span');\n    status_bar.classList = 'mpl-message';\n    toolbar.appendChild(status_bar);\n    this.message = status_bar;\n};\n\nmpl.figure.prototype.request_resize = function (x_pixels, y_pixels) {\n    // Request matplotlib to resize the figure. Matplotlib will then trigger a resize in the client,\n    // which will in turn request a refresh of the image.\n    this.send_message('resize', { width: x_pixels, height: y_pixels });\n};\n\nmpl.figure.prototype.send_message = function (type, properties) {\n    properties['type'] = type;\n    properties['figure_id'] = this.id;\n    this.ws.send(JSON.stringify(properties));\n};\n\nmpl.figure.prototype.send_draw_message = function () {\n    if (!this.waiting) {\n        this.waiting = true;\n        this.ws.send(JSON.stringify({ type: 'draw', figure_id: this.id }));\n    }\n};\n\nmpl.figure.prototype.handle_save = function (fig, _msg) {\n    var format_dropdown = fig.format_dropdown;\n    var format = format_dropdown.options[format_dropdown.selectedIndex].value;\n    fig.ondownload(fig, format);\n};\n\nmpl.figure.prototype.handle_resize = function (fig, msg) {\n    var size = msg['size'];\n    if (size[0] !== fig.canvas.width || size[1] !== fig.canvas.height) {\n        fig._resize_canvas(size[0], size[1], msg['forward']);\n        fig.send_message('refresh', {});\n    }\n};\n\nmpl.figure.prototype.handle_rubberband = function (fig, msg) {\n    var x0 = msg['x0'] / fig.ratio;\n    var y0 = (fig.canvas.height - msg['y0']) / fig.ratio;\n    var x1 = msg['x1'] / fig.ratio;\n    var y1 = (fig.canvas.height - msg['y1']) / fig.ratio;\n    x0 = Math.floor(x0) + 0.5;\n    y0 = Math.floor(y0) + 0.5;\n    x1 = Math.floor(x1) + 0.5;\n    y1 = Math.floor(y1) + 0.5;\n    var min_x = Math.min(x0, x1);\n    var min_y = Math.min(y0, y1);\n    var width = Math.abs(x1 - x0);\n    var height = Math.abs(y1 - y0);\n\n    fig.rubberband_context.clearRect(\n        0,\n        0,\n        fig.canvas.width / fig.ratio,\n        fig.canvas.height / fig.ratio\n    );\n\n    fig.rubberband_context.strokeRect(min_x, min_y, width, height);\n};\n\nmpl.figure.prototype.handle_figure_label = function (fig, msg) {\n    // Updates the figure title.\n    fig.header.textContent = msg['label'];\n};\n\nmpl.figure.prototype.handle_cursor = function (fig, msg) {\n    var cursor = msg['cursor'];\n    switch (cursor) {\n        case 0:\n            cursor = 'pointer';\n            break;\n        case 1:\n            cursor = 'default';\n            break;\n        case 2:\n            cursor = 'crosshair';\n            break;\n        case 3:\n            cursor = 'move';\n            break;\n    }\n    fig.rubberband_canvas.style.cursor = cursor;\n};\n\nmpl.figure.prototype.handle_message = function (fig, msg) {\n    fig.message.textContent = msg['message'];\n};\n\nmpl.figure.prototype.handle_draw = function (fig, _msg) {\n    // Request the server to send over a new figure.\n    fig.send_draw_message();\n};\n\nmpl.figure.prototype.handle_image_mode = function (fig, msg) {\n    fig.image_mode = msg['mode'];\n};\n\nmpl.figure.prototype.handle_history_buttons = function (fig, msg) {\n    for (var key in msg) {\n        if (!(key in fig.buttons)) {\n            continue;\n        }\n        fig.buttons[key].disabled = !msg[key];\n        fig.buttons[key].setAttribute('aria-disabled', !msg[key]);\n    }\n};\n\nmpl.figure.prototype.handle_navigate_mode = function (fig, msg) {\n    if (msg['mode'] === 'PAN') {\n        fig.buttons['Pan'].classList.add('active');\n        fig.buttons['Zoom'].classList.remove('active');\n    } else if (msg['mode'] === 'ZOOM') {\n        fig.buttons['Pan'].classList.remove('active');\n        fig.buttons['Zoom'].classList.add('active');\n    } else {\n        fig.buttons['Pan'].classList.remove('active');\n        fig.buttons['Zoom'].classList.remove('active');\n    }\n};\n\nmpl.figure.prototype.updated_canvas_event = function () {\n    // Called whenever the canvas gets updated.\n    this.send_message('ack', {});\n};\n\n// A function to construct a web socket function for onmessage handling.\n// Called in the figure constructor.\nmpl.figure.prototype._make_on_message_function = function (fig) {\n    return function socket_on_message(evt) {\n        if (evt.data instanceof Blob) {\n            var img = evt.data;\n            if (img.type !== 'image/png') {\n                /* FIXME: We get \"Resource interpreted as Image but\n                 * transferred with MIME type text/plain:\" errors on\n                 * Chrome.  But how to set the MIME type?  It doesn't seem\n                 * to be part of the websocket stream */\n                img.type = 'image/png';\n            }\n\n            /* Free the memory for the previous frames */\n            if (fig.imageObj.src) {\n                (window.URL || window.webkitURL).revokeObjectURL(\n                    fig.imageObj.src\n                );\n            }\n\n            fig.imageObj.src = (window.URL || window.webkitURL).createObjectURL(\n                img\n            );\n            fig.updated_canvas_event();\n            fig.waiting = false;\n            return;\n        } else if (\n            typeof evt.data === 'string' &&\n            evt.data.slice(0, 21) === 'data:image/png;base64'\n        ) {\n            fig.imageObj.src = evt.data;\n            fig.updated_canvas_event();\n            fig.waiting = false;\n            return;\n        }\n\n        var msg = JSON.parse(evt.data);\n        var msg_type = msg['type'];\n\n        // Call the  \"handle_{type}\" callback, which takes\n        // the figure and JSON message as its only arguments.\n        try {\n            var callback = fig['handle_' + msg_type];\n        } catch (e) {\n            console.log(\n                \"No handler for the '\" + msg_type + \"' message type: \",\n                msg\n            );\n            return;\n        }\n\n        if (callback) {\n            try {\n                // console.log(\"Handling '\" + msg_type + \"' message: \", msg);\n                callback(fig, msg);\n            } catch (e) {\n                console.log(\n                    \"Exception inside the 'handler_\" + msg_type + \"' callback:\",\n                    e,\n                    e.stack,\n                    msg\n                );\n            }\n        }\n    };\n};\n\n// from http://stackoverflow.com/questions/1114465/getting-mouse-location-in-canvas\nmpl.findpos = function (e) {\n    //this section is from http://www.quirksmode.org/js/events_properties.html\n    var targ;\n    if (!e) {\n        e = window.event;\n    }\n    if (e.target) {\n        targ = e.target;\n    } else if (e.srcElement) {\n        targ = e.srcElement;\n    }\n    if (targ.nodeType === 3) {\n        // defeat Safari bug\n        targ = targ.parentNode;\n    }\n\n    // pageX,Y are the mouse positions relative to the document\n    var boundingRect = targ.getBoundingClientRect();\n    var x = e.pageX - (boundingRect.left + document.body.scrollLeft);\n    var y = e.pageY - (boundingRect.top + document.body.scrollTop);\n\n    return { x: x, y: y };\n};\n\n/*\n * return a copy of an object with only non-object keys\n * we need this to avoid circular references\n * http://stackoverflow.com/a/24161582/3208463\n */\nfunction simpleKeys(original) {\n    return Object.keys(original).reduce(function (obj, key) {\n        if (typeof original[key] !== 'object') {\n            obj[key] = original[key];\n        }\n        return obj;\n    }, {});\n}\n\nmpl.figure.prototype.mouse_event = function (event, name) {\n    var canvas_pos = mpl.findpos(event);\n\n    if (name === 'button_press') {\n        this.canvas.focus();\n        this.canvas_div.focus();\n    }\n\n    var x = canvas_pos.x * this.ratio;\n    var y = canvas_pos.y * this.ratio;\n\n    this.send_message(name, {\n        x: x,\n        y: y,\n        button: event.button,\n        step: event.step,\n        guiEvent: simpleKeys(event),\n    });\n\n    /* This prevents the web browser from automatically changing to\n     * the text insertion cursor when the button is pressed.  We want\n     * to control all of the cursor setting manually through the\n     * 'cursor' event from matplotlib */\n    event.preventDefault();\n    return false;\n};\n\nmpl.figure.prototype._key_event_extra = function (_event, _name) {\n    // Handle any extra behaviour associated with a key event\n};\n\nmpl.figure.prototype.key_event = function (event, name) {\n    // Prevent repeat events\n    if (name === 'key_press') {\n        if (event.key === this._key) {\n            return;\n        } else {\n            this._key = event.key;\n        }\n    }\n    if (name === 'key_release') {\n        this._key = null;\n    }\n\n    var value = '';\n    if (event.ctrlKey && event.key !== 'Control') {\n        value += 'ctrl+';\n    }\n    else if (event.altKey && event.key !== 'Alt') {\n        value += 'alt+';\n    }\n    else if (event.shiftKey && event.key !== 'Shift') {\n        value += 'shift+';\n    }\n\n    value += 'k' + event.key;\n\n    this._key_event_extra(event, name);\n\n    this.send_message(name, { key: value, guiEvent: simpleKeys(event) });\n    return false;\n};\n\nmpl.figure.prototype.toolbar_button_onclick = function (name) {\n    if (name === 'download') {\n        this.handle_save(this, null);\n    } else {\n        this.send_message('toolbar_button', { name: name });\n    }\n};\n\nmpl.figure.prototype.toolbar_button_onmouseover = function (tooltip) {\n    this.message.textContent = tooltip;\n};\n\n///////////////// REMAINING CONTENT GENERATED BY embed_js.py /////////////////\n// prettier-ignore\nvar _JSXTOOLS_RESIZE_OBSERVER=function(A){var t,i=new WeakMap,n=new WeakMap,a=new WeakMap,r=new WeakMap,o=new Set;function s(e){if(!(this instanceof s))throw new TypeError(\"Constructor requires 'new' operator\");i.set(this,e)}function h(){throw new TypeError(\"Function is not a constructor\")}function c(e,t,i,n){e=0 in arguments?Number(arguments[0]):0,t=1 in arguments?Number(arguments[1]):0,i=2 in arguments?Number(arguments[2]):0,n=3 in arguments?Number(arguments[3]):0,this.right=(this.x=this.left=e)+(this.width=i),this.bottom=(this.y=this.top=t)+(this.height=n),Object.freeze(this)}function d(){t=requestAnimationFrame(d);var s=new WeakMap,p=new Set;o.forEach((function(t){r.get(t).forEach((function(i){var r=t instanceof window.SVGElement,o=a.get(t),d=r?0:parseFloat(o.paddingTop),f=r?0:parseFloat(o.paddingRight),l=r?0:parseFloat(o.paddingBottom),u=r?0:parseFloat(o.paddingLeft),g=r?0:parseFloat(o.borderTopWidth),m=r?0:parseFloat(o.borderRightWidth),w=r?0:parseFloat(o.borderBottomWidth),b=u+f,F=d+l,v=(r?0:parseFloat(o.borderLeftWidth))+m,W=g+w,y=r?0:t.offsetHeight-W-t.clientHeight,E=r?0:t.offsetWidth-v-t.clientWidth,R=b+v,z=F+W,M=r?t.width:parseFloat(o.width)-R-E,O=r?t.height:parseFloat(o.height)-z-y;if(n.has(t)){var k=n.get(t);if(k[0]===M&&k[1]===O)return}n.set(t,[M,O]);var S=Object.create(h.prototype);S.target=t,S.contentRect=new c(u,d,M,O),s.has(i)||(s.set(i,[]),p.add(i)),s.get(i).push(S)}))})),p.forEach((function(e){i.get(e).call(e,s.get(e),e)}))}return s.prototype.observe=function(i){if(i instanceof window.Element){r.has(i)||(r.set(i,new Set),o.add(i),a.set(i,window.getComputedStyle(i)));var n=r.get(i);n.has(this)||n.add(this),cancelAnimationFrame(t),t=requestAnimationFrame(d)}},s.prototype.unobserve=function(i){if(i instanceof window.Element&&r.has(i)){var n=r.get(i);n.has(this)&&(n.delete(this),n.size||(r.delete(i),o.delete(i))),n.size||r.delete(i),o.size||cancelAnimationFrame(t)}},A.DOMRectReadOnly=c,A.ResizeObserver=s,A.ResizeObserverEntry=h,A}; // eslint-disable-line\nmpl.toolbar_items = [[\"Home\", \"Reset original view\", \"fa fa-home icon-home\", \"home\"], [\"Back\", \"Back to previous view\", \"fa fa-arrow-left icon-arrow-left\", \"back\"], [\"Forward\", \"Forward to next view\", \"fa fa-arrow-right icon-arrow-right\", \"forward\"], [\"\", \"\", \"\", \"\"], [\"Pan\", \"Left button pans, Right button zooms\\nx/y fixes axis, CTRL fixes aspect\", \"fa fa-arrows icon-move\", \"pan\"], [\"Zoom\", \"Zoom to rectangle\\nx/y fixes axis, CTRL fixes aspect\", \"fa fa-square-o icon-check-empty\", \"zoom\"], [\"\", \"\", \"\", \"\"], [\"Download\", \"Download plot\", \"fa fa-floppy-o icon-save\", \"download\"]];\n\nmpl.extensions = [\"eps\", \"jpeg\", \"pgf\", \"pdf\", \"png\", \"ps\", \"raw\", \"svg\", \"tif\"];\n\nmpl.default_extension = \"png\";/* global mpl */\n\nvar comm_websocket_adapter = function (comm) {\n    // Create a \"websocket\"-like object which calls the given IPython comm\n    // object with the appropriate methods. Currently this is a non binary\n    // socket, so there is still some room for performance tuning.\n    var ws = {};\n\n    ws.binaryType = comm.kernel.ws.binaryType;\n    ws.readyState = comm.kernel.ws.readyState;\n    function updateReadyState(_event) {\n        if (comm.kernel.ws) {\n            ws.readyState = comm.kernel.ws.readyState;\n        } else {\n            ws.readyState = 3; // Closed state.\n        }\n    }\n    comm.kernel.ws.addEventListener('open', updateReadyState);\n    comm.kernel.ws.addEventListener('close', updateReadyState);\n    comm.kernel.ws.addEventListener('error', updateReadyState);\n\n    ws.close = function () {\n        comm.close();\n    };\n    ws.send = function (m) {\n        //console.log('sending', m);\n        comm.send(m);\n    };\n    // Register the callback with on_msg.\n    comm.on_msg(function (msg) {\n        //console.log('receiving', msg['content']['data'], msg);\n        var data = msg['content']['data'];\n        if (data['blob'] !== undefined) {\n            data = {\n                data: new Blob(msg['buffers'], { type: data['blob'] }),\n            };\n        }\n        // Pass the mpl event to the overridden (by mpl) onmessage function.\n        ws.onmessage(data);\n    });\n    return ws;\n};\n\nmpl.mpl_figure_comm = function (comm, msg) {\n    // This is the function which gets called when the mpl process\n    // starts-up an IPython Comm through the \"matplotlib\" channel.\n\n    var id = msg.content.data.id;\n    // Get hold of the div created by the display call when the Comm\n    // socket was opened in Python.\n    var element = document.getElementById(id);\n    var ws_proxy = comm_websocket_adapter(comm);\n\n    function ondownload(figure, _format) {\n        window.open(figure.canvas.toDataURL());\n    }\n\n    var fig = new mpl.figure(id, ws_proxy, ondownload, element);\n\n    // Call onopen now - mpl needs it, as it is assuming we've passed it a real\n    // web socket which is closed, not our websocket->open comm proxy.\n    ws_proxy.onopen();\n\n    fig.parent_element = element;\n    fig.cell_info = mpl.find_output_cell(\"<div id='\" + id + \"'></div>\");\n    if (!fig.cell_info) {\n        console.error('Failed to find cell for figure', id, fig);\n        return;\n    }\n    fig.cell_info[0].output_area.element.on(\n        'cleared',\n        { fig: fig },\n        fig._remove_fig_handler\n    );\n};\n\nmpl.figure.prototype.handle_close = function (fig, msg) {\n    var width = fig.canvas.width / fig.ratio;\n    fig.cell_info[0].output_area.element.off(\n        'cleared',\n        fig._remove_fig_handler\n    );\n    fig.resizeObserverInstance.unobserve(fig.canvas_div);\n\n    // Update the output cell to use the data from the current canvas.\n    fig.push_to_output();\n    var dataURL = fig.canvas.toDataURL();\n    // Re-enable the keyboard manager in IPython - without this line, in FF,\n    // the notebook keyboard shortcuts fail.\n    IPython.keyboard_manager.enable();\n    fig.parent_element.innerHTML =\n        '<img src=\"' + dataURL + '\" width=\"' + width + '\">';\n    fig.close_ws(fig, msg);\n};\n\nmpl.figure.prototype.close_ws = function (fig, msg) {\n    fig.send_message('closing', msg);\n    // fig.ws.close()\n};\n\nmpl.figure.prototype.push_to_output = function (_remove_interactive) {\n    // Turn the data on the canvas into data in the output cell.\n    var width = this.canvas.width / this.ratio;\n    var dataURL = this.canvas.toDataURL();\n    this.cell_info[1]['text/html'] =\n        '<img src=\"' + dataURL + '\" width=\"' + width + '\">';\n};\n\nmpl.figure.prototype.updated_canvas_event = function () {\n    // Tell IPython that the notebook contents must change.\n    IPython.notebook.set_dirty(true);\n    this.send_message('ack', {});\n    var fig = this;\n    // Wait a second, then push the new image to the DOM so\n    // that it is saved nicely (might be nice to debounce this).\n    setTimeout(function () {\n        fig.push_to_output();\n    }, 1000);\n};\n\nmpl.figure.prototype._init_toolbar = function () {\n    var fig = this;\n\n    var toolbar = document.createElement('div');\n    toolbar.classList = 'btn-toolbar';\n    this.root.appendChild(toolbar);\n\n    function on_click_closure(name) {\n        return function (_event) {\n            return fig.toolbar_button_onclick(name);\n        };\n    }\n\n    function on_mouseover_closure(tooltip) {\n        return function (event) {\n            if (!event.currentTarget.disabled) {\n                return fig.toolbar_button_onmouseover(tooltip);\n            }\n        };\n    }\n\n    fig.buttons = {};\n    var buttonGroup = document.createElement('div');\n    buttonGroup.classList = 'btn-group';\n    var button;\n    for (var toolbar_ind in mpl.toolbar_items) {\n        var name = mpl.toolbar_items[toolbar_ind][0];\n        var tooltip = mpl.toolbar_items[toolbar_ind][1];\n        var image = mpl.toolbar_items[toolbar_ind][2];\n        var method_name = mpl.toolbar_items[toolbar_ind][3];\n\n        if (!name) {\n            /* Instead of a spacer, we start a new button group. */\n            if (buttonGroup.hasChildNodes()) {\n                toolbar.appendChild(buttonGroup);\n            }\n            buttonGroup = document.createElement('div');\n            buttonGroup.classList = 'btn-group';\n            continue;\n        }\n\n        button = fig.buttons[name] = document.createElement('button');\n        button.classList = 'btn btn-default';\n        button.href = '#';\n        button.title = name;\n        button.innerHTML = '<i class=\"fa ' + image + ' fa-lg\"></i>';\n        button.addEventListener('click', on_click_closure(method_name));\n        button.addEventListener('mouseover', on_mouseover_closure(tooltip));\n        buttonGroup.appendChild(button);\n    }\n\n    if (buttonGroup.hasChildNodes()) {\n        toolbar.appendChild(buttonGroup);\n    }\n\n    // Add the status bar.\n    var status_bar = document.createElement('span');\n    status_bar.classList = 'mpl-message pull-right';\n    toolbar.appendChild(status_bar);\n    this.message = status_bar;\n\n    // Add the close button to the window.\n    var buttongrp = document.createElement('div');\n    buttongrp.classList = 'btn-group inline pull-right';\n    button = document.createElement('button');\n    button.classList = 'btn btn-mini btn-primary';\n    button.href = '#';\n    button.title = 'Stop Interaction';\n    button.innerHTML = '<i class=\"fa fa-power-off icon-remove icon-large\"></i>';\n    button.addEventListener('click', function (_evt) {\n        fig.handle_close(fig, {});\n    });\n    button.addEventListener(\n        'mouseover',\n        on_mouseover_closure('Stop Interaction')\n    );\n    buttongrp.appendChild(button);\n    var titlebar = this.root.querySelector('.ui-dialog-titlebar');\n    titlebar.insertBefore(buttongrp, titlebar.firstChild);\n};\n\nmpl.figure.prototype._remove_fig_handler = function (event) {\n    var fig = event.data.fig;\n    if (event.target !== this) {\n        // Ignore bubbled events from children.\n        return;\n    }\n    fig.close_ws(fig, {});\n};\n\nmpl.figure.prototype._root_extra_style = function (el) {\n    el.style.boxSizing = 'content-box'; // override notebook setting of border-box.\n};\n\nmpl.figure.prototype._canvas_extra_style = function (el) {\n    // this is important to make the div 'focusable\n    el.setAttribute('tabindex', 0);\n    // reach out to IPython and tell the keyboard manager to turn it's self\n    // off when our div gets focus\n\n    // location in version 3\n    if (IPython.notebook.keyboard_manager) {\n        IPython.notebook.keyboard_manager.register_events(el);\n    } else {\n        // location in version 2\n        IPython.keyboard_manager.register_events(el);\n    }\n};\n\nmpl.figure.prototype._key_event_extra = function (event, _name) {\n    var manager = IPython.notebook.keyboard_manager;\n    if (!manager) {\n        manager = IPython.keyboard_manager;\n    }\n\n    // Check for shift+enter\n    if (event.shiftKey && event.which === 13) {\n        this.canvas_div.blur();\n        // select the cell after this one\n        var index = IPython.notebook.find_cell_index(this.cell_info[0]);\n        IPython.notebook.select(index + 1);\n    }\n};\n\nmpl.figure.prototype.handle_save = function (fig, _msg) {\n    fig.ondownload(fig, null);\n};\n\nmpl.find_output_cell = function (html_output) {\n    // Return the cell and output element which can be found *uniquely* in the notebook.\n    // Note - this is a bit hacky, but it is done because the \"notebook_saving.Notebook\"\n    // IPython event is triggered only after the cells have been serialised, which for\n    // our purposes (turning an active figure into a static one), is too late.\n    var cells = IPython.notebook.get_cells();\n    var ncells = cells.length;\n    for (var i = 0; i < ncells; i++) {\n        var cell = cells[i];\n        if (cell.cell_type === 'code') {\n            for (var j = 0; j < cell.output_area.outputs.length; j++) {\n                var data = cell.output_area.outputs[j];\n                if (data.data) {\n                    // IPython >= 3 moved mimebundle to data attribute of output\n                    data = data.data;\n                }\n                if (data['text/html'] === html_output) {\n                    return [cell, data, j];\n                }\n            }\n        }\n    }\n};\n\n// Register the function which deals with the matplotlib target/channel.\n// The kernel may be null if the page has been refreshed.\nif (IPython.notebook.kernel !== null) {\n    IPython.notebook.kernel.comm_manager.register_target(\n        'matplotlib',\n        mpl.mpl_figure_comm\n    );\n}\n",
            "text/plain": [
              "<IPython.core.display.Javascript object>"
            ]
          },
          "metadata": {},
          "output_type": "display_data"
        },
        {
          "data": {
            "text/html": [
              "<div id='8329b3f4-5c45-4976-9e78-486299285eea'></div>"
            ],
            "text/plain": [
              "<IPython.core.display.HTML object>"
            ]
          },
          "metadata": {},
          "output_type": "display_data"
        },
        {
          "name": "stdout",
          "output_type": "stream",
          "text": [
            "154.4411089354825\n",
            "149.62169452010582\n"
          ]
        }
      ],
      "source": [
        "# returns xy xy xy (six columns) base, joint 1, end effector (in a 2-links case)\n",
        "# need to take the last two columns\n",
        "# T = 1\n",
        "from numpy import genfromtxt\n",
        "\n",
        "x_target = np.array([0.3, 0.7])\n",
        "init_condit = [[np.pi/8, np.pi/4], [0, 0]]\n",
        "robot_arm = RobotArm2D(arm_length = 1.3, rel_link_lengths = np.array([0.8, 0.5]))\n",
        "qdotdot = genfromtxt('sample_qdd.csv', delimiter=',').transpose()\n",
        "\n",
        "time_steps, q, qdot, qdotdot, ani = get_traj_and_simulate(qdotdot, robot_arm, x_target, init_condit = init_condit, dt = 1e-2)\n",
        "\n",
        "print(cost_function(x_target, q, qdotdot, robot_arm))\n",
        "# should be 18.98"
      ]
    },
    {
      "cell_type": "code",
      "execution_count": null,
      "metadata": {
        "id": "RILajVwY9LNU"
      },
      "outputs": [],
      "source": [
        "# code for 2D animation or plot display of the reach task\n",
        "#   1. should be able to take a goal point and display it (as star/dot)\n",
        "#   2. work/plot for N-DOF planar\n",
        "#   3. show radius for reach task completion tolerance\n",
        "#   4. animate movement for the range of angles (show similar to gifs/anims here: https://github.com/pranshumalik14/analog-ctrl/blob/master/analog_ik/2dof_idea_overview.gif)"
      ]
    },
    {
      "cell_type": "markdown",
      "metadata": {},
      "source": [
        "# PIBB: Blackbox Stochastic Optimization"
      ]
    },
    {
      "cell_type": "code",
      "execution_count": null,
      "metadata": {},
      "outputs": [
        {
          "name": "stdout",
          "output_type": "stream",
          "text": [
            "[[0.05 0.   0.   0.   0.   0.   0.   0.   0.   0.  ]\n",
            " [0.   0.05 0.   0.   0.   0.   0.   0.   0.   0.  ]\n",
            " [0.   0.   0.05 0.   0.   0.   0.   0.   0.   0.  ]\n",
            " [0.   0.   0.   0.05 0.   0.   0.   0.   0.   0.  ]\n",
            " [0.   0.   0.   0.   0.05 0.   0.   0.   0.   0.  ]\n",
            " [0.   0.   0.   0.   0.   0.05 0.   0.   0.   0.  ]\n",
            " [0.   0.   0.   0.   0.   0.   0.05 0.   0.   0.  ]\n",
            " [0.   0.   0.   0.   0.   0.   0.   0.05 0.   0.  ]\n",
            " [0.   0.   0.   0.   0.   0.   0.   0.   0.05 0.  ]\n",
            " [0.   0.   0.   0.   0.   0.   0.   0.   0.   0.05]\n",
            " [0.05 0.   0.   0.   0.   0.   0.   0.   0.   0.  ]\n",
            " [0.   0.05 0.   0.   0.   0.   0.   0.   0.   0.  ]\n",
            " [0.   0.   0.05 0.   0.   0.   0.   0.   0.   0.  ]\n",
            " [0.   0.   0.   0.05 0.   0.   0.   0.   0.   0.  ]\n",
            " [0.   0.   0.   0.   0.05 0.   0.   0.   0.   0.  ]\n",
            " [0.   0.   0.   0.   0.   0.05 0.   0.   0.   0.  ]\n",
            " [0.   0.   0.   0.   0.   0.   0.05 0.   0.   0.  ]\n",
            " [0.   0.   0.   0.   0.   0.   0.   0.05 0.   0.  ]\n",
            " [0.   0.   0.   0.   0.   0.   0.   0.   0.05 0.  ]\n",
            " [0.   0.   0.   0.   0.   0.   0.   0.   0.   0.05]]\n"
          ]
        }
      ],
      "source": [
        "# sample data\n",
        "T = 1; N = 2;\n",
        "\n",
        "lambda_init = lambda_min = 0.05; lambda_max = 5; # exploration levels; TODO: set λₘₐₓ acc. to need\n",
        "B = 10; w = T/(2*B);              # num basis funcs, B, and width of basis funcs, w\n",
        "# Σ = cat([Diagonal(λᵢₙᵢₜ*I, B) for i in range(N)]); dims=3); # covar matrix with 3d dimensions\n",
        "sigma_matrix = np.concatenate([lambda_init*np.eye(B) for i in range(N)])\n",
        "# ############################## Need to figure out 3D stuff for the sigma matrix ##################################\n",
        "# sigma_matrix = np.concatenate([lambda_init*np.eye(B) for i in range(N)]).reshape((3,3))\n",
        "Θ = np.zeros(B*N).reshape((B,N));               # no default action to start with\n",
        "K = 20; h = 10;                # number of rollouts, K, and eliteness param, h\n",
        "print(sigma_matrix)"
      ]
    },
    {
      "cell_type": "markdown",
      "metadata": {},
      "source": [
        "## Helper functions"
      ]
    },
    {
      "cell_type": "code",
      "execution_count": null,
      "metadata": {},
      "outputs": [],
      "source": [
        "def psi(c, t, w):\n",
        "    return np.exp(-((t-c)/w)**2)\n",
        "\n",
        "cs = w + range(0, T, 2*w)\n",
        "\n",
        "def psi_cumulative(t):\n",
        "    return [psi(cs[b], t, w) for b in range(B)]\n",
        "\n",
        "def g(b, t):\n",
        "    return psi(cs[b], t)/sum(psi_cumulative(t))\n",
        "\n",
        "def g(t):\n",
        "    return [g(b, t) for b in range(B)]\n",
        "\n",
        "def qdotdot_gen(Theta, t):\n",
        "    return Theta.transpose() * g"
      ]
    },
    {
      "cell_type": "code",
      "execution_count": null,
      "metadata": {},
      "outputs": [],
      "source": [
        "def J_rename_this(Theta, T = 1, dt = 0.05):\n",
        "    # J(Θ) = hcat([q̈(Θ, t) for t ∈ 0:Δt:T]...) |> J̃; # J = J(q̈(Θ), 0:Δt:T)\n",
        "    return np.concatenate([qdotdot_gen(Theta, t) for t in range(0, T, dt)], axis = 0) # J = J(q̈(Θ), 0:Δt:T)"
      ]
    },
    {
      "cell_type": "code",
      "execution_count": 33,
      "metadata": {},
      "outputs": [],
      "source": [
        "def boundcovar(Sigma, lambda_min, lambda_max):\n",
        "    eigvals, eigvecs = LA.eig(Sigma)\n",
        "    eigvals = np.clip(np.abs(eigvals), [lambda_min, lambda_max]) * np.sign(eigvals)\n",
        "    Sigma = eigvecs * eigvals*np.eye(len(eigvals)) * np.inv(eigvecs)\n",
        "    return Sigma"
      ]
    },
    {
      "cell_type": "code",
      "execution_count": 34,
      "metadata": {},
      "outputs": [
        {
          "ename": "SyntaxError",
          "evalue": "invalid syntax (2493566710.py, line 1)",
          "output_type": "error",
          "traceback": [
            "\u001b[0;36m  File \u001b[0;32m\"/var/folders/q2/9s4l96mn6c3djjnblzd1fnqw0000gn/T/ipykernel_830/2493566710.py\"\u001b[0;36m, line \u001b[0;32m1\u001b[0m\n\u001b[0;31m    function PIᴮᴮ(Theta, Sigma; params = [], tol=1e-3, maxiter = 1000)\u001b[0m\n\u001b[0m                ^\u001b[0m\n\u001b[0;31mSyntaxError\u001b[0m\u001b[0;31m:\u001b[0m invalid syntax\n"
          ]
        }
      ],
      "source": [
        "def PIBB(Theta, Sigma, params = [10, 20, 2], tol = 1e-3, max_iter = 1000):\n",
        "\tassert(len(params) == 3)\n",
        "\tB = params[0]\n",
        "\tK = params[1]\n",
        "\tN = params[2]\n",
        "\t\n",
        "\titer = 0 \n",
        "\tdelta_J = J_rename_this(Theta)\n",
        "\tJ_hist = = [delta_J]\n",
        "\n",
        "\tThetas = np.zeros(B*K*N).reshape((B, K, N))\n",
        "\tPs = Js = np.zeros(K)\n",
        "\n",
        "\twhile iter < max_iter & abs(delta_J) > tol:\n",
        "\t\titer += 1\n",
        "\n",
        "\t\tfor k in range(K):\n",
        "\t\t\tThetas[:, k, :] = np.concatenate( [np.random.normal(Theta[:, n], Sigma[:, :, n]) for n in range(N)] , axis = 0)\n",
        "\t\t\tJs[k] = J(Thetas[:, k, :])\n",
        "\t\tJ_min = np.min(Js)\n",
        "\t\tJ_max = np.max(Js)\n",
        "\n",
        "\t\tden = sum([np.exp(-h*(Js[l]-J_min)/(J_max-J_min)) for l in range(K)])\n",
        "\t\tfor k in range(K):\n",
        "\t\t\tPs[k] = np.exp(-h*(Js[k]-J_min)/(J_max-J_min))/den\n",
        "\t\t\n",
        "\t\tSigma = np.zeros(B*B*N).reshape((B, B, N))\n",
        "\n",
        "\n",
        "\t\tfor n in range(N):\n",
        "\t\t\tfor k in range(K):\n",
        "\t\t\t\tSigma[:, :, n] += Ps[k]*(Thetas[:, k, n]-Θ[:, n])*(Thetas[:, k, n]-Θ[:, n]).transpose()\n",
        "\t\t\tSigma[:, :, n] = boundcovar(Sigma[:, :, n], lambda_min, lambda_max)\n",
        "\n",
        "\t\tTheta = np.zeros(B*N).reshape((B, N))\n",
        "\n",
        "\t\tfor k in range(K):\n",
        "\t\t\tTheta += Ps[k] * Thetas[:, k, :]\n",
        "\t\t\n",
        "\t\tJ_hist.append(J_rename_this(Theta))\n",
        "\t\tlast_5_J = J_hist[-5:]\n",
        "\t\tdelta_J = max( np.mean(last_5_J), np.max(last_5_J) - np.min(last_5_J) )\n",
        "\n",
        "\t\t\n",
        "\n",
        "\treturn Theta, iter, J_hist"
      ]
    },
    {
      "cell_type": "markdown",
      "metadata": {
        "id": "WJm0sbcV9LNV"
      },
      "source": [
        "# Dynamic Simulation of 3D Robotic Arm Reach Tasks"
      ]
    },
    {
      "cell_type": "code",
      "execution_count": null,
      "metadata": {
        "id": "8YGr3Zpa9LNV"
      },
      "outputs": [],
      "source": [
        "# optional: show a sample full dynamic simulation can be done for arms implemented in RTB \n",
        "# (Robotics Toolbox for Python, Peter Corke et al.),\n",
        "# or we can implement our model of arm in RTB and simulate joint trajectories.\n",
        "\n",
        "# in case of PDFF training, we can include that in our \n",
        "# so the PDFF rollout has to be generic enough to allow different simulators (kin/dyn) and arms (2D/3D -- which would need DH stuff)\n",
        "\n",
        "# but for now, since the primary focus of the project is on planar arms, we can do that\n",
        "# almost exclusively until the whole framework/process-flow is ready enough to proceed to \n",
        "# full 3D\n",
        "\n",
        "# note that this work (2D generalization and 3D sim bootstrap for PDFF) will be the unique\n",
        "# contributions of this work. "
      ]
    }
  ],
  "metadata": {
    "colab": {
      "collapsed_sections": [],
      "include_colab_link": true,
      "name": "dmp_pdff_kinematic_sim_demo.ipynb",
      "provenance": []
    },
    "interpreter": {
      "hash": "30295c5bec572e859485b1ffa5e89b8b3e2022ef6e3e739c1ac40f143a557caf"
    },
    "kernelspec": {
      "display_name": "Python 3 (ipykernel)",
      "language": "python",
      "name": "python3"
    },
    "language_info": {
      "codemirror_mode": {
        "name": "ipython",
        "version": 3
      },
      "file_extension": ".py",
      "mimetype": "text/x-python",
      "name": "python",
      "nbconvert_exporter": "python",
      "pygments_lexer": "ipython3",
      "version": "3.7.4"
    }
  },
  "nbformat": 4,
  "nbformat_minor": 0
}
