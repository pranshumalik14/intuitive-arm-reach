{
 "cells": [
  {
   "cell_type": "code",
   "execution_count": 71,
   "metadata": {},
   "outputs": [],
   "source": [
    "import pathlib, sys\n",
    "sys.path.append('../scripts')\n",
    "import pdff_kinematic_sim_funcs as pdff_sim\n",
    "import numpy as np\n",
    "import roboticstoolbox as rtb"
   ]
  },
  {
   "cell_type": "code",
   "execution_count": 72,
   "metadata": {},
   "outputs": [
    {
     "ename": "AttributeError",
     "evalue": "module 'pdff_kinematic_sim_funcs' has no attribute 'RobotArm3D'",
     "output_type": "error",
     "traceback": [
      "\u001b[0;31m---------------------------------------------------------------------------\u001b[0m",
      "\u001b[0;31mAttributeError\u001b[0m                            Traceback (most recent call last)",
      "\u001b[0;32m<ipython-input-72-6866f4a79577>\u001b[0m in \u001b[0;36m<module>\u001b[0;34m\u001b[0m\n\u001b[0;32m----> 1\u001b[0;31m braccio = pdff_sim.RobotArm3D(\n\u001b[0m\u001b[1;32m      2\u001b[0m                 \u001b[0;34m\"Braccio\"\u001b[0m\u001b[0;34m,\u001b[0m\u001b[0;34m\u001b[0m\u001b[0;34m\u001b[0m\u001b[0m\n\u001b[1;32m      3\u001b[0m                 [\n\u001b[1;32m      4\u001b[0m                     \u001b[0mrtb\u001b[0m\u001b[0;34m.\u001b[0m\u001b[0mRevoluteDH\u001b[0m\u001b[0;34m(\u001b[0m\u001b[0ma\u001b[0m\u001b[0;34m=\u001b[0m\u001b[0;36m0\u001b[0m\u001b[0;34m,\u001b[0m \u001b[0md\u001b[0m\u001b[0;34m=\u001b[0m\u001b[0;36m0.071\u001b[0m\u001b[0;34m,\u001b[0m \u001b[0malpha\u001b[0m\u001b[0;34m=\u001b[0m\u001b[0mnp\u001b[0m\u001b[0;34m.\u001b[0m\u001b[0mpi\u001b[0m\u001b[0;34m/\u001b[0m\u001b[0;36m2\u001b[0m\u001b[0;34m,\u001b[0m \u001b[0mqlim\u001b[0m\u001b[0;34m=\u001b[0m\u001b[0;34m[\u001b[0m\u001b[0;36m0\u001b[0m\u001b[0;34m,\u001b[0m \u001b[0mnp\u001b[0m\u001b[0;34m.\u001b[0m\u001b[0mpi\u001b[0m\u001b[0;34m]\u001b[0m\u001b[0;34m)\u001b[0m\u001b[0;34m,\u001b[0m\u001b[0;34m\u001b[0m\u001b[0;34m\u001b[0m\u001b[0m\n\u001b[1;32m      5\u001b[0m                     \u001b[0mrtb\u001b[0m\u001b[0;34m.\u001b[0m\u001b[0mRevoluteDH\u001b[0m\u001b[0;34m(\u001b[0m\u001b[0ma\u001b[0m\u001b[0;34m=\u001b[0m\u001b[0;36m0.125\u001b[0m\u001b[0;34m,\u001b[0m \u001b[0md\u001b[0m\u001b[0;34m=\u001b[0m\u001b[0;36m0\u001b[0m\u001b[0;34m,\u001b[0m \u001b[0malpha\u001b[0m\u001b[0;34m=\u001b[0m\u001b[0;36m0\u001b[0m\u001b[0;34m,\u001b[0m \u001b[0mqlim\u001b[0m\u001b[0;34m=\u001b[0m\u001b[0;34m[\u001b[0m\u001b[0;36m0.2618\u001b[0m\u001b[0;34m,\u001b[0m \u001b[0;36m2.8798\u001b[0m\u001b[0;34m]\u001b[0m\u001b[0;34m)\u001b[0m\u001b[0;34m,\u001b[0m\u001b[0;34m\u001b[0m\u001b[0;34m\u001b[0m\u001b[0m\n",
      "\u001b[0;31mAttributeError\u001b[0m: module 'pdff_kinematic_sim_funcs' has no attribute 'RobotArm3D'"
     ]
    }
   ],
   "source": [
    "# TODO: instead of adding qlim here, add clamping to get_traj function and take qlims as an input\n",
    "braccio = pdff_sim.RobotArm3D(\n",
    "                \"Braccio\", \n",
    "                [\n",
    "                    rtb.RevoluteDH(a=0, d=0.071, alpha=np.pi/2, qlim=[0, np.pi]),\n",
    "                    rtb.RevoluteDH(a=0.125, d=0, alpha=0, qlim=[0.2618, 2.8798]),\n",
    "                    rtb.RevoluteDH(a=0.125, d=0, alpha=0, qlim=[0, np.pi]),\n",
    "                    rtb.RevoluteDH(a=0, d=0, alpha=-np.pi/2, qlim=[0, np.pi]),\n",
    "                    rtb.RevoluteDH(a=0, d=0.195, alpha=0, qlim=[0, np.pi])\n",
    "                ], \n",
    "                np.array([0, 0, 0, 0, 0]), #qz\n",
    "                np.array([np.pi/2, np.pi/4, np.pi, np.pi, np.pi/2]), # qr\n",
    "                rtb.rtb_path_to_datafile(\"../stl/\", local=True)\n",
    "                            )\n",
    "print(braccio)\n",
    "braccio.plot(q=braccio.qz)\n",
    "braccio.fkine(braccio.qz).t"
   ]
  },
  {
   "cell_type": "code",
   "execution_count": 73,
   "metadata": {},
   "outputs": [
    {
     "name": "stdout",
     "output_type": "stream",
     "text": [
      "######################### PIBB Algorithm Started #########################\n",
      "######################### PIBB Algorithm Finished. Time Elapsed : 50.60082507133484 #########################\n"
     ]
    },
    {
     "data": {
      "text/plain": [
       "array([[ 5.26904209e+00, -5.50190111e+00,  8.09700663e-01],\n",
       "       [ 3.82797946e-01,  1.06844909e+01,  7.30284165e-01],\n",
       "       [ 3.99543294e+00,  9.02844631e+00,  1.14649770e+00],\n",
       "       [ 2.79394665e+00,  1.67132671e+00,  6.12439054e-03],\n",
       "       [ 1.70949711e+00,  2.79510514e+00,  4.57028778e-01],\n",
       "       [ 6.29740889e-01,  1.44347193e+00,  1.36928178e-01],\n",
       "       [ 4.13985027e+00, -5.64126795e+00,  7.49668996e-01],\n",
       "       [ 4.35737459e+00,  5.44484878e+00,  1.75343257e-01],\n",
       "       [-5.40366918e+00,  4.58663120e-01,  4.66940521e-01],\n",
       "       [ 1.56160989e+00, -1.03744146e+01,  2.08052772e-01]])"
      ]
     },
     "execution_count": 73,
     "metadata": {},
     "output_type": "execute_result"
    }
   ],
   "source": [
    "robot_arm2d = pdff_sim.RobotArm2D(\n",
    "    n_dims=3,\n",
    "    arm_length=1.0,\n",
    "    rel_link_lengths=np.array([0.6, 0.3, 0.1])\n",
    ")\n",
    "pdff_sim.training_data_gen(robot_arm2d)"
   ]
  }
 ],
 "metadata": {
  "interpreter": {
   "hash": "30295c5bec572e859485b1ffa5e89b8b3e2022ef6e3e739c1ac40f143a557caf"
  },
  "kernelspec": {
   "display_name": "Python 3.6.9 64-bit",
   "language": "python",
   "name": "python3"
  },
  "language_info": {
   "codemirror_mode": {
    "name": "ipython",
    "version": 3
   },
   "file_extension": ".py",
   "mimetype": "text/x-python",
   "name": "python",
   "nbconvert_exporter": "python",
   "pygments_lexer": "ipython3",
   "version": "3.6.9"
  },
  "orig_nbformat": 4
 },
 "nbformat": 4,
 "nbformat_minor": 2
}
