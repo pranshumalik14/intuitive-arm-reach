{
 "cells": [
  {
   "cell_type": "code",
   "execution_count": 14,
   "metadata": {},
   "outputs": [],
   "source": [
    "import sys\n",
    "sys.path.append('../scripts')\n",
    "import pdff_kinematic_sim_funcs as pdff_sim\n",
    "import numpy as np"
   ]
  },
  {
   "cell_type": "code",
   "execution_count": 16,
   "metadata": {},
   "outputs": [
    {
     "name": "stdout",
     "output_type": "stream",
     "text": [
      "######################### PIBB Algorithm Started #########################\n",
      "######################### PIBB Algorithm Finished. Time Elapsed : 12.504251956939697 #########################\n"
     ]
    }
   ],
   "source": [
    "robot_arm = pdff_sim.RobotArm2D(\n",
    "    n_dims=3,\n",
    "    arm_length=1.0,\n",
    "    rel_link_lengths=np.array([0.6, 0.3, 0.1])\n",
    ")\n",
    "pdff_sim.training_data_gen(robot_arm)"
   ]
  }
 ],
 "metadata": {
  "interpreter": {
   "hash": "30295c5bec572e859485b1ffa5e89b8b3e2022ef6e3e739c1ac40f143a557caf"
  },
  "kernelspec": {
   "display_name": "Python 3.6.9 64-bit",
   "language": "python",
   "name": "python3"
  },
  "language_info": {
   "codemirror_mode": {
    "name": "ipython",
    "version": 3
   },
   "file_extension": ".py",
   "mimetype": "text/x-python",
   "name": "python",
   "nbconvert_exporter": "python",
   "pygments_lexer": "ipython3",
   "version": "3.6.9"
  },
  "orig_nbformat": 4
 },
 "nbformat": 4,
 "nbformat_minor": 2
}
