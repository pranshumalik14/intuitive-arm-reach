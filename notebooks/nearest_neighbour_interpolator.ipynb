{
 "cells": [
  {
   "cell_type": "code",
   "execution_count": 1,
   "metadata": {},
   "outputs": [],
   "source": [
    "import pandas as pd\n",
    "import numpy as np\n",
    "import os\n",
    "from ast import literal_eval\n",
    "\n",
    "import sys\n",
    "\n",
    "from scripts.robot_arm import RobotArm, RobotArm2D, RobotArm3D, Braccio3D\n",
    "from scripts.task_info import TaskInfo, numpy_linspace\n",
    "import scripts.data_prep as data_prep\n",
    "\n",
    "from scripts.PIBB_helper import qdotdot_gen\n",
    "from scripts.pdff_kinematic_sim_funcs import get_traj_and_simulate2d, get_traj\n",
    "import matplotlib.pyplot as plt\n",
    "from scripts.pdff_kinematic_sim_funcs import PIBB\n",
    "from scripts.pdff_kinematic_sim_funcs import gen_theta\n",
    "from scripts.interpolators import IDW, LinearInterpolator\n",
    "from scripts.pdff_kinematic_sim_funcs import training_data_gen"
   ]
  },
  {
   "cell_type": "markdown",
   "metadata": {},
   "source": [
    "# Load Data"
   ]
  },
  {
   "cell_type": "code",
   "execution_count": 3,
   "metadata": {},
   "outputs": [],
   "source": [
    "# data_path = '../training_data/20220327_2215_pibb_2D.csv'\n",
    "task_info_path = 'training_data/20220327_2215_task_info.csv'\n",
    "data_path = '/Users/prithvimarwah/Documents/Capstone/intuitive-arm-reach/intuitive-arm-reach/training_data/20220409_1543_pdff_braccio.csv'\n",
    "\n",
    "pibb_data_df, task_info_df = data_prep.load_data(data_path, task_info_path)"
   ]
  },
  {
   "cell_type": "code",
   "execution_count": 4,
   "metadata": {},
   "outputs": [
    {
     "name": "stdout",
     "output_type": "stream",
     "text": [
      "<class 'pandas.core.frame.DataFrame'>\n",
      "RangeIndex: 657 entries, 0 to 656\n",
      "Data columns (total 7 columns):\n",
      " #   Column             Non-Null Count  Dtype  \n",
      "---  ------             --------------  -----  \n",
      " 0   init_joint_angles  657 non-null    object \n",
      " 1   x_target           657 non-null    float64\n",
      " 2   y_target           657 non-null    float64\n",
      " 3   z_target           657 non-null    float64\n",
      " 4   Theta              657 non-null    object \n",
      " 5   iter_count         657 non-null    int64  \n",
      " 6   cost               657 non-null    float64\n",
      "dtypes: float64(4), int64(1), object(2)\n",
      "memory usage: 36.1+ KB\n"
     ]
    }
   ],
   "source": [
    "pibb_data_df.info()"
   ]
  },
  {
   "cell_type": "code",
   "execution_count": 5,
   "metadata": {},
   "outputs": [],
   "source": [
    "task_info = data_prep.task_info_from_df(task_info_df)\n",
    "\n",
    "robot_arm = RobotArm2D(\n",
    "    n_dims = 3,\n",
    "    link_lengths = np.array([0.6, 0.3, 0.1])\n",
    ")\n",
    "task_info.robotarm = robot_arm\n",
    "task_info = data_prep.clean_task_info(task_info, task_info_df)"
   ]
  },
  {
   "cell_type": "code",
   "execution_count": 6,
   "metadata": {},
   "outputs": [
    {
     "name": "stdout",
     "output_type": "stream",
     "text": [
      "######################### PIBB Algorithm Started #########################\n",
      "[array([0.        , 0.52359878, 1.57079633, 1.57079633]), array([0, 0, 0, 0])]\n",
      "######################### PIBB Algorithm Finished. Time Elapsed : 3.752661943435669 #########################\n"
     ]
    }
   ],
   "source": [
    "main_path = os.getcwd()\n",
    "# braccio = Braccio()\n",
    "braccio = Braccio3D()\n",
    "os.chdir(main_path)\n",
    "_, task_info = training_data_gen(braccio)\n"
   ]
  },
  {
   "cell_type": "code",
   "execution_count": 7,
   "metadata": {},
   "outputs": [
    {
     "name": "stdout",
     "output_type": "stream",
     "text": [
      "Input sizes are: \n",
      " joint angles:  (600, 4) \n",
      "x_target:  (600, 1) \n",
      "y_target:  (600, 1) \n",
      "z_target:  (600, 1)\n",
      "Output size is:\n",
      " theta:  (600, 5, 4)\n"
     ]
    }
   ],
   "source": [
    "concat_input, flatten_theta, holdout, original_df = data_prep.clean_data(pibb_data_df, task_info, skip_factor=1, planar=False)"
   ]
  },
  {
   "cell_type": "code",
   "execution_count": null,
   "metadata": {},
   "outputs": [],
   "source": [
    "np.save(\"concat_input_all\", concat_input)\n",
    "np.save(\"flatten_theta\", flatten_theta)"
   ]
  },
  {
   "cell_type": "code",
   "execution_count": null,
   "metadata": {},
   "outputs": [],
   "source": [
    "concat_input = np.load(\"concat_input_all.npy\")\n",
    "flatten_theta = np.load(\"flatten_theta.npy\")\n"
   ]
  },
  {
   "cell_type": "code",
   "execution_count": null,
   "metadata": {},
   "outputs": [],
   "source": [
    "init_conditions = np.unique(concat_input[:, 0:3], axis=0)\n",
    "print(len(init_conditions))\n",
    "\n",
    "for i in range(10):\n",
    "    filter_condition = init_conditions[i]\n",
    "    filter = (concat_input[:,0] == filter_condition[0]) & (concat_input[:,1] == filter_condition[1]) & (concat_input[:,2] == filter_condition[2])\n",
    "    filtered = concat_input[filter]\n",
    "\n",
    "    c_xs = filtered[:, -2]\n",
    "    c_ys = filtered[:, -1]\n",
    "    plt.scatter(x=c_xs, y=c_ys)\n",
    "    plt.show()"
   ]
  },
  {
   "cell_type": "markdown",
   "metadata": {},
   "source": [
    "# Training Data Gen"
   ]
  },
  {
   "cell_type": "code",
   "execution_count": null,
   "metadata": {},
   "outputs": [],
   "source": [
    "gen_qs = []\n",
    "\n",
    "for i, theta in enumerate(flatten_theta):\n",
    "    reshaped = np.reshape(theta, (task_info.B, task_info.N))\n",
    "    gen_qdotdot = np.array([qdotdot_gen(task_info, reshaped, t)\n",
    "                        for t in numpy_linspace(0, task_info.T, task_info.dt)]  )\n",
    "    init_condit = [np.deg2rad([0, 30, 90, 90]), np.array([0, 0, 0, 0])]\n",
    "    print(concat_input[i][-3:])\n",
    "    _, gen_q, _, _ = get_traj(gen_qdotdot, braccio, task_info.dt, init_condit)\n",
    "    gen_qs.append(gen_q[-1,:])"
   ]
  },
  {
   "cell_type": "code",
   "execution_count": null,
   "metadata": {},
   "outputs": [],
   "source": [
    "pibb_data_df[\"gen_q\"] = gen_qs"
   ]
  },
  {
   "cell_type": "code",
   "execution_count": null,
   "metadata": {},
   "outputs": [],
   "source": [
    "pibb_data_df.to_csv(\"vroon_is_needy.csv\", index=False)"
   ]
  },
  {
   "cell_type": "code",
   "execution_count": null,
   "metadata": {},
   "outputs": [],
   "source": [
    "print(len(gen_qs))"
   ]
  },
  {
   "cell_type": "code",
   "execution_count": null,
   "metadata": {},
   "outputs": [],
   "source": [
    "print(len(concat_input))"
   ]
  },
  {
   "cell_type": "code",
   "execution_count": null,
   "metadata": {},
   "outputs": [],
   "source": [
    "eucs = []\n",
    "for i in range(len(concat_input)):\n",
    "    target_x, target_y, target_z = concat_input[i][-3], concat_input[i][-2], concat_input[i][-1]\n",
    "    reached_x, reached_y, reached_z = braccio.forward_kinematics(gen_qs[i])\n",
    "    eucs.append(\n",
    "        np.sqrt(np.abs(reached_z-target_z)**2 + np.abs(reached_y-target_y)**2 + np.abs(reached_x-target_x)**2)\n",
    "    )\n",
    "print(np.mean(np.array(eucs)))"
   ]
  },
  {
   "cell_type": "code",
   "execution_count": null,
   "metadata": {},
   "outputs": [],
   "source": [
    "print(np.max(np.array(eucs)))"
   ]
  },
  {
   "cell_type": "markdown",
   "metadata": {},
   "source": [
    "# Scipy Interpolation"
   ]
  },
  {
   "cell_type": "code",
   "execution_count": 8,
   "metadata": {},
   "outputs": [],
   "source": [
    "SCALAR = None"
   ]
  },
  {
   "cell_type": "code",
   "execution_count": null,
   "metadata": {},
   "outputs": [],
   "source": [
    "# lin_interp = LinearInterpolator(concat_input, flatten_theta, d=True, scalar=SCALAR)"
   ]
  },
  {
   "cell_type": "code",
   "execution_count": null,
   "metadata": {},
   "outputs": [],
   "source": [
    "# del_interp = LinearInterpolator(concat_input, flatten_theta, d=True, scalar=SCALAR)"
   ]
  },
  {
   "cell_type": "code",
   "execution_count": null,
   "metadata": {},
   "outputs": [],
   "source": [
    "from sklearn.preprocessing import StandardScaler, MaxAbsScaler, MinMaxScaler\n"
   ]
  },
  {
   "cell_type": "code",
   "execution_count": null,
   "metadata": {},
   "outputs": [],
   "source": [
    "scal = MinMaxScaler()"
   ]
  },
  {
   "cell_type": "code",
   "execution_count": null,
   "metadata": {},
   "outputs": [],
   "source": [
    "scaled_angles = scal.fit_transform(concat_input[:, 0:3])"
   ]
  },
  {
   "cell_type": "code",
   "execution_count": null,
   "metadata": {},
   "outputs": [],
   "source": [
    "scaled_angles[0]"
   ]
  },
  {
   "cell_type": "code",
   "execution_count": null,
   "metadata": {},
   "outputs": [],
   "source": [
    "concat_input[0][:3]"
   ]
  },
  {
   "cell_type": "code",
   "execution_count": null,
   "metadata": {},
   "outputs": [],
   "source": [
    "concat_input[:, 0:3]"
   ]
  },
  {
   "cell_type": "code",
   "execution_count": 9,
   "metadata": {},
   "outputs": [],
   "source": [
    "nn_interp = IDW(concat_input, flatten_theta, K=1, scalar=SCALAR)\n",
    "idw_interp_3 = IDW(concat_input, flatten_theta, K=3, scalar=SCALAR)\n",
    "idw_interp_5_s = IDW(concat_input, flatten_theta, K=5, scalar=SCALAR)\n",
    "idw_interp_5 = IDW(concat_input, flatten_theta, K=5, scalar=None)"
   ]
  },
  {
   "cell_type": "code",
   "execution_count": null,
   "metadata": {},
   "outputs": [],
   "source": [
    "concat_input[0]"
   ]
  },
  {
   "cell_type": "code",
   "execution_count": null,
   "metadata": {},
   "outputs": [],
   "source": [
    "flatten_theta[0]"
   ]
  },
  {
   "cell_type": "code",
   "execution_count": 14,
   "metadata": {},
   "outputs": [
    {
     "name": "stdout",
     "output_type": "stream",
     "text": [
      "neighbour distances\n",
      "[4.81447940e-09 5.43375481e-02 5.63443866e-02 6.53902741e-02 6.64917917e-02]\n",
      "input\n",
      "[0.0, 0.52359878, 1.57079633, 1.57079633, 0.1338345, 0.0, 0.19113548]\n",
      "output\n",
      "[-1.35089663 -1.46529456  1.8553018   8.00738636  0.13290736 -1.19191714  0.49390874  5.46378939 -0.51386026 -0.61098361 -0.65861219  2.97604956 -0.90966718 -0.15420797 -1.0706043   0.52813102  0.91600805 -0.7868862  -0.80293883 -0.88320392]\n"
     ]
    },
    {
     "data": {
      "text/plain": [
       "array([-1.35089663, -1.46529456,  1.8553018 ,  8.00738636,  0.13290736, -1.19191714,  0.49390874,  5.46378939, -0.51386026, -0.61098361, -0.65861219,  2.97604956, -0.90966718, -0.15420797, -1.0706043 ,  0.52813102,  0.91600805, -0.7868862 , -0.80293883, -0.88320392])"
      ]
     },
     "execution_count": 14,
     "metadata": {},
     "output_type": "execute_result"
    }
   ],
   "source": [
    "interp_loaded([0.        , 0.52359878, 1.57079633, 1.57079633, 0.1338345 , 0.        , 0.19113548])"
   ]
  },
  {
   "cell_type": "code",
   "execution_count": null,
   "metadata": {},
   "outputs": [],
   "source": [
    "for i in range(5):\n",
    "    print(idw_interp_5_s.X[:,i].min(), idw_interp_5_s.X[:,i].max())"
   ]
  },
  {
   "cell_type": "code",
   "execution_count": null,
   "metadata": {},
   "outputs": [],
   "source": [
    "idw_interp_5.nearest_neighbour_dist([-1.2203599 ,  2.72228114,  0.07689726,  0.51023788, -0.44950785])\n"
   ]
  },
  {
   "cell_type": "code",
   "execution_count": null,
   "metadata": {},
   "outputs": [],
   "source": [
    "idw_interp_5.nearest_neighbour_dist([-2.10096494,  1.02539785,  1.82448863, 0.5, 0.5])"
   ]
  },
  {
   "cell_type": "markdown",
   "metadata": {},
   "source": [
    "# Visualize Results"
   ]
  },
  {
   "cell_type": "code",
   "execution_count": null,
   "metadata": {},
   "outputs": [],
   "source": [
    "def get_preds_df(interpolator):\n",
    "    preds_dict = {\"input\":[], \"pred_theta\":[], \"theta\":[]}\n",
    "    for r in range(len(pibb_data_df)):\n",
    "        if r%1000 == 0:\n",
    "            print(r)\n",
    "\n",
    "        pred_t = interpolator(concat_input[r])\n",
    "        preds_dict[\"input\"].append(concat_input[r])\n",
    "        preds_dict[\"pred_theta\"].append(pred_t[0])\n",
    "        preds_dict[\"theta\"].append(flatten_theta[r])\n",
    "    return pd.DataFrame.from_dict(preds_dict)"
   ]
  },
  {
   "cell_type": "code",
   "execution_count": null,
   "metadata": {},
   "outputs": [],
   "source": [
    "nn_preds = get_preds_df(nn_interp)\n",
    "idw_preds = get_preds_df(idw_interp)\n",
    "lin_preds = get_preds_df(lin_interp)"
   ]
  },
  {
   "cell_type": "code",
   "execution_count": null,
   "metadata": {},
   "outputs": [],
   "source": [
    "from IPython import display\n",
    "\n",
    "def animate_result(init_condition, target_point, robot_arm, interpolator, task_info):\n",
    "\n",
    "    # print(\"input: \" + str(preds_df[\"input\"][result_index]))\n",
    "    # print(\"predicted: \" + str(preds_df[\"pred_theta\"][result_index]))\n",
    "    # print(\"actual: \" + str(preds_df[\"theta\"][result_index]))\n",
    "\n",
    "    # theta_reshaped = np.reshape(preds_df[\"pred_theta\"][result_index], ( task_info.B, task_info.N))\n",
    "    # # print(theta_reshaped)\n",
    "\n",
    "    # test_input = preds_df[\"input\"][result_index]\n",
    "    # target_pt = [test_input[-2], test_input[-1]]\n",
    "    # init_condit = [list(test_input[:3]), [0,0,0]]\n",
    "    input = [*init_condition, *target_point]\n",
    "    if type(input) == list:\n",
    "        input = np.array(input)\n",
    "    theta_pred = interpolator(input)\n",
    "    theta_reshaped = np.reshape(theta_pred, (task_info.B, task_info.N))\n",
    "    init_condition = [init_condition, [0,0,0]]\n",
    "\n",
    "    # print(target_pt)\n",
    "    # print(init_condit)\n",
    "\n",
    "    predicted_qdotdot = np.array(  \n",
    "        [\n",
    "            qdotdot_gen(task_info, theta_reshaped, t) for t in numpy_linspace(0, task_info.T, task_info.dt)\n",
    "        ]  \n",
    "    )\n",
    "        \n",
    "    # print(predicted_qdotdot.shape)\n",
    "    time_steps, q, qdot, gen_qdotdot, ani = get_traj_and_simulate2d(\n",
    "        qdotdot     = predicted_qdotdot, \n",
    "        robot_arm   = robot_arm, \n",
    "        x_goal      = target_point, \n",
    "        init_condit = init_condition, \n",
    "        dt          = task_info.dt\n",
    "        )\n",
    "\n",
    "    video = ani.to_jshtml(fps = 60)\n",
    "    # video = ani.to_html5_video() # to save as mp4, use this\n",
    "    html = display.HTML(video)\n",
    "    display.display(html)"
   ]
  },
  {
   "cell_type": "code",
   "execution_count": null,
   "metadata": {},
   "outputs": [],
   "source": [
    "idw_interp_5([-2.10096494,  1.02539785,  1.82448863, 0.5, 0.5])"
   ]
  },
  {
   "cell_type": "code",
   "execution_count": null,
   "metadata": {},
   "outputs": [],
   "source": [
    "concat_input[0]"
   ]
  },
  {
   "cell_type": "code",
   "execution_count": null,
   "metadata": {},
   "outputs": [],
   "source": [
    "test_init_condition = [-1.2203599 ,  2.72228114,  0.07689726]\n",
    "test_point = [0.5, 0.5]"
   ]
  },
  {
   "cell_type": "code",
   "execution_count": null,
   "metadata": {},
   "outputs": [],
   "source": [
    "animate_result(\n",
    "    init_condition=test_init_condition,\n",
    "    target_point=test_point,\n",
    "    robot_arm=robot_arm,\n",
    "    interpolator=idw_interp_5,\n",
    "    task_info=task_info\n",
    ")"
   ]
  },
  {
   "cell_type": "code",
   "execution_count": null,
   "metadata": {},
   "outputs": [],
   "source": [
    "animate_result(\n",
    "    init_condition=test_init_condition,\n",
    "    target_point=test_point,\n",
    "    robot_arm=robot_arm,\n",
    "    interpolator=interp_loaded,\n",
    "    task_info=task_info\n",
    ")"
   ]
  },
  {
   "cell_type": "code",
   "execution_count": null,
   "metadata": {},
   "outputs": [],
   "source": []
  },
  {
   "cell_type": "markdown",
   "metadata": {},
   "source": []
  },
  {
   "cell_type": "code",
   "execution_count": null,
   "metadata": {},
   "outputs": [],
   "source": []
  },
  {
   "cell_type": "markdown",
   "metadata": {},
   "source": [
    "### Animate Interpolator Trajectory for 5 random points from the dataset"
   ]
  },
  {
   "cell_type": "code",
   "execution_count": null,
   "metadata": {},
   "outputs": [],
   "source": [
    "import random\n",
    "#Generate 5 random numbers between 10 and 30\n",
    "randomlist = random.sample(range(0, len(concat_input)), 5)\n",
    "print(randomlist)\n",
    "\n",
    "for r in randomlist:\n",
    "    animate_result(idw_preds, r)"
   ]
  },
  {
   "cell_type": "markdown",
   "metadata": {},
   "source": [
    "# Unknown Points"
   ]
  },
  {
   "cell_type": "code",
   "execution_count": null,
   "metadata": {},
   "outputs": [],
   "source": [
    "print(len(holdout))"
   ]
  },
  {
   "cell_type": "code",
   "execution_count": null,
   "metadata": {},
   "outputs": [],
   "source": [
    "import math\n",
    "\n",
    "def gen_trajectory_and_get_euclidean(interpolator, unknown_data, verbose=True):\n",
    "    pred_unknown = interpolator(unknown_data)\n",
    "    unknown_reshaped = pred_unknown.reshape(task_info.B, task_info.N)\n",
    "\n",
    "\n",
    "    predicted_qdotdot = np.array(  \n",
    "        [\n",
    "            qdotdot_gen(task_info, unknown_reshaped, t) for t in numpy_linspace(0, task_info.T, task_info.dt)\n",
    "        ]  \n",
    "    )\n",
    "        \n",
    "    # print(predicted_qdotdot.shape)\n",
    "    # (qdotdot, robot_arm, x_goal, init_condit, dt)\n",
    "    time_steps, q, qdot, qdotdot = get_traj(\n",
    "        predicted_qdotdot, \n",
    "        robot_arm, \n",
    "        dt = task_info.dt,\n",
    "        init_condit = [unknown_data[0:3], [0,0,0]]\n",
    "    )\n",
    "    \n",
    "    last_q = q[-1, :]\n",
    "    reached_pt = robot_arm.forward_kinematics(last_q)\n",
    "    euc_dist = np.sqrt((reached_pt[0] - unknown_data[-2])**2 + (reached_pt[1] - unknown_data[-1])**2)\n",
    "    if verbose:\n",
    "        print(\"The target pt is: {}; The robot reached {}; Euc distance is : {}\".format([unknown_data[-2], unknown_data[-1]], reached_pt, euc_dist))\n",
    "        print(\"Theta: \" + str(unknown_reshaped))\n",
    "        print(\"Data: \" + str(unknown_data))\n",
    "    return euc_dist"
   ]
  },
  {
   "cell_type": "code",
   "execution_count": null,
   "metadata": {},
   "outputs": [],
   "source": [
    "import random\n",
    "\n",
    "num_configs = 1\n",
    "num_points = 100\n",
    "\n",
    "interpolation_styles = [\"NN\", \"3NN_IDW\", \"5NN_IDW\"]\n",
    "interpolators = [nn_interp, idw_interp_3, idw_interp_5]\n",
    "\n",
    "totals = [0.0] * len(interpolation_styles)\n",
    "points = [0] * len(interpolation_styles)\n",
    "for i in range(5):\n",
    "    randomlist = random.sample(range(0, len(holdout)), num_configs*num_points)\n",
    "    for r_id in randomlist:\n",
    "        init_r = [float(angle) for angle in original_df.iloc[r_id][\"init_joint_angles\"][1:-1].split()]\n",
    "        target_r = [original_df.iloc[r_id][\"x_target\"], original_df.iloc[r_id][\"y_target\"]]\n",
    "        unknown_target = [*[*init_r, *target_r]]\n",
    "        \n",
    "        for i in range(len(interpolators)):\n",
    "            euclid = gen_trajectory_and_get_euclidean(interpolators[i], unknown_target, verbose=False)\n",
    "            if not math.isnan(euclid):\n",
    "                totals[i] += euclid\n",
    "                points[i] += 1\n",
    "                    \n",
    "\n",
    "avg_euclideans = [0.0] * len(interpolation_styles)\n",
    "for i in range(len(totals)):\n",
    "    avg_euclideans[i] = totals[i]/points[i]\n",
    "\n",
    "print(avg_euclideans)\n",
    "print(points)\n",
    "\n",
    "fig = plt.figure()\n",
    "ax = fig.add_axes([0,0,1,1])\n",
    "ax.bar(interpolation_styles, avg_euclideans)\n",
    "plt.show()\n"
   ]
  },
  {
   "cell_type": "code",
   "execution_count": null,
   "metadata": {},
   "outputs": [],
   "source": [
    "import random\n",
    "import math\n",
    "from scipy.spatial.distance import cosine\n",
    "\n",
    "def theta_convert(str):\n",
    "    ret = []\n",
    "    for r in str[1:-1].split(\"\\n\"):\n",
    "        ts = r.strip()[1:-1].split(\" \")\n",
    "        ts = [t for t in ts if t != \"\"]\n",
    "        ts = [float(t) for t in ts]\n",
    "        ret.extend(ts)\n",
    "    return ret\n",
    "\n",
    "num_configs = 1\n",
    "num_points = 100\n",
    "\n",
    "interpolation_styles = [\"NN\", \"3NN_IDW\", \"5NN_IDW\"]\n",
    "interpolators = [nn_interp, idw_interp_3, idw_interp_5]\n",
    "strat = \"SKIPS\"\n",
    "\n",
    "assert(len(interpolation_styles) == len(interpolators))\n",
    "\n",
    "totals = [0.0] * len(interpolation_styles)\n",
    "points = [0] * len(interpolation_styles)\n",
    "for i in range(5):\n",
    "    randomlist = random.sample(range(0, len(holdout)), num_configs*num_points)\n",
    "    for r_id in randomlist:\n",
    "        init_r = [float(angle) for angle in original_df.iloc[r_id][\"init_joint_angles\"][1:-1].split()]\n",
    "        target_r = [original_df.iloc[r_id][\"x_target\"], original_df.iloc[r_id][\"y_target\"]]\n",
    "        unknown_target = [*[*init_r, *target_r]]\n",
    "\n",
    "        for i in range(len(interpolators)):\n",
    "            pred = interpolators[i](unknown_target)\n",
    "            if math.isnan(pred[0]):\n",
    "                continue\n",
    "            original = theta_convert(original_df.iloc[r_id][\"Theta\"])\n",
    "            dist = 1-cosine(pred, original)\n",
    "            totals[i] += dist\n",
    "            points[i] += 1\n",
    "                    \n",
    "\n",
    "avg_sim = [0.0] * len(interpolation_styles)\n",
    "for i in range(len(totals)):\n",
    "    if points[i] == 0:\n",
    "        avg_sim[i] = 0\n",
    "    else:\n",
    "        avg_sim[i] = totals[i]/points[i]\n",
    "\n",
    "print(avg_sim)\n",
    "print(points)\n",
    "\n",
    "fig = plt.figure()\n",
    "ax = fig.add_axes([0,0,1,1])\n",
    "ax.bar(interpolation_styles, avg_sim)\n",
    "ax.set_title(\"Avergae Cosine Similarity Between Predicted and Actual Theta\")\n",
    "plt.show()\n"
   ]
  },
  {
   "cell_type": "markdown",
   "metadata": {},
   "source": [
    "## Effects of K"
   ]
  },
  {
   "cell_type": "code",
   "execution_count": null,
   "metadata": {},
   "outputs": [],
   "source": [
    "import random \n",
    "cosines = []\n",
    "reach_errors = []\n",
    "\n",
    "def theta_convert(str):\n",
    "    ret = []\n",
    "    for r in str[1:-1].split(\"\\n\"):\n",
    "        ts = r.strip()[1:-1].split(\" \")\n",
    "        ts = [t for t in ts if t != \"\"]\n",
    "        ts = [float(t) for t in ts]\n",
    "        ret.extend(ts)\n",
    "    return ret\n",
    "\n",
    "num_k = 30\n",
    "random_points = random.sample(range(0, len(holdout)), 10)\n",
    "\n",
    "for i in range(1, num_k):\n",
    "    interp = IDW(concat_input, flatten_theta, K=i, scalar=SCALAR)\n",
    "    avg_cosine = []\n",
    "    avg_reach_error = []\n",
    "    for r_id in random_points:\n",
    "        init_r = [float(angle) for angle in original_df.iloc[r_id][\"init_joint_angles\"][1:-1].split()]\n",
    "        target_r = [original_df.iloc[r_id][\"x_target\"], original_df.iloc[r_id][\"y_target\"]]\n",
    "        unknown_target = [*[*init_r, *target_r]]\n",
    "        pred = interp(unknown_target)\n",
    "        original = theta_convert(original_df.iloc[r_id][\"Theta\"])\n",
    "        sim = 1-cosine(pred, original)\n",
    "        avg_cosine.append(sim)\n",
    "\n",
    "        # euclid = gen_trajectory_and_get_euclidean(interp, unknown_target, verbose=False)\n",
    "        # avg_reach_error.append(euclid)\n",
    "\n",
    "    avg_cosine = np.mean(avg_cosine)\n",
    "    cosines.append(avg_cosine)\n",
    "\n",
    "    # avg_reach_error = np.mean(avg_reach_error)\n",
    "    # reach_errors.append(avg_reach_error)\n",
    "\n",
    "\n",
    "plt.figure(1)\n",
    "plt.title(\"Average Cosine Similarity Between Predicted and Actual Theta\\nvs K Nearest Neighbours\")\n",
    "plt.ylabel(\"Cosine Similarity\")\n",
    "plt.xlabel(\"K\")\n",
    "plt.plot(range(1,num_k), cosines, linewidth=3)\n",
    "plt.savefig(\"cosin_sims.svg\", format=\"svg\", dpi=1200)\n",
    "\n",
    "# plt.figure(2)\n",
    "# plt.title(\"Reach Error vs K Nearest Neighbours\")\n",
    "# plt.ylabel(\"Reach Error\")\n",
    "# plt.xlabel(\"K\")\n",
    "# plt.plot(range(1,num_k), reach_errors)\n",
    "\n",
    "\n"
   ]
  },
  {
   "cell_type": "code",
   "execution_count": null,
   "metadata": {},
   "outputs": [],
   "source": [
    "from IPython import display\n",
    "\n",
    "def animate_traj_to_point(interpolator, input):\n",
    "    theta_pred = interpolator(input)\n",
    "\n",
    "    theta_reshaped = np.reshape(theta_pred, ( task_info.B, task_info.N))\n",
    "    target_pt = [input[-2], input[-1]]\n",
    "    init_condit = [list(input[:3]), [0,0,0]]\n",
    "\n",
    "    predicted_qdotdot = np.array(  \n",
    "        [\n",
    "            qdotdot_gen(task_info, theta_reshaped, t) for t in numpy_linspace(0, task_info.T, task_info.dt)\n",
    "        ]  \n",
    "        )\n",
    "        \n",
    "    # print(predicted_qdotdot.shape)\n",
    "    time_steps, q, qdot, gen_qdotdot, ani = get_traj_and_simulate2d(\n",
    "        qdotdot     = predicted_qdotdot, \n",
    "        robot_arm   = robot_arm, \n",
    "        x_goal      = target_pt, \n",
    "        init_condit = init_condit, \n",
    "        dt          = task_info.dt\n",
    "        )\n",
    "\n",
    "    video = ani.to_jshtml(fps = 60)\n",
    "    # video = ani.to_html5_video() # to save as mp4, use this\n",
    "    html = display.HTML(video)\n",
    "    display.display(html)"
   ]
  },
  {
   "cell_type": "code",
   "execution_count": null,
   "metadata": {},
   "outputs": [],
   "source": [
    "x_goal, y_goal = 0.4099025974025974, -0.8449675324675323"
   ]
  },
  {
   "cell_type": "code",
   "execution_count": null,
   "metadata": {},
   "outputs": [],
   "source": [
    "init_condit = concat_input[0][0:3]\n",
    "input = [*init_condit, x_goal, y_goal]\n",
    "print(input)\n",
    "idw_interp_5(input)\n",
    "# animate_traj_to_point(nn_interp, input)\n",
    "# animate_traj_to_point(idw_interp_3, input)\n",
    "# animate_traj_to_point(idw_interp_5, input)"
   ]
  },
  {
   "cell_type": "markdown",
   "metadata": {},
   "source": [
    "# Save Models"
   ]
  },
  {
   "cell_type": "code",
   "execution_count": 11,
   "metadata": {},
   "outputs": [],
   "source": [
    "np.save(\"braccio_small_model_5nn\", np.array(idw_interp_5), allow_pickle=True)"
   ]
  },
  {
   "cell_type": "code",
   "execution_count": 13,
   "metadata": {},
   "outputs": [],
   "source": [
    "interp_loaded = np.load(\"/Users/prithvimarwah/Documents/Capstone/intuitive-arm-reach/intuitive-arm-reach/src/robot/braccio_small_model_5nn.npy\", allow_pickle=True).item()"
   ]
  },
  {
   "cell_type": "code",
   "execution_count": null,
   "metadata": {},
   "outputs": [],
   "source": [
    "interp_loaded = interp_loaded.item()"
   ]
  },
  {
   "cell_type": "code",
   "execution_count": null,
   "metadata": {},
   "outputs": [],
   "source": []
  }
 ],
 "metadata": {
  "interpreter": {
   "hash": "3d4c4b6e5958c5d93db5bc66a28c1e895872ce89462b1e8157c467d51e15c20e"
  },
  "kernelspec": {
   "display_name": "Python 3.7.11 ('capstone')",
   "language": "python",
   "name": "python3"
  },
  "language_info": {
   "codemirror_mode": {
    "name": "ipython",
    "version": 3
   },
   "file_extension": ".py",
   "mimetype": "text/x-python",
   "name": "python",
   "nbconvert_exporter": "python",
   "pygments_lexer": "ipython3",
   "version": "3.7.11"
  },
  "orig_nbformat": 4
 },
 "nbformat": 4,
 "nbformat_minor": 2
}
