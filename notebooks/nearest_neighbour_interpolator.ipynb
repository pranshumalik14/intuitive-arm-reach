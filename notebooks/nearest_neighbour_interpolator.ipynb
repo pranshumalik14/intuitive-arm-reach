{
 "cells": [
  {
   "cell_type": "code",
   "execution_count": 1,
   "metadata": {},
   "outputs": [],
   "source": [
    "import pandas as pd\n",
    "import numpy as np\n",
    "import re\n",
    "from ast import literal_eval\n",
    "\n",
    "import sys\n",
    "sys.path.append('../scripts')\n",
    "sys.path.append('../src')\n",
    "\n",
    "from robot_arm import RobotArm, RobotArm2D, RobotArm3D\n",
    "from task_info import TaskInfo, numpy_linspace\n",
    "import data_prep\n",
    "\n",
    "from PIBB_helper import qdotdot_gen\n",
    "from pdff_kinematic_sim_funcs import get_traj_and_simulate2d, get_traj\n",
    "import matplotlib.pyplot as plt\n",
    "from pdff_kinematic_sim_funcs import PIBB\n",
    "from pdff_kinematic_sim_funcs import gen_theta\n",
    "from interpolators import IDW, LinearInterpolator"
   ]
  },
  {
   "cell_type": "markdown",
   "metadata": {},
   "source": [
    "# Load Data"
   ]
  },
  {
   "cell_type": "code",
   "execution_count": 2,
   "metadata": {},
   "outputs": [],
   "source": [
    "data_path = '../training_data/20220327_2215_pibb_2D.csv'\n",
    "task_info_path = '../training_data/20220327_2215_task_info.csv'\n",
    "\n",
    "pibb_data_df, task_info_df = data_prep.load_data(data_path, task_info_path)"
   ]
  },
  {
   "cell_type": "code",
   "execution_count": 3,
   "metadata": {},
   "outputs": [],
   "source": [
    "task_info = data_prep.task_info_from_df(task_info_df)\n",
    "\n",
    "robot_arm = RobotArm2D(\n",
    "    n_dims = 3,\n",
    "    link_lengths = np.array([0.6, 0.3, 0.1])\n",
    ")\n",
    "task_info.robotarm = robot_arm\n",
    "task_info = data_prep.clean_task_info(task_info, task_info_df)"
   ]
  },
  {
   "cell_type": "code",
   "execution_count": 4,
   "metadata": {},
   "outputs": [
    {
     "name": "stdout",
     "output_type": "stream",
     "text": [
      "740\n",
      "Input sizes are: \n",
      " joint angles:  (740, 3) \n",
      "x_target:  (740, 1) \n",
      "y_target:  (740, 1)\n",
      "Output size is:\n",
      " theta:  (740, 5, 3)\n"
     ]
    }
   ],
   "source": [
    "concat_input, flatten_theta, holdout, original_df = data_prep.clean_data(pibb_data_df, task_info)"
   ]
  },
  {
   "cell_type": "markdown",
   "metadata": {},
   "source": [
    "# Scipy Interpolation"
   ]
  },
  {
   "cell_type": "code",
   "execution_count": 13,
   "metadata": {},
   "outputs": [],
   "source": [
    "SCALAR = \"STD\""
   ]
  },
  {
   "cell_type": "code",
   "execution_count": 14,
   "metadata": {},
   "outputs": [],
   "source": [
    "lin_interp = LinearInterpolator(concat_input, flatten_theta, d=True, scalar=SCALAR)"
   ]
  },
  {
   "cell_type": "code",
   "execution_count": 15,
   "metadata": {},
   "outputs": [],
   "source": [
    "del_interp = LinearInterpolator(concat_input, flatten_theta, d=True, scalar=SCALAR)"
   ]
  },
  {
   "cell_type": "code",
   "execution_count": 16,
   "metadata": {},
   "outputs": [],
   "source": [
    "nn_interp = IDW(concat_input, flatten_theta, K=1, scalar=SCALAR)\n",
    "idw_interp_3 = IDW(concat_input, flatten_theta, K=3, scalar=SCALAR)\n",
    "idw_interp_5 = IDW(concat_input, flatten_theta, K=5, scalar=SCALAR)"
   ]
  },
  {
   "cell_type": "markdown",
   "metadata": {},
   "source": [
    "# Visualize Results"
   ]
  },
  {
   "cell_type": "code",
   "execution_count": 9,
   "metadata": {},
   "outputs": [],
   "source": [
    "def get_preds_df(interpolator):\n",
    "    preds_dict = {\"input\":[], \"pred_theta\":[], \"theta\":[]}\n",
    "    for r in range(len(pibb_data_df)):\n",
    "        if r%1000 == 0:\n",
    "            print(r)\n",
    "\n",
    "        pred_t = interpolator(concat_input[r])\n",
    "        preds_dict[\"input\"].append(concat_input[r])\n",
    "        preds_dict[\"pred_theta\"].append(pred_t[0])\n",
    "        preds_dict[\"theta\"].append(flatten_theta[r])\n",
    "    return pd.DataFrame.from_dict(preds_dict)"
   ]
  },
  {
   "cell_type": "code",
   "execution_count": null,
   "metadata": {},
   "outputs": [],
   "source": [
    "nn_preds = get_preds_df(nn_interp)\n",
    "idw_preds = get_preds_df(idw_interp)\n",
    "lin_preds = get_preds_df(lin_interp)"
   ]
  },
  {
   "cell_type": "code",
   "execution_count": null,
   "metadata": {},
   "outputs": [],
   "source": [
    "from IPython import display\n",
    "\n",
    "def animate_result(preds_df, result_index):\n",
    "\n",
    "    print(\"input: \" + str(preds_df[\"input\"][result_index]))\n",
    "    print(\"predicted: \" + str(preds_df[\"pred_theta\"][result_index]))\n",
    "    print(\"actual: \" + str(preds_df[\"theta\"][result_index]))\n",
    "\n",
    "    theta_reshaped = np.reshape(preds_df[\"pred_theta\"][result_index], ( task_info.B, task_info.N))\n",
    "    # print(theta_reshaped)\n",
    "\n",
    "    test_input = preds_df[\"input\"][result_index]\n",
    "    target_pt = [test_input[-2], test_input[-1]]\n",
    "    init_condit = [list(test_input[:3]), [0,0,0]]\n",
    "\n",
    "    # print(target_pt)\n",
    "    # print(init_condit)\n",
    "\n",
    "    predicted_qdotdot = np.array(  \n",
    "        [\n",
    "            qdotdot_gen(task_info, theta_reshaped, t) for t in numpy_linspace(0, task_info.T, task_info.dt)\n",
    "        ]  \n",
    "        )\n",
    "        \n",
    "    # print(predicted_qdotdot.shape)\n",
    "    time_steps, q, qdot, gen_qdotdot, ani = get_traj_and_simulate2d(\n",
    "        qdotdot     = predicted_qdotdot, \n",
    "        robot_arm   = robot_arm, \n",
    "        x_goal      = target_pt, \n",
    "        init_condit = init_condit, \n",
    "        dt          = task_info.dt\n",
    "        )\n",
    "\n",
    "    video = ani.to_jshtml(fps = 60)\n",
    "    # video = ani.to_html5_video() # to save as mp4, use this\n",
    "    html = display.HTML(video)\n",
    "    display.display(html)"
   ]
  },
  {
   "cell_type": "markdown",
   "metadata": {},
   "source": [
    "### Animate Interpolator Trajectory for 5 random points from the dataset"
   ]
  },
  {
   "cell_type": "code",
   "execution_count": null,
   "metadata": {},
   "outputs": [],
   "source": [
    "import random\n",
    "#Generate 5 random numbers between 10 and 30\n",
    "randomlist = random.sample(range(0, len(concat_input)), 5)\n",
    "print(randomlist)\n",
    "\n",
    "for r in randomlist:\n",
    "    animate_result(idw_preds, r)"
   ]
  },
  {
   "cell_type": "markdown",
   "metadata": {},
   "source": [
    "# Unknown Points"
   ]
  },
  {
   "cell_type": "code",
   "execution_count": 9,
   "metadata": {},
   "outputs": [
    {
     "name": "stdout",
     "output_type": "stream",
     "text": [
      "23680\n"
     ]
    }
   ],
   "source": [
    "print(len(holdout))"
   ]
  },
  {
   "cell_type": "code",
   "execution_count": 10,
   "metadata": {},
   "outputs": [],
   "source": [
    "import math\n",
    "\n",
    "def gen_trajectory_and_get_euclidean(interpolator, unknown_data, verbose=True):\n",
    "    pred_unknown = interpolator(unknown_data)\n",
    "    unknown_reshaped = pred_unknown.reshape(task_info.B, task_info.N)\n",
    "\n",
    "\n",
    "    predicted_qdotdot = np.array(  \n",
    "        [\n",
    "            qdotdot_gen(task_info, unknown_reshaped, t) for t in numpy_linspace(0, task_info.T, task_info.dt)\n",
    "        ]  \n",
    "    )\n",
    "        \n",
    "    # print(predicted_qdotdot.shape)\n",
    "    # (qdotdot, robot_arm, x_goal, init_condit, dt)\n",
    "    time_steps, q, qdot, qdotdot = get_traj(\n",
    "        predicted_qdotdot, \n",
    "        robot_arm, \n",
    "        dt = task_info.dt,\n",
    "        init_condit = [unknown_data[0:3], [0,0,0]]\n",
    "    )\n",
    "    \n",
    "    last_q = q[-1, :]\n",
    "    reached_pt = robot_arm.forward_kinematics(last_q)\n",
    "    euc_dist = np.sqrt((reached_pt[0] - unknown_data[-2])**2 + (reached_pt[1] - unknown_data[-1])**2)\n",
    "    if verbose:\n",
    "        print(\"The target pt is: {}; The robot reached {}; Euc distance is : {}\".format([unknown_data[-2], unknown_data[-1]], reached_pt, euc_dist))\n",
    "        print(\"Theta: \" + str(unknown_reshaped))\n",
    "        print(\"Data: \" + str(unknown_data))\n",
    "    return euc_dist"
   ]
  },
  {
   "cell_type": "code",
   "execution_count": 18,
   "metadata": {},
   "outputs": [
    {
     "name": "stdout",
     "output_type": "stream",
     "text": [
      "[0.10225211151778558, 0.11515946807356561, 0.122005576137083, 0.10154897385165465, 0.10154897385165465]\n",
      "[500, 500, 500, 416, 416]\n"
     ]
    },
    {
     "data": {
      "image/png": "[encoded data removed]",
      "text/plain": [
       "<Figure size 432x288 with 1 Axes>"
      ]
     },
     "metadata": {},
     "output_type": "display_data"
    }
   ],
   "source": [
    "import random\n",
    "\n",
    "num_configs = 1\n",
    "num_points = 100\n",
    "\n",
    "interpolation_styles = [\"NN\", \"3NN_IDW\", \"5NN_IDW\", \"LIN\", \"DEL\"]\n",
    "interpolators = [nn_interp, idw_interp_3, idw_interp_5, lin_interp, del_interp]\n",
    "\n",
    "totals = [0.0, 0.0, 0.0, 0.0, 0.0]\n",
    "points = [0, 0, 0, 0, 0]\n",
    "for i in range(5):\n",
    "    randomlist = random.sample(range(0, 2440), num_configs*num_points)\n",
    "    for r_id in randomlist:\n",
    "        init_r = [float(angle) for angle in original_df.iloc[r_id][\"init_joint_angles\"][1:-1].split()]\n",
    "        target_r = [original_df.iloc[r_id][\"x_target\"], original_df.iloc[r_id][\"y_target\"]]\n",
    "        unknown_target = [*[*init_r, *target_r]]\n",
    "        \n",
    "        for i in range(len(interpolators)):\n",
    "            euclid = gen_trajectory_and_get_euclidean(interpolators[i], unknown_target, verbose=False)\n",
    "            if not math.isnan(euclid):\n",
    "                totals[i] += euclid\n",
    "                points[i] += 1\n",
    "                    \n",
    "\n",
    "avg_euclideans = [0.0, 0.0, 0.0, 0.0, 0.0]\n",
    "for i in range(len(totals)):\n",
    "    avg_euclideans[i] = totals[i]/points[i]\n",
    "\n",
    "print(avg_euclideans)\n",
    "print(points)\n",
    "\n",
    "fig = plt.figure()\n",
    "ax = fig.add_axes([0,0,1,1])\n",
    "ax.bar(interpolation_styles, avg_euclideans)\n",
    "plt.show()\n"
   ]
  },
  {
   "cell_type": "code",
   "execution_count": 17,
   "metadata": {},
   "outputs": [
    {
     "name": "stdout",
     "output_type": "stream",
     "text": [
      "[0.7935296157235231, 0.8314683549220527, 0.8432735918430693, 0.819193182732122, 0.819193182732122]\n",
      "[500, 500, 500, 429, 429]\n"
     ]
    },
    {
     "data": {
      "image/png": "[encoded data removed]",
      "text/plain": [
       "<Figure size 432x288 with 1 Axes>"
      ]
     },
     "metadata": {},
     "output_type": "display_data"
    }
   ],
   "source": [
    "import random\n",
    "import math\n",
    "from scipy.spatial.distance import cosine\n",
    "\n",
    "def theta_convert(str):\n",
    "    ret = []\n",
    "    for r in str[1:-1].split(\"\\n\"):\n",
    "        ts = r.strip()[1:-1].split(\" \")\n",
    "        ts = [t for t in ts if t != \"\"]\n",
    "        ts = [float(t) for t in ts]\n",
    "        ret.extend(ts)\n",
    "    return ret\n",
    "\n",
    "num_configs = 1\n",
    "num_points = 100\n",
    "\n",
    "interpolation_styles = [\"NN\", \"3NN_IDW\", \"5NN_IDW\", \"LIN\", \"DEL\"]\n",
    "interpolators = [nn_interp, idw_interp_3, idw_interp_5, lin_interp, del_interp]\n",
    "strat = \"SKIPS\"\n",
    "\n",
    "totals = [0.0, 0.0, 0.0, 0.0, 0.0]\n",
    "points = [0, 0, 0, 0, 0]\n",
    "for i in range(5):\n",
    "    randomlist = random.sample(range(0, 2440), num_configs*num_points)\n",
    "    for r_id in randomlist:\n",
    "        init_r = [float(angle) for angle in original_df.iloc[r_id][\"init_joint_angles\"][1:-1].split()]\n",
    "        target_r = [original_df.iloc[r_id][\"x_target\"], original_df.iloc[r_id][\"y_target\"]]\n",
    "        unknown_target = [*[*init_r, *target_r]]\n",
    "\n",
    "        for i in range(len(interpolators)):\n",
    "            pred = interpolators[i](unknown_target)\n",
    "            if math.isnan(pred[0]):\n",
    "                continue\n",
    "            original = theta_convert(original_df.iloc[r_id][\"Theta\"])\n",
    "            dist = 1-cosine(pred, original)\n",
    "            totals[i] += dist\n",
    "            points[i] += 1\n",
    "                    \n",
    "\n",
    "avg_sim = [0.0, 0.0, 0.0, 0.0, 0.0]\n",
    "for i in range(len(totals)):\n",
    "    if points[i] == 0:\n",
    "        avg_sim[i] = 0\n",
    "    else:\n",
    "        avg_sim[i] = totals[i]/points[i]\n",
    "\n",
    "print(avg_sim)\n",
    "print(points)\n",
    "\n",
    "fig = plt.figure()\n",
    "ax = fig.add_axes([0,0,1,1])\n",
    "ax.bar(interpolation_styles, avg_sim)\n",
    "ax.set_title(\"Avergae Cosine Similarity Between Predicted and Actual Theta\")\n",
    "plt.show()\n"
   ]
  },
  {
   "cell_type": "code",
   "execution_count": null,
   "metadata": {},
   "outputs": [],
   "source": [
    "idw_interp_3([2.64657515,  2.73504186, -1.55626904, 0, 0])[0]"
   ]
  },
  {
   "cell_type": "code",
   "execution_count": null,
   "metadata": {},
   "outputs": [],
   "source": [
    "lin_interp([2.64657515,  2.73504186, -1.55626904, 0, 0])[0]"
   ]
  },
  {
   "cell_type": "code",
   "execution_count": null,
   "metadata": {},
   "outputs": [],
   "source": [
    "nn_interp([2.64657515,  2.73504186, -1.55626904, 0, 0])[0]"
   ]
  },
  {
   "cell_type": "code",
   "execution_count": null,
   "metadata": {},
   "outputs": [],
   "source": [
    "init_conditions = np.unique(concat_input[:, 0:3], axis=0)\n",
    "print(init_conditions)\n",
    "\n",
    "filter_condition = init_conditions[5]\n",
    "filter = (concat_input[:,0] == filter_condition[0]) & (concat_input[:,1] == filter_condition[1]) & (concat_input[:,2] == filter_condition[2])\n",
    "filtered = concat_input[filter]\n",
    "\n",
    "c_xs = filtered[:, -2]\n",
    "c_ys = filtered[:, -1]\n",
    "plt.scatter(x=c_xs, y=c_ys)\n",
    "x_goal = -0.75\n",
    "y_goal = 0.4\n",
    "plt.scatter(x_goal, y_goal)\n",
    "plt.show()"
   ]
  },
  {
   "cell_type": "code",
   "execution_count": null,
   "metadata": {},
   "outputs": [],
   "source": [
    "from IPython import display\n",
    "\n",
    "def animate_traj_to_point(interpolator, input):\n",
    "    theta_pred = interpolator(input)\n",
    "\n",
    "    theta_reshaped = np.reshape(theta_pred, ( task_info.B, task_info.N))\n",
    "    target_pt = [input[-2], input[-1]]\n",
    "    init_condit = [list(input[:3]), [0,0,0]]\n",
    "\n",
    "    predicted_qdotdot = np.array(  \n",
    "        [\n",
    "            qdotdot_gen(task_info, theta_reshaped, t) for t in numpy_linspace(0, task_info.T, task_info.dt)\n",
    "        ]  \n",
    "        )\n",
    "        \n",
    "    # print(predicted_qdotdot.shape)\n",
    "    time_steps, q, qdot, gen_qdotdot, ani = get_traj_and_simulate2d(\n",
    "        qdotdot     = predicted_qdotdot, \n",
    "        robot_arm   = robot_arm, \n",
    "        x_goal      = target_pt, \n",
    "        init_condit = init_condit, \n",
    "        dt          = task_info.dt\n",
    "        )\n",
    "\n",
    "    video = ani.to_jshtml(fps = 60)\n",
    "    # video = ani.to_html5_video() # to save as mp4, use this\n",
    "    html = display.HTML(video)\n",
    "    display.display(html)"
   ]
  },
  {
   "cell_type": "code",
   "execution_count": null,
   "metadata": {},
   "outputs": [],
   "source": [
    "x_goal, y_goal = 0.4099025974025974, -0.8449675324675323"
   ]
  },
  {
   "cell_type": "code",
   "execution_count": null,
   "metadata": {},
   "outputs": [],
   "source": [
    "init_condit = concat_input[0][0:3]\n",
    "input = [*init_condit, x_goal, y_goal]\n",
    "animate_traj_to_point(nn_interp, input)\n",
    "animate_traj_to_point(idw_interp_3, input)\n",
    "animate_traj_to_point(idw_interp_5, input)"
   ]
  },
  {
   "cell_type": "markdown",
   "metadata": {},
   "source": [
    "# Save Models"
   ]
  },
  {
   "cell_type": "code",
   "execution_count": null,
   "metadata": {},
   "outputs": [],
   "source": [
    "np.save(\"interpolator_linear_rej\", np.array(interp), allow_pickle=True)"
   ]
  },
  {
   "cell_type": "code",
   "execution_count": null,
   "metadata": {},
   "outputs": [],
   "source": [
    "interp_loaded = np.load(\"interpolator.npy\", allow_pickle=True)"
   ]
  },
  {
   "cell_type": "code",
   "execution_count": null,
   "metadata": {},
   "outputs": [],
   "source": [
    "interp_loaded = interp_loaded.item()"
   ]
  },
  {
   "cell_type": "code",
   "execution_count": null,
   "metadata": {},
   "outputs": [],
   "source": []
  }
 ],
 "metadata": {
  "interpreter": {
   "hash": "3d4c4b6e5958c5d93db5bc66a28c1e895872ce89462b1e8157c467d51e15c20e"
  },
  "kernelspec": {
   "display_name": "Python 3.7.11 ('capstone')",
   "language": "python",
   "name": "python3"
  },
  "language_info": {
   "codemirror_mode": {
    "name": "ipython",
    "version": 3
   },
   "file_extension": ".py",
   "mimetype": "text/x-python",
   "name": "python",
   "nbconvert_exporter": "python",
   "pygments_lexer": "ipython3",
   "version": "3.7.11"
  },
  "orig_nbformat": 4
 },
 "nbformat": 4,
 "nbformat_minor": 2
}
